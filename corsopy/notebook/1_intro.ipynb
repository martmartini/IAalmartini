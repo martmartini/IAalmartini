{
 "cells": [
  {
   "cell_type": "markdown",
   "metadata": {
    "id": "KTHSfMLdN9gs"
   },
   "source": [
    "# Introduzione alla programmazione\n",
    "Un computer è basato su un sistema a microprocessore che può essere semplificato come un insieme dei circuiti che leggono ed eseguono le istruzioni del software, eseguendo calcoli o più in generale operazioni logiche.\n",
    "\n",
    "Le istruzioni che possono essere accettate da un microprocessore sono scritte in forma di numeri binari.\n",
    "Un insieme di istruzioni, programma, nella sua forma binaria, linguaggio macchina, risulta difficilmente leggibile.\n",
    "\n",
    "Per questo sono stati ideati i **linguaggi di alto livello** che vengono **tradotti** da software specifico in linguaggio macchina.  Ogni traduttore è in grado di comprendere e tradurre un solo linguaggio.\n",
    "\n",
    "Per tradurre un linguaggio esistono due modi:\n",
    "1.   **compilatore**, PRIMA traduce tutto il programma sorgente e POI si esegue la versione tradotta.\n",
    "2.   **interprete**, traduce ed esegue il programma sorgente\n",
    "ISTRUZIONE PER ISTRUZIONE.\n",
    "\n",
    "L'esecuzione di un programma compilato (C, Fortran, ...) è più veloce\n",
    "dell'esecuzione di un programma interpretato.\n",
    "I linguaggi interpretati (Python, JavaScript, PhP, ...) sono tipicamente più flessibili e\n",
    "semplici da utilizzare.\n",
    "\n",
    "**Colab** è una **piattaforma** che permette di eseguire codice scritto in **linguaggio Python** tramite interprete e di riportare anche del testo con delle informazioni.\n",
    "\n"
   ]
  },
  {
   "cell_type": "markdown",
   "metadata": {
    "id": "nT6uoMFctKC8"
   },
   "source": [
    "## Linguaggio di progetto\n",
    "Per poter scrivere un programma dobbiamo pensare di rivolgerci a un esecutore, capace di svolgere\n",
    "azioni descritte da istruzioni, scritte in un particolare **linguaggio**. Ipotizziamo\n",
    "poi che l'esecutore sia a disposizione di un utente (non necessariamente chi ha\n",
    "scritto l'algoritmo) che si serve dell'esecuzione dell'algoritmo.\n",
    "\n",
    "L'esecutore sa comprendere le seguenti istruzioni:\n",
    "1.   **acquisire dati in input** (numeri, espressioni, testi....) ad esempio\n",
    "   *   da tastiera:   ```\n",
    "  input()\n",
    "  ```\n",
    "   *   da file `var_lettura = open(\"esempio1.txt\", \"r\").read()`\n",
    "   * estrarre dati da web, web scraper\n",
    "\n",
    "2.   **comunicare risultati come output** ad esempio:\n",
    "    *   stampare a video tramite `print()`\n",
    "    *   scrivere un dato su file `file.write()`\n",
    "3.   **memorizzare un dato** associandolo al nome di una variabile\n",
    "```\n",
    "variabile=\n",
    "```\n",
    "4.   **svolgere operazioni** fra dati tra loro coerenti\n",
    "```\n",
    "a+b\n",
    "```\n",
    "\n",
    "Sarebbe buona prassi tradurre la sequenza di istruzioni in linguaggio di progetto prima di passare alla programmazione vera e propria."
   ]
  },
  {
   "cell_type": "markdown",
   "metadata": {
    "id": "YRK9M7eWtX47"
   },
   "source": [
    "## Python un linguaggio di programmazione orientata agli oggetti\n",
    "\n",
    "Programmare a oggetti consente di semplificare e potenziare i nostri programmi creando dei modelli astratti che si possono riutilizzare. Dobbiamo quindi pensare a dei modelli che siano costituiti da:\n",
    "1. una serie di dati,\n",
    "2. una serie di funzioni chiamate metodi che operano su questi dati.\n",
    "\n",
    "Ad esempio un oggetto stringa di caratteri avrà associato anche dei metodi che operano sulla stringa: ricercano caratteri, cambiano maiuscole in minuscole, calcolano la lunghezza, ecc.\n",
    "\n",
    "Ogni oggetto ha quindi associate una serie di istruzioni che operano su di esso e che ci permettono di non dover riscrivere ogni volta nuove funzioni e parti di codice."
   ]
  },
  {
   "cell_type": "markdown",
   "metadata": {
    "id": "_CIHYZqDJ1gE"
   },
   "source": [
    "# Input e Output"
   ]
  },
  {
   "cell_type": "markdown",
   "metadata": {
    "id": "xAQiED8cQaq0"
   },
   "source": [
    "## Da tastiera\n",
    "\n",
    "Come prendere informazioni in ingresso e mostrarle in uscita? Proviamo a chiedere un dato da tastiera usando la funzione `input()`, salvare il dato in una variabile e stampare a video una frase contenente il dato chiesto tramite la funzione `print()`.\n",
    "\n",
    "In linguaggio di progetto significa dire all'esecutore di svolgere le seguenti istruzioni:\n",
    "```\n",
    "Inizio\n",
    "SCRIVI “Come ti chiami?”\n",
    "LEGGI nome\n",
    "SCRIVI “Il tuo nome è {nome}”\n",
    "Fine\n",
    "```\n"
   ]
  },
  {
   "cell_type": "code",
   "execution_count": null,
   "metadata": {
    "colab": {
     "base_uri": "https://localhost:8080/"
    },
    "executionInfo": {
     "elapsed": 4402,
     "status": "ok",
     "timestamp": 1700496268743,
     "user": {
      "displayName": "GIULIA GAREGNANI",
      "userId": "07189878603650634025"
     },
     "user_tz": -60
    },
    "id": "7RcQZMmTt0NQ",
    "outputId": "b78e0f6b-6c9d-496f-a6de-8308e7a151bd"
   },
   "outputs": [
    {
     "name": "stdout",
     "output_type": "stream",
     "text": [
      "Come ti chiami? Giulia\n",
      "Giulia\n",
      "Martina\n"
     ]
    }
   ],
   "source": [
    "nome=input(\"Come ti chiami? \")\n",
    "print(nome)\n",
    "nome = \"Martina\""
   ]
  },
  {
   "cell_type": "code",
   "execution_count": null,
   "metadata": {
    "colab": {
     "base_uri": "https://localhost:8080/"
    },
    "executionInfo": {
     "elapsed": 4,
     "status": "ok",
     "timestamp": 1700496508675,
     "user": {
      "displayName": "GIULIA GAREGNANI",
      "userId": "07189878603650634025"
     },
     "user_tz": -60
    },
    "id": "USPxAsw-eus0",
    "outputId": "7330a41a-f3e9-45f5-8ad2-0d1d35143f4c"
   },
   "outputs": [
    {
     "name": "stdout",
     "output_type": "stream",
     "text": [
      "Il tuo nome è Mar\n"
     ]
    }
   ],
   "source": [
    "print(f\"Il tuo nome è {nome[0:3]}\")"
   ]
  },
  {
   "cell_type": "markdown",
   "metadata": {
    "id": "1kH9La5Br6EJ"
   },
   "source": [
    "## Da file\n",
    "\n",
    "Come leggere e scrivere informazioni da file?\n",
    "\n",
    "Creiamo un file .txt con il nostro nome e carichiamo il file sulla piattaforma utilizzando il menù a tendina sulla sinistra. Si genera un file temporaneo.\n",
    "Chiediamo all'interprete di leggere il contenuto del file e memorizzarlo nella variabile nome.\n",
    "In linguaggio di progetto significa dire all'esecutore di svolgere le seguenti istruzioni:\n",
    "```\n",
    "Inizio\n",
    "APRI il file\n",
    "LEGGI il contenuto\n",
    "CHIUDI il file\n",
    "Fine\n",
    "```\n",
    "\n",
    "Creiamo poi un nuovo file \"info.txt\" in cui scriviamo il nome e il cognome\n",
    "\n",
    "```\n",
    "Inizio\n",
    "APRI un nuovo file\n",
    "SCRIVI nome cognome\n",
    "CHIUDI il file\n",
    "Fine\n",
    "```\n"
   ]
  },
  {
   "cell_type": "code",
   "execution_count": null,
   "metadata": {
    "colab": {
     "base_uri": "https://localhost:8080/"
    },
    "executionInfo": {
     "elapsed": 350,
     "status": "ok",
     "timestamp": 1700659654473,
     "user": {
      "displayName": "GIULIA GAREGNANI",
      "userId": "07189878603650634025"
     },
     "user_tz": -60
    },
    "id": "dU9tcDT8AEEj",
    "outputId": "8819c457-1d2c-4fc2-9c5f-0c38e07daa14"
   },
   "outputs": [
    {
     "name": "stdout",
     "output_type": "stream",
     "text": [
      "Giulia\n"
     ]
    }
   ],
   "source": [
    "file_nome = open(\"/content/nome.txt\")\n",
    "a=file_nome.read()\n",
    "print(a)\n",
    "file_nome.close()\n",
    "file_nome = open(\"/content/nome.txt\",\"w+\")\n",
    "nome_cognome = \"Giulia Garegnani\"\n",
    "file_nome.write(nome_cognome)\n",
    "file_nome.close()\n"
   ]
  },
  {
   "cell_type": "markdown",
   "metadata": {
    "id": "8v2aVe_SA1nb"
   },
   "source": [
    "La sintassi si python permette di scrivere parti di codice in maniera più leggibile. Attraverso il **with statement** si può chiudere il file in automatico.\n",
    "\n",
    "Provare a modificare il seguente codice assegnando alla variabile nome il contenuto del file.\n",
    "\n",
    "```\n",
    "with open(\"nome.txt\") as my_file:\n",
    "    print(my_file.read())\n",
    "with open(\"hello.txt\") as my_file:\n",
    "    my_file.write(f\"Hello {nome}!\")\n",
    "```"
   ]
  },
  {
   "cell_type": "code",
   "execution_count": null,
   "metadata": {
    "id": "nBafYQlTFCED"
   },
   "outputs": [],
   "source": [
    "with open(\"/content/nome.txt\", \"r\") as file_nome:\n",
    "    nome=file_nome.read()\n",
    "# close\n",
    "# istruzioni\n",
    "\n",
    "with open(\"/content/hello.txt\", \"w+\") as file_ciao:\n",
    "    file_ciao.write(f\"Hello {nome}!\")"
   ]
  },
  {
   "cell_type": "markdown",
   "metadata": {
    "id": "HqoeFBO7MS9j"
   },
   "source": [
    "#  Tipi di dato\n",
    "\n",
    "In python **non esiste il concetto di dichiarazione**: quando si vuole utilizzare una variabile le si assegna un valore, e **il valore assegnato determina automaticamente il tipo di variabile e le operazioni che si possono effettuare** su di essa, fino a che la stessa variabile non viene usata per referenziare un altro valore o un altro oggetto. Se avete dubbi sul tipo di un'espressione, la funzione type restituisce il tipo corrispondente.\n",
    "\n",
    "I dati fondamentali:\n",
    "*   interi\n",
    "*   float\n",
    "\n",
    "I tipi strutturati sono\n",
    "* le liste\n",
    "* le tuple\n",
    "* le stringhe\n",
    "* gli insiemi\n",
    "* i dizionari"
   ]
  },
  {
   "cell_type": "markdown",
   "metadata": {
    "id": "W8eD59YLQiQp"
   },
   "source": [
    "## Numeri, stringhe e booleani\n",
    "Proviamo a creare tre variabili: nome, anni, altezza.\n",
    "\n",
    "\n",
    "```\n",
    "nome = \"Giulia\"\n",
    "anni = 41\n",
    "altezza =1.73\n",
    "maschio = False\n",
    "femmina = True\n",
    "```\n",
    "\n",
    "\n",
    "Verifichiamo il tipo di dato e stampiamo a video una frase contenente le tre variabili. Creiamo una variabile booleana e verifichiamo il tipo. Per verificare il tipo di dato si usa la funzione type()"
   ]
  },
  {
   "cell_type": "code",
   "execution_count": null,
   "metadata": {
    "colab": {
     "base_uri": "https://localhost:8080/"
    },
    "executionInfo": {
     "elapsed": 259,
     "status": "ok",
     "timestamp": 1700497026145,
     "user": {
      "displayName": "GIULIA GAREGNANI",
      "userId": "07189878603650634025"
     },
     "user_tz": -60
    },
    "id": "I4dV6m3INd_1",
    "outputId": "4274260c-fb4e-401a-e6eb-350afd305978"
   },
   "outputs": [
    {
     "name": "stdout",
     "output_type": "stream",
     "text": [
      "Giulia è <class 'str'>\n",
      "41 è <class 'int'>\n",
      "1.73 è <class 'float'>\n",
      "False è <class 'bool'>\n",
      "Il risultato è 42.73\n"
     ]
    }
   ],
   "source": [
    "nome = \"Giulia\"\n",
    "print(f\"{nome} è {type(nome)}\")\n",
    "anni = 41\n",
    "print(f\"{anni} è {type(anni)}\")\n",
    "altezza =1.73\n",
    "print(f\"{altezza} è {type(altezza)}\")\n",
    "maschio = False\n",
    "print(f\"{maschio} è {type(maschio)}\")\n",
    "femmina = True\n",
    "print(f\"Il risultato è {anni+altezza}\")"
   ]
  },
  {
   "cell_type": "markdown",
   "metadata": {
    "id": "iqj2KGDtQUDe"
   },
   "source": [
    "Per poter effettuare operazioni bisogna essere sicuri che il tipo di dato sia coerente. Non posso sommare interi con stringhe.\n",
    "\n",
    "Proviamo a convertire un intero in stringa e viceversa. Convertire una stringa in float. I comandi da utilizzare sono:\n",
    "\n",
    "```\n",
    "str() int() float()\n",
    "```"
   ]
  },
  {
   "cell_type": "code",
   "execution_count": null,
   "metadata": {
    "colab": {
     "base_uri": "https://localhost:8080/"
    },
    "executionInfo": {
     "elapsed": 2955,
     "status": "ok",
     "timestamp": 1700497917635,
     "user": {
      "displayName": "GIULIA GAREGNANI",
      "userId": "07189878603650634025"
     },
     "user_tz": -60
    },
    "id": "37IjvO9DRJd1",
    "outputId": "483106c8-6733-40ab-ce96-d058c2a42e11"
   },
   "outputs": [
    {
     "name": "stdout",
     "output_type": "stream",
     "text": [
      "5\n",
      "<class 'str'>\n",
      "105\n"
     ]
    }
   ],
   "source": [
    "a=input()\n",
    "print(type(a))\n",
    "b = \"10\" + a\n",
    "print(b)"
   ]
  },
  {
   "cell_type": "code",
   "execution_count": null,
   "metadata": {
    "colab": {
     "base_uri": "https://localhost:8080/"
    },
    "executionInfo": {
     "elapsed": 3969,
     "status": "ok",
     "timestamp": 1700497845313,
     "user": {
      "displayName": "GIULIA GAREGNANI",
      "userId": "07189878603650634025"
     },
     "user_tz": -60
    },
    "id": "_tpCH5EQirgE",
    "outputId": "14d00ab3-185e-49d1-ef10-7fb5c46b0a64"
   },
   "outputs": [
    {
     "name": "stdout",
     "output_type": "stream",
     "text": [
      "15\n",
      "<class 'int'>\n"
     ]
    }
   ],
   "source": [
    "a=int(input())\n",
    "print(type(a))\n",
    "b=10+a"
   ]
  },
  {
   "cell_type": "markdown",
   "metadata": {
    "id": "qL-PXc9pOYVn"
   },
   "source": [
    "## Liste\n",
    "Una lista viene indicata separando i suoi elementi tramite virgola e racchiudendo il tutto tra parentesi quadre.\n",
    "\n",
    "Una lista è una struttura dati eterogenea e ad accesso posizionale:\n",
    "1. **eterogenea, in quanto non è vincolata a contenere dati dello stesso tipo**. Un esempio di lista eterogena è la seguente\n",
    "`info_studente=[\"Mario\", \"Rossi\", 18, \"1 A\", 6.75]`\n",
    "2. ad accesso posizionale siccome gli **elementi della struttura sono memorizzati in sequenza** ed è possibile accedere direttamente a uno di essi specificando la relativa posizione nella sequenza stessa. **La prima posizione corrisponde all'indice 0**.\n",
    "\n",
    "Proviamo a:\n",
    "\n",
    "1. Creare una lista con le informazioni di uno studente e accedere al secondo elemento tramite l'accesso posizionale `info_studente[1]`.\n",
    "\n",
    "2. Selezionare alcuni elementi della lista, selezionare i primi due elementi `[0:2]`, selezionare gli ultimi tre `[-3:]`.\n",
    "\n",
    "3. Calcolare la lunghezza della lista tramite la funzione `len(info_studente)`\n",
    "4. Cambiare il valore di un elemento della lista tramite accesso posizionale"
   ]
  },
  {
   "cell_type": "code",
   "execution_count": null,
   "metadata": {
    "colab": {
     "base_uri": "https://localhost:8080/"
    },
    "executionInfo": {
     "elapsed": 239,
     "status": "ok",
     "timestamp": 1700498475870,
     "user": {
      "displayName": "GIULIA GAREGNANI",
      "userId": "07189878603650634025"
     },
     "user_tz": -60
    },
    "id": "tfp2ywMax_NK",
    "outputId": "67823e0e-4647-44d8-c258-a51ca6471765"
   },
   "outputs": [
    {
     "name": "stdout",
     "output_type": "stream",
     "text": [
      "Rossi\n",
      "['Mario', 'Rossi']\n",
      "[18, '1 A', 6.75]\n"
     ]
    }
   ],
   "source": [
    "info_studente=[\"Mario\", \"Rossi\", 18, \"1 A\", 6.75]\n",
    "print(info_studente[1])\n",
    "print(info_studente[0:2])\n",
    "print(info_studente[-3:])"
   ]
  },
  {
   "cell_type": "code",
   "execution_count": null,
   "metadata": {
    "colab": {
     "base_uri": "https://localhost:8080/"
    },
    "executionInfo": {
     "elapsed": 4,
     "status": "ok",
     "timestamp": 1700498864333,
     "user": {
      "displayName": "GIULIA GAREGNANI",
      "userId": "07189878603650634025"
     },
     "user_tz": -60
    },
    "id": "4AzeMarfnBRL",
    "outputId": "e691751e-8410-43fb-d62e-d39c9b8288ea"
   },
   "outputs": [
    {
     "name": "stdout",
     "output_type": "stream",
     "text": [
      "5\n"
     ]
    }
   ],
   "source": [
    "info_studente=[\"Mario\", \"Rossi\", 18, [1, \"A\"], 6.75, [3,5,7]]\n",
    "print(info_studente[5][1])"
   ]
  },
  {
   "cell_type": "code",
   "execution_count": null,
   "metadata": {
    "colab": {
     "base_uri": "https://localhost:8080/"
    },
    "executionInfo": {
     "elapsed": 219,
     "status": "ok",
     "timestamp": 1700498707440,
     "user": {
      "displayName": "GIULIA GAREGNANI",
      "userId": "07189878603650634025"
     },
     "user_tz": -60
    },
    "id": "rrkQu8-FnrqB",
    "outputId": "adc1f0f8-1352-4dbd-ec09-87af89bc6739"
   },
   "outputs": [
    {
     "data": {
      "text/plain": [
       "6"
      ]
     },
     "execution_count": 40,
     "metadata": {},
     "output_type": "execute_result"
    }
   ],
   "source": [
    "len(info_studente)"
   ]
  },
  {
   "cell_type": "code",
   "execution_count": null,
   "metadata": {
    "colab": {
     "base_uri": "https://localhost:8080/"
    },
    "executionInfo": {
     "elapsed": 381,
     "status": "ok",
     "timestamp": 1700498777005,
     "user": {
      "displayName": "GIULIA GAREGNANI",
      "userId": "07189878603650634025"
     },
     "user_tz": -60
    },
    "id": "Xoz5BrPnn0h4",
    "outputId": "1fbfd3e5-1d0d-4bed-a1b4-0e638f12b8c4"
   },
   "outputs": [
    {
     "name": "stdout",
     "output_type": "stream",
     "text": [
      "['Mario', 'Rossi', 18, '1A', 6.75, [3, 5, 7]]\n"
     ]
    }
   ],
   "source": [
    "info_studente[3] = \"1A\"\n",
    "print(info_studente)"
   ]
  },
  {
   "cell_type": "markdown",
   "metadata": {
    "id": "zYOq-cLhp8n8"
   },
   "source": [
    "Python è inoltre un linguaggio di programmazione orientato a **oggetti** e le liste (così come gli altri tipi di dati che vedremo più avanti) sono a tutti gli effetti oggetti su cui è possibile invocare **[metodi](https://docs.python.org/3/tutorial/datastructures.html.)** che sono funzioni associate.\n",
    "\n",
    "Proviamo a utilizzare alcuni metodi sulla lista creata in precedenza e in particolare:\n",
    "\n",
    "1.   Aggiungere un elemento alla lista utilizzando il metodo `list.append()`\n",
    "2.   Unire alla lista `info_studente` gli elementi di un'altra lista `[\"via Ticino\", 23, \"Milano\"]` utilizzando il metodo `list.extend()`\n",
    "\n"
   ]
  },
  {
   "cell_type": "code",
   "execution_count": null,
   "metadata": {
    "id": "CgB8q2p5BuAk"
   },
   "outputs": [],
   "source": [
    "info_studente.append(\"Martino Martini\")"
   ]
  },
  {
   "cell_type": "code",
   "execution_count": null,
   "metadata": {
    "colab": {
     "base_uri": "https://localhost:8080/"
    },
    "executionInfo": {
     "elapsed": 4,
     "status": "ok",
     "timestamp": 1700498986439,
     "user": {
      "displayName": "GIULIA GAREGNANI",
      "userId": "07189878603650634025"
     },
     "user_tz": -60
    },
    "id": "5DKF1dtToyQH",
    "outputId": "4ded7de8-ce34-476b-f631-ff95d2744f94"
   },
   "outputs": [
    {
     "name": "stdout",
     "output_type": "stream",
     "text": [
      "['Mario', 'Rossi', 18, [1, 'A'], 6.75, [3, 5, 7], 'Martino Martini']\n"
     ]
    }
   ],
   "source": [
    "print(info_studente)"
   ]
  },
  {
   "cell_type": "code",
   "execution_count": null,
   "metadata": {
    "colab": {
     "base_uri": "https://localhost:8080/"
    },
    "executionInfo": {
     "elapsed": 211,
     "status": "ok",
     "timestamp": 1700499094474,
     "user": {
      "displayName": "GIULIA GAREGNANI",
      "userId": "07189878603650634025"
     },
     "user_tz": -60
    },
    "id": "6z7sLHFOo3aP",
    "outputId": "6ed95865-427e-40a6-b6f5-f0bc793438de"
   },
   "outputs": [
    {
     "name": "stdout",
     "output_type": "stream",
     "text": [
      "['Mario', 'Rossi', 18, [1, 'A'], 6.75, [3, 5, 7], 'Martino Martini', 'Via Perlasca', 4, ['Via Perlasca', 4]]\n"
     ]
    }
   ],
   "source": [
    "info_studente.append([\"Via Perlasca\", 4])\n",
    "print(info_studente)"
   ]
  },
  {
   "cell_type": "markdown",
   "metadata": {
    "id": "pZ5Er9oieY53"
   },
   "source": [
    "## Tuple e set\n",
    "Le tuple sono liste di elementi immutabili. Una tupla si crea tramite parentesi tonde e gli elementi sono separati da virgole.\n",
    "**Le stringhe sono implementate come tuple di caratteri**, e quindi su di esse è possibile eseguire tutte le operazioni che si eseguono sulle tuple.\n",
    "\n",
    "Proviamo a creare una lista di elementi immutabili e scompattare la tupla in variabili utilizzando `tup=(1,4,5)` e `a,b=tup`."
   ]
  },
  {
   "cell_type": "code",
   "execution_count": null,
   "metadata": {
    "colab": {
     "base_uri": "https://localhost:8080/"
    },
    "executionInfo": {
     "elapsed": 298,
     "status": "ok",
     "timestamp": 1700499496870,
     "user": {
      "displayName": "GIULIA GAREGNANI",
      "userId": "07189878603650634025"
     },
     "user_tz": -60
    },
    "id": "NGd7Pm2Pezpv",
    "outputId": "267a8f3a-6e35-4c4c-f665-cdc6e21657e9"
   },
   "outputs": [
    {
     "name": "stdout",
     "output_type": "stream",
     "text": [
      "1\n"
     ]
    }
   ],
   "source": [
    "tup=(1,4,5)\n",
    "tup[0]\n",
    "a,b,c = tup\n",
    "print(a)\n"
   ]
  },
  {
   "cell_type": "markdown",
   "metadata": {
    "id": "ygJm1z42fVza"
   },
   "source": [
    "Gli insiemi (set) non hanno elementi ripetuti.\n",
    "\n",
    "Proviamo a creare una lista che non contiene doppioni usando la funzione set a partire dalla lista delle lettere del tuo nome o da una lista con elementi ripetuti usando la funzione `set()`."
   ]
  },
  {
   "cell_type": "code",
   "execution_count": null,
   "metadata": {
    "colab": {
     "base_uri": "https://localhost:8080/"
    },
    "executionInfo": {
     "elapsed": 10,
     "status": "ok",
     "timestamp": 1700499608916,
     "user": {
      "displayName": "GIULIA GAREGNANI",
      "userId": "07189878603650634025"
     },
     "user_tz": -60
    },
    "id": "rYyxfl1Jfilf",
    "outputId": "6dc071eb-90ee-45fa-ce0f-3e0ac1ec2156"
   },
   "outputs": [
    {
     "name": "stdout",
     "output_type": "stream",
     "text": [
      "{'a', 'g', 'l', 'i', 'u'}\n"
     ]
    }
   ],
   "source": [
    "lettere = [\"g\", \"i\", \"u\", \"l\", \"i\", \"a\"]\n",
    "insieme_lettere = set(lettere)\n",
    "print(insieme_lettere)"
   ]
  },
  {
   "cell_type": "markdown",
   "metadata": {
    "id": "ffKbpf8tgY03"
   },
   "source": [
    "## Dizionari\n",
    "\n",
    " È possibile pensare a essi come a insiemi di coppie (chiave, valore), dove una data chiave non occorre più di una volta. La sintassi per salvare un dato in formato chiave valore e accedere al dato utilizzando la chiave è la seguente.\n",
    "```\n",
    "dic_studente={\"nome\":\"Mario\", \"cognome\": \"Rossi\", \"anni\": 18, \"classe\": \"1 A\", \"media\": 6.75}\n",
    "print(my_dict['nome'])\n",
    "```\n",
    "Anche per il dizionario come per le liste esistono dei metodi. Ad esempio, per aggiungere una coppia chiave valore:\n",
    "\n",
    "```\n",
    "my_dic.update({\"carenze\":[\"matematica\", \"inglese\"]})\n",
    "```\n",
    "\n",
    "\n"
   ]
  },
  {
   "cell_type": "code",
   "execution_count": null,
   "metadata": {
    "colab": {
     "base_uri": "https://localhost:8080/"
    },
    "executionInfo": {
     "elapsed": 243,
     "status": "ok",
     "timestamp": 1700500519075,
     "user": {
      "displayName": "GIULIA GAREGNANI",
      "userId": "07189878603650634025"
     },
     "user_tz": -60
    },
    "id": "r8qRREDg5GA0",
    "outputId": "f9586ffd-639a-41d8-9b8f-a46ff767bb1c"
   },
   "outputs": [
    {
     "name": "stdout",
     "output_type": "stream",
     "text": [
      "Mario\n"
     ]
    }
   ],
   "source": [
    "dic_studente={\"nome\":\"Mario\", \"cognome\": \"Rossi\", \"anni\": 18, \"classe\": \"1 A\", \"media\": 6.75}\n",
    "type(dic_studente)\n",
    "print(dic_studente['nome'])"
   ]
  },
  {
   "cell_type": "code",
   "execution_count": null,
   "metadata": {
    "colab": {
     "base_uri": "https://localhost:8080/"
    },
    "executionInfo": {
     "elapsed": 4,
     "status": "ok",
     "timestamp": 1700500521732,
     "user": {
      "displayName": "GIULIA GAREGNANI",
      "userId": "07189878603650634025"
     },
     "user_tz": -60
    },
    "id": "r9fPtd9KszoZ",
    "outputId": "002bf343-4d43-4fd8-eace-40063b1f7941"
   },
   "outputs": [
    {
     "name": "stdout",
     "output_type": "stream",
     "text": [
      "{'nome': 'Mario', 'cognome': 'Rossi', 'anni': 18, 'classe': '1 A', 'media': 6.75, 'carenze': ['matematica', 'inglese', 'tedesco']}\n"
     ]
    }
   ],
   "source": [
    "dic_studente.get(\"nomi\")\n",
    "dic_studente.update({\"carenze\":[\"matematica\", \"inglese\", \"tedesco\"]})\n",
    "print(dic_studente)"
   ]
  },
  {
   "cell_type": "code",
   "execution_count": null,
   "metadata": {
    "id": "Ws55GVw2uuIo"
   },
   "outputs": [],
   "source": [
    "dic_studente.update({\"carenze\":[\"matematica\"]})"
   ]
  },
  {
   "cell_type": "code",
   "execution_count": null,
   "metadata": {
    "id": "Bi3tFrxqupDf"
   },
   "outputs": [],
   "source": [
    "# appende alla lista la stringa inglese\n",
    "dic_studente[\"carenze\"].append(\"inglese\")\n",
    "# modifica l'elemento con chiave \"carenze\" come update\n",
    "dic_studente[\"carenze\"]=[\"tedesco\", \"matematica\"]"
   ]
  },
  {
   "cell_type": "code",
   "execution_count": null,
   "metadata": {
    "colab": {
     "base_uri": "https://localhost:8080/"
    },
    "executionInfo": {
     "elapsed": 4,
     "status": "ok",
     "timestamp": 1700500844740,
     "user": {
      "displayName": "GIULIA GAREGNANI",
      "userId": "07189878603650634025"
     },
     "user_tz": -60
    },
    "id": "MnfbbrRsvyDZ",
    "outputId": "08188a17-5c53-4401-aa83-c16d844040b3"
   },
   "outputs": [
    {
     "name": "stdout",
     "output_type": "stream",
     "text": [
      "{'cognome': 'Rossi', 'anni': 18, 'classe': '1 A', 'media': 6.75, 'carenze': ['matematica', 'inglese']}\n"
     ]
    }
   ],
   "source": [
    "del(dic_studente[\"nome\"])\n",
    "print(dic_studente)"
   ]
  },
  {
   "cell_type": "code",
   "execution_count": null,
   "metadata": {
    "colab": {
     "base_uri": "https://localhost:8080/"
    },
    "executionInfo": {
     "elapsed": 232,
     "status": "ok",
     "timestamp": 1700501205314,
     "user": {
      "displayName": "GIULIA GAREGNANI",
      "userId": "07189878603650634025"
     },
     "user_tz": -60
    },
    "id": "y9m0tKecwBqQ",
    "outputId": "3fc5210a-7166-4089-f64d-07ad9d96d366"
   },
   "outputs": [
    {
     "name": "stdout",
     "output_type": "stream",
     "text": [
      "['inglese', 'matematica']\n"
     ]
    },
    {
     "data": {
      "text/plain": [
       "0"
      ]
     },
     "execution_count": 88,
     "metadata": {},
     "output_type": "execute_result"
    }
   ],
   "source": [
    "lista_carenze = [\"inglese\", \"matematica\"]\n",
    "print(lista_carenze)\n",
    "del(lista_carenze[lista_carenze.index(\"inglese\")])"
   ]
  },
  {
   "cell_type": "code",
   "execution_count": null,
   "metadata": {
    "id": "EgLKzmhuxfE1"
   },
   "outputs": [],
   "source": [
    "lista_carenze = [\"inglese\", \"matematica\"]\n",
    "lista_carenze.remove(\"inglese\")"
   ]
  },
  {
   "cell_type": "code",
   "execution_count": null,
   "metadata": {
    "colab": {
     "base_uri": "https://localhost:8080/"
    },
    "executionInfo": {
     "elapsed": 4,
     "status": "ok",
     "timestamp": 1700500423549,
     "user": {
      "displayName": "GIULIA GAREGNANI",
      "userId": "07189878603650634025"
     },
     "user_tz": -60
    },
    "id": "uhC1hyvruJ7P",
    "outputId": "4f61db2d-f8a9-4a17-c676-2908cd64856a"
   },
   "outputs": [
    {
     "name": "stdout",
     "output_type": "stream",
     "text": [
      "{}\n"
     ]
    }
   ],
   "source": [
    "dic_studente.clear()\n",
    "print(dic_studente)"
   ]
  },
  {
   "cell_type": "code",
   "execution_count": null,
   "metadata": {
    "colab": {
     "base_uri": "https://localhost:8080/"
    },
    "executionInfo": {
     "elapsed": 213,
     "status": "ok",
     "timestamp": 1700501848299,
     "user": {
      "displayName": "GIULIA GAREGNANI",
      "userId": "07189878603650634025"
     },
     "user_tz": -60
    },
    "id": "B3-hZq8WyBXS",
    "outputId": "1be49a40-189f-4868-f4f6-2e7739fd51fa"
   },
   "outputs": [
    {
     "name": "stdout",
     "output_type": "stream",
     "text": [
      "{'nome': 'Mario', 'cognome': 'Rossi', 'anni': 18, 'classe': '1 A', 'media': 6.75, 'carenze': ['storia', 'italiano']}\n"
     ]
    }
   ],
   "source": [
    "dic_studente={'nome': 'Mario', 'cognome': 'Rossi', 'anni': 18, 'classe': '1 A', 'media': 6.75, 'carenze': ['matematica', 'inglese', 'tedesco']}\n",
    "lista_pippo = [\"storia\", \"italiano\"]\n",
    "dic_studente[\"carenze\"]=lista_pippo\n",
    "dic_studente.update({\"carenze\": lista_pippo })\n",
    "print(dic_studente)"
   ]
  },
  {
   "cell_type": "markdown",
   "metadata": {
    "id": "rvUX264Cj8RK"
   },
   "source": [
    "Proviamo a utilizzare alcuni metodi dei dizionari per stampare le chiavi del dizionario `.keys()` e i valori `.values()`. Importante: Nei dizionari l'ordine delle chiavi non è garantito."
   ]
  },
  {
   "cell_type": "code",
   "execution_count": null,
   "metadata": {
    "id": "-zHQB5_zkANj"
   },
   "outputs": [],
   "source": []
  },
  {
   "cell_type": "markdown",
   "metadata": {
    "id": "hDUsNqabNcY9"
   },
   "source": [
    "Per verificare se una chiave appartiene ad un dizionario e evitare KeyError, utilizzare il metodo `.get()`"
   ]
  },
  {
   "cell_type": "code",
   "execution_count": null,
   "metadata": {
    "id": "uiSpnTBRO0Y7"
   },
   "outputs": [],
   "source": []
  },
  {
   "cell_type": "markdown",
   "metadata": {
    "id": "v5b_gughP6ms"
   },
   "source": [
    "# ESERCIZI\n"
   ]
  },
  {
   "cell_type": "markdown",
   "metadata": {
    "id": "IZ1Ehp6u6VUI",
    "jp-MarkdownHeadingCollapsed": true
   },
   "source": [
    "## Funzioni utili per gli esercizi\n",
    "\n",
    "Se per gli esercizi sono utili delle funzioni presenti nelle standard library si possono importare dei moduli https://docs.python.org/3/library/index.html\n",
    "\n",
    "### Come importare un modulo\n",
    "\n",
    "1.   Posso importare l'intero modulo\n",
    "```\n",
    "import math\n",
    "```\n",
    " e anche assegnarli un nome diverso a quello presente nella variabile `__name__` (a esempio se il nome del modulo è lungo)\n",
    "```\n",
    "import math as pippo\n",
    "```\n",
    "\n",
    "2.   Posso importare solo alcune funzioni\n",
    "```\n",
    "from math import sqrt, exp\n",
    "```\n",
    "in questo caso per richiamare la funzione non serve scrivere math ma solo il nome della funzione, ad esempio sqrt o exp.\n",
    "\n",
    "3.   Posso importare tutte le funzioni del modulo\n",
    "```\n",
    "from math import *\n",
    "```\n",
    "Per mantenere ordine nel codice è preferibile la prima modalità oppure la seconda nel caso di poche e specifiche funzioni.\n",
    "\n",
    "\n",
    "Usando la prima modalità di importazione, posso poi utilizzare tutte le funzioni definite all'interno del modulo.\n",
    "\n",
    "```\n",
    "math.cos(0)\n",
    "```\n"
   ]
  },
  {
   "cell_type": "markdown",
   "metadata": {
    "id": "0DcTzkA3QeRL"
   },
   "source": [
    " ## Input Output\n",
    " Creare uno script che chieda all'utente qual è la sua altezza e quella del suo vicino di banco. Fare la media tra i due valori e stampare a video una frase contente il risultato."
   ]
  },
  {
   "cell_type": "code",
   "execution_count": null,
   "metadata": {
    "id": "XvvdpG-p5iOx"
   },
   "outputs": [],
   "source": []
  },
  {
   "cell_type": "markdown",
   "metadata": {
    "id": "ZorJccYeF5Er",
    "jp-MarkdownHeadingCollapsed": true
   },
   "source": [
    "## Es 1: Lettura e scrittura su file\n",
    "\n",
    "In caso di file sul proprio drive, per poter accedere ai dati bisogna eseguire il seguente codice\n",
    "\n",
    "```\n",
    "from google.colab import drive\n",
    "drive.mount('/content/drive')\n",
    "```\n",
    "\n",
    "Creare o caricare un file txt nel proprio drive con un intero. Calcolare il doppio del numero letto e sovrascrivere il risultato sul file."
   ]
  },
  {
   "cell_type": "code",
   "execution_count": null,
   "metadata": {
    "colab": {
     "base_uri": "https://localhost:8080/"
    },
    "executionInfo": {
     "elapsed": 19133,
     "status": "ok",
     "timestamp": 1700660774175,
     "user": {
      "displayName": "GIULIA GAREGNANI",
      "userId": "07189878603650634025"
     },
     "user_tz": -60
    },
    "id": "uXiqDhgHLRrA",
    "outputId": "f80dbc27-7b3e-47a5-e8c0-4ee6c4005447"
   },
   "outputs": [
    {
     "name": "stdout",
     "output_type": "stream",
     "text": [
      "Mounted at /content/drive\n"
     ]
    }
   ],
   "source": [
    "from google.colab import drive\n",
    "drive.mount('/content/drive')"
   ]
  },
  {
   "cell_type": "code",
   "execution_count": null,
   "metadata": {
    "id": "M2NLKSvLSfBJ"
   },
   "outputs": [],
   "source": [
    "/content/drive/MyDrive/nome.txt"
   ]
  },
  {
   "cell_type": "code",
   "execution_count": null,
   "metadata": {},
   "outputs": [],
   "source": []
  },
  {
   "cell_type": "markdown",
   "metadata": {
    "id": "IMh9kEBlQzfT"
   },
   "source": [
    "   ## Liste\n",
    "   Creare una lista contenente le altezze di 5 persone. Stampare a video l'altezza massima utilizzando la funzione `max(nome_lista)`. Appendere alla lista il valore della tua altezza e stampare a video la nuova lista. Ordinare la lista tramite il metodo `sort()`."
   ]
  },
  {
   "cell_type": "code",
   "execution_count": null,
   "metadata": {
    "id": "vD4hzEzP5i8N"
   },
   "outputs": [],
   "source": []
  },
  {
   "cell_type": "markdown",
   "metadata": {
    "id": "Iop5GkWhTsmw"
   },
   "source": [
    "## Es 2: Dizionari\n",
    "\n",
    "Creare un dizionario di 5 elementi con chiave i nomi delle persone e valore le relative altezze. Verificare che una chiave scelta sia nel dizionario e stampare a video la relativa altezza. Stampare a video l'altezza minima utilizzado la funzione `min`."
   ]
  },
  {
   "cell_type": "code",
   "execution_count": null,
   "metadata": {
    "id": "zSTR_NWK5nsc"
   },
   "outputs": [],
   "source": []
  },
  {
   "cell_type": "markdown",
   "metadata": {
    "id": "vWNDaUVslQz5"
   },
   "source": [
    "## Es 3: Liste\n",
    "Creare una lista contenente le altezze di 5 persone. Stampare a video l'altezza massima utilizzando la funzione max(nome_lista). Appendere alla lista il valore della tua altezza e stampare a video la nuova lista. Ordinare la lista tramite il metodo sort().\n"
   ]
  },
  {
   "cell_type": "code",
   "execution_count": null,
   "metadata": {
    "id": "OkmXpf1TmfmF"
   },
   "outputs": [],
   "source": []
  },
  {
   "cell_type": "markdown",
   "metadata": {
    "id": "jpZi6TaemUXD"
   },
   "source": [
    "## Es 4: Dizionario\n",
    "\n",
    "Creare un dizionario di 5 elementi con chiave i nomi delle persone e valore le relative altezze. Verificare che una chiave scelta sia nel dizionario e stampare a video la relativa altezza. Stampare a video l'altezza minima utilizzado la funzione min."
   ]
  },
  {
   "cell_type": "code",
   "execution_count": null,
   "metadata": {
    "id": "JmiM9_oGmgRC"
   },
   "outputs": [],
   "source": []
  },
  {
   "cell_type": "markdown",
   "metadata": {
    "id": "TRv0BV766SUv"
   },
   "source": []
  },
  {
   "cell_type": "markdown",
   "metadata": {
    "id": "LlGQ-zL1o7xC"
   },
   "source": [
    "## Es 5: Dizionario\n",
    "Dato il seguente dizionario\n",
    "\n",
    "provenienza_studenti = {\"Trento\":[\"Alessia\", \"Michela\"], \"Mezzolombardo\":[\"Arianna\", \"Enrico\"], \"Altro\": [\"Stefano\", \"Giulia\", \"Giovanni\"]}\n",
    "chiedere all'utente di inserire un nome e stampare la città di provenienza"
   ]
  },
  {
   "cell_type": "code",
   "execution_count": null,
   "metadata": {
    "id": "ZDW-gefKpJAZ"
   },
   "outputs": [],
   "source": []
  },
  {
   "cell_type": "markdown",
   "metadata": {
    "id": "t01Haq61pFRU"
   },
   "source": [
    "## Es 6: Funzione\n",
    "A partire dll'esercizio precedente, crea una funzione che riceve come argomenti un dizionario così strutturato provenienza_studenti = {\"Trento\":[\"Alessia\", \"Michela\"], \"Mezzolombardo\":[\"Arianna\", \"Enrico\"], \"Altro\": [\"Stefano\", \"Giulia\", \"Giovanni\"]} e il nome di uno studente e restituisce il luogo di provenienza."
   ]
  },
  {
   "cell_type": "code",
   "execution_count": null,
   "metadata": {
    "id": "1lXMocVUpJxd"
   },
   "outputs": [],
   "source": []
  },
  {
   "cell_type": "markdown",
   "metadata": {
    "id": "3NyYnW7VhoAm"
   },
   "source": [
    "# Fonti\n",
    "[Introduzione al linguaggio C](https://www.mat.unical.it/spataro/teaching/InformaticaChimica/Lezione6%20-%20C%20-%201a%20parte.pdf)\n",
    "\n",
    "[Algoritmi_T_online](https://online.scuola.zanichelli.it/bergaminibiennio/wp-content/uploads/bergamini_algoritmi.pdf)"
   ]
  }
 ],
 "metadata": {
  "colab": {
   "provenance": [
    {
     "file_id": "1yf1rr4DnslUEkfyzufsFy73jrJW6N6dP",
     "timestamp": 1700389279187
    },
    {
     "file_id": "1-Z4yUVXBpyXyuGMTDgpD9Yq6Ci3gyGR6",
     "timestamp": 1700165729305
    }
   ]
  },
  "kernelspec": {
   "display_name": "Python 3 (ipykernel)",
   "language": "python",
   "name": "python3"
  },
  "language_info": {
   "codemirror_mode": {
    "name": "ipython",
    "version": 3
   },
   "file_extension": ".py",
   "mimetype": "text/x-python",
   "name": "python",
   "nbconvert_exporter": "python",
   "pygments_lexer": "ipython3",
   "version": "3.9.12"
  }
 },
 "nbformat": 4,
 "nbformat_minor": 4
}
