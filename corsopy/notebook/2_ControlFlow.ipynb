{
 "cells": [
  {
   "cell_type": "markdown",
   "metadata": {
    "id": "rQm5iGuh3JJh"
   },
   "source": [
    "# Controllo di flusso\n",
    "\n",
    "I programmi, come abbiamo visto, sono eseguiti istruzione per istruzione in maniera sequenziale. Attraverso delle strutture di controllo del flusso si può:\n",
    "1.   scegliere vie alternative tramite **istruzioni condizionali**,\n",
    "2.   ripetere ciclicamente alcune istruzioni tramite **istruzioni di looping**,\n",
    "3.   chiamare delle **funzioni**."
   ]
  },
  {
   "cell_type": "markdown",
   "metadata": {
    "id": "aZHAQs3WYI9Z"
   },
   "source": [
    "# Istruzioni condizionali\n",
    "\n",
    "L' istruzione **if else** permette di scegliere tra flussi alternativi di istruzioni dipendenti dalla valutazione di una **condizione logica**.\n",
    "\n",
    "Per costruire la condizione logica, gli operatori di confronto più comuni sono:\n",
    "* == per verificare l'uguaglianza tra due valori,\n",
    "* != per verificare se due valori sono diversi,\n",
    "* < per verificare se il valore a sinistra è minore del valore a destra,\n",
    "* <= per verificare se il valore a sinistra è minore o uguale al valore a destra.\n",
    "\n",
    "Gli operatori logici sono:\n",
    "\n",
    "* AND restituisce True solo se entrambe le condizioni sono verificate,\n",
    "* OR restituisce True se almeno una delle condizioni è verificata,\n",
    "* NOT inverte il valore booleano.\n"
   ]
  },
  {
   "cell_type": "markdown",
   "metadata": {
    "id": "G7naSN7-fNXr"
   },
   "source": [
    "## Esempi di algebra booleana\n",
    "\n",
    "Creare i due dizionari seguenti:\n",
    "\n",
    "\n",
    "```\n",
    "studente1={\"nome\":\"Mario\", \"cognome\": \"Rossi\", \"anni\": 18, \"classe\": \"4 B\", \"media\": 6.75}\n",
    "studente2={\"nome\":\"Giovanni\", \"cognome\": \"Colombo\", \"anni\": 17, \"classe\": \"4 A\", \"media\": 8.1}\n",
    "```\n",
    "\n",
    "Provare a:\n",
    "\n",
    "\n",
    "1.   verificare se i due studenti sono nella stessa classe\n",
    "2.   verificare se lo studente2 non è in \"4 B\"\n",
    "3.   verificare che i due studenti abbiano nome e cognome diverso\n",
    "\n",
    "\n",
    "\n"
   ]
  },
  {
   "cell_type": "code",
   "execution_count": null,
   "metadata": {
    "id": "TaSFfRcEh_LG"
   },
   "outputs": [],
   "source": [
    "studente1={\"nome\":\"Mario\", \"cognome\": \"Rossi\", \"anni\": 18, \"classe\": \"4 B\", \"media\": 6.75}\n",
    "studente2={\"nome\":\"Giovanni\", \"cognome\": \"Colombo\", \"anni\": 17, \"classe\": \"4 A\", \"media\": 8.1}"
   ]
  },
  {
   "cell_type": "code",
   "execution_count": null,
   "metadata": {
    "colab": {
     "base_uri": "https://localhost:8080/"
    },
    "executionInfo": {
     "elapsed": 10,
     "status": "ok",
     "timestamp": 1700662329705,
     "user": {
      "displayName": "GIULIA GAREGNANI",
      "userId": "07189878603650634025"
     },
     "user_tz": -60
    },
    "id": "9ag4mWRvW49j",
    "outputId": "b6259319-e122-4ebe-cc6f-30e08de2a6dc"
   },
   "outputs": [
    {
     "name": "stdout",
     "output_type": "stream",
     "text": [
      "i due studenti sono nella stessa classe?False\n"
     ]
    }
   ],
   "source": [
    "# due studenti nella stessa classe\n",
    "condizione = studente1[\"classe\"]==studente2[\"classe\"]\n",
    "type(condizione)\n",
    "print(f\"i due studenti sono nella stessa classe?{condizione}\")"
   ]
  },
  {
   "cell_type": "code",
   "execution_count": null,
   "metadata": {
    "colab": {
     "base_uri": "https://localhost:8080/"
    },
    "executionInfo": {
     "elapsed": 371,
     "status": "ok",
     "timestamp": 1700662636940,
     "user": {
      "displayName": "GIULIA GAREGNANI",
      "userId": "07189878603650634025"
     },
     "user_tz": -60
    },
    "id": "Z83tqyRtYj6G",
    "outputId": "0cdf604d-e5a0-4ac4-f736-4ba7940be74f"
   },
   "outputs": [
    {
     "name": "stdout",
     "output_type": "stream",
     "text": [
      "Lo studente 2 non è in 4 B?True\n"
     ]
    }
   ],
   "source": [
    "# studente 2 non è in 4B\n",
    "condizione = not(studente2[\"classe\"]==\"4 B\")\n",
    "type(condizione)\n",
    "print(f\"Lo studente 2 non è in 4 B?{condizione}\")"
   ]
  },
  {
   "cell_type": "code",
   "execution_count": null,
   "metadata": {
    "colab": {
     "base_uri": "https://localhost:8080/"
    },
    "executionInfo": {
     "elapsed": 494,
     "status": "ok",
     "timestamp": 1700662629051,
     "user": {
      "displayName": "GIULIA GAREGNANI",
      "userId": "07189878603650634025"
     },
     "user_tz": -60
    },
    "id": "Hbf1p9PRYSJ_",
    "outputId": "97dab64e-a507-4fd0-b859-2123cbcde5cd"
   },
   "outputs": [
    {
     "name": "stdout",
     "output_type": "stream",
     "text": [
      "True\n"
     ]
    }
   ],
   "source": [
    "# studente 1 e 2 nome e cognome diverso !=\n",
    "condizione = (studente1['nome']!=studente2['nome']) and (studente1['cognome']!=studente2['cognome'])\n",
    "print(condizione)"
   ]
  },
  {
   "cell_type": "markdown",
   "metadata": {
    "id": "jTYXrk2odQc0"
   },
   "source": [
    "## Esecuzione alternativa\n",
    "\n",
    "Ricorda: l'indentazione è molto importante. La sintassi è:\n",
    "\n",
    "```\n",
    "If condizione:\n",
    "  istruzione\n",
    "else:\n",
    "  istruzione\n",
    "```"
   ]
  },
  {
   "cell_type": "markdown",
   "metadata": {
    "id": "htRdDxbeN9ug"
   },
   "source": [
    "Se la classe dello studente 1 è la stessa dello studente 2 scrivi \"i due studenti sono nella stessa classe `{classe}`\" altrimenti scrivi \"i due studenti sono in una classe diversa\".\n",
    "\n",
    "```\n",
    "INIZIO\n",
    "IF codizione:\n",
    "  SCRIVI \"i due studenti sono nella stessa classe `{classe}`\"\n",
    "ELSE:\n",
    "  SCRIVI \"i due studenti sono in una classe diversa\"\n",
    "FINE\n",
    "```\n",
    "\n"
   ]
  },
  {
   "cell_type": "code",
   "execution_count": null,
   "metadata": {
    "colab": {
     "base_uri": "https://localhost:8080/"
    },
    "executionInfo": {
     "elapsed": 921,
     "status": "ok",
     "timestamp": 1700664530183,
     "user": {
      "displayName": "GIULIA GAREGNANI",
      "userId": "07189878603650634025"
     },
     "user_tz": -60
    },
    "id": "N-0VsTUY4Ryf",
    "outputId": "a608b084-42b2-4fcc-f21c-100efcb69370"
   },
   "outputs": [
    {
     "name": "stdout",
     "output_type": "stream",
     "text": [
      "Sono in classi diverse\n"
     ]
    }
   ],
   "source": [
    "if studente1['classe']==studente2[\"classe\"]:\n",
    "  print(f\"Gli studenti sono entrambi in {studente2['classe']}\")\n",
    "else:\n",
    "  print(f\"Sono in classi diverse\")"
   ]
  },
  {
   "cell_type": "markdown",
   "metadata": {
    "id": "Ertu4pgaQrY3"
   },
   "source": [
    "## Più alternative\n",
    "L'istruzione in Python elif permette di fare ulteriori controlli dopo una prima istruzione if.\n",
    "\n",
    "Una istruzione elif si differenzia dall'else perché viene fornita un'altra condizione da verificare, proprio come accade per l'if iniziale\n",
    "\n",
    "La struttura è la seguente:\n",
    "\n",
    "```\n",
    "If condizione1:\n",
    "  istruzione\n",
    "elif condizione2:\n",
    "  istruzione\n",
    "elif condizione3:\n",
    "  istruzione\n",
    "else:\n",
    "  istruzione\n",
    "```"
   ]
  },
  {
   "cell_type": "markdown",
   "metadata": {
    "id": "_jJ1XGrnRrsN"
   },
   "source": [
    "Scrivere una parte di codice che assegna un livello allo studente 1 secondo la seguente tabella:\n",
    "\n",
    "| Colonna 1 | Colonna 2 |\n",
    "| : ------------- | : ----------: |  \n",
    "| < 6| non sufficiente |\n",
    "| 6 <= media < 7 | base |\n",
    "| 7 <= media < 8 | intermedio |\n",
    "| >= 8 | avanzato |\n",
    "\n"
   ]
  },
  {
   "cell_type": "code",
   "execution_count": null,
   "metadata": {
    "colab": {
     "base_uri": "https://localhost:8080/"
    },
    "executionInfo": {
     "elapsed": 4,
     "status": "ok",
     "timestamp": 1700665131937,
     "user": {
      "displayName": "GIULIA GAREGNANI",
      "userId": "07189878603650634025"
     },
     "user_tz": -60
    },
    "id": "TmdqXYzdUDjV",
    "outputId": "a7a81dbc-79a9-4665-d2e8-bd1196909135"
   },
   "outputs": [
    {
     "name": "stdout",
     "output_type": "stream",
     "text": [
      "{'nome': 'Mario', 'cognome': 'Rossi', 'anni': 18, 'classe': '4 B', 'media': 6.75, 'livello': 'base'}\n"
     ]
    }
   ],
   "source": [
    "if 3<=studente1['media']<6:\n",
    "  studente1['livello']=\"non sufficiente\"\n",
    "elif 6<=studente1['media']<7:\n",
    "  studente1['livello']=\"base\"\n",
    "elif 7<=studente1['media']<8:\n",
    "  studente1['livello']=\"intermedio\"\n",
    "elif 8<=studente1['media']<=10:\n",
    "  studente1['livello']=\"avanzato\"\n",
    "else:\n",
    "  print(\"valore non corente\")\n",
    "print(studente1)"
   ]
  },
  {
   "cell_type": "markdown",
   "metadata": {
    "id": "VmUFzVZVAmSY"
   },
   "source": [
    "# Istruzioni di looping"
   ]
  },
  {
   "cell_type": "markdown",
   "metadata": {
    "id": "yumjL4wUVhvQ"
   },
   "source": [
    "## FOR\n",
    "In Python qualunque oggetto in grado di essere trattato come una sequenza è definito un oggetto iterable (iterabile). Per iterare uso l'istruzione FOR.\n",
    "\n",
    "```\n",
    "for var in intervallo:\n",
    "  isruzione\n",
    "```"
   ]
  },
  {
   "cell_type": "markdown",
   "metadata": {
    "id": "s-5QcuSeAyLD"
   },
   "source": [
    "### Range(n)\n",
    "Range rappresenta una sequenza immutabili di numeri simile a una tupla che è utilizzata per ripetere un'istruzione per un certo numero di volte. L'istruzione è la seguente:\n",
    "```\n",
    "range(start, stop[, step])\n",
    "```\n",
    "\n",
    "Utilizzare `range()` per stampare a video da 0 a 3  poi da 1 a 9 compreso con passo 2."
   ]
  },
  {
   "cell_type": "code",
   "execution_count": null,
   "metadata": {
    "colab": {
     "base_uri": "https://localhost:8080/"
    },
    "executionInfo": {
     "elapsed": 433,
     "status": "ok",
     "timestamp": 1700665456830,
     "user": {
      "displayName": "GIULIA GAREGNANI",
      "userId": "07189878603650634025"
     },
     "user_tz": -60
    },
    "id": "GGJnw9spoNiX",
    "outputId": "9eaa3ae9-d4c7-4326-d6ab-41e8acc2d8bb"
   },
   "outputs": [
    {
     "name": "stdout",
     "output_type": "stream",
     "text": [
      "0\n",
      "1\n",
      "2\n"
     ]
    }
   ],
   "source": [
    "for i in range(3):\n",
    "  print(i)"
   ]
  },
  {
   "cell_type": "code",
   "execution_count": null,
   "metadata": {
    "colab": {
     "base_uri": "https://localhost:8080/"
    },
    "executionInfo": {
     "elapsed": 3,
     "status": "ok",
     "timestamp": 1700665576406,
     "user": {
      "displayName": "GIULIA GAREGNANI",
      "userId": "07189878603650634025"
     },
     "user_tz": -60
    },
    "id": "HlTw-0kJj9sE",
    "outputId": "3b1cf750-3baf-4340-b2b8-d60b8037fca1"
   },
   "outputs": [
    {
     "name": "stdout",
     "output_type": "stream",
     "text": [
      "1\n",
      "3\n",
      "5\n",
      "7\n",
      "9\n",
      "ciao\n"
     ]
    }
   ],
   "source": [
    "for i in range(1,10,2):\n",
    "  print(i)\n",
    "print(\"ciao\")"
   ]
  },
  {
   "cell_type": "markdown",
   "metadata": {
    "id": "gOd8-KyPtF6N"
   },
   "source": [
    "Creare una lista dei numeri pari minori di n"
   ]
  },
  {
   "cell_type": "code",
   "execution_count": null,
   "metadata": {
    "colab": {
     "base_uri": "https://localhost:8080/"
    },
    "executionInfo": {
     "elapsed": 4,
     "status": "ok",
     "timestamp": 1700665767820,
     "user": {
      "displayName": "GIULIA GAREGNANI",
      "userId": "07189878603650634025"
     },
     "user_tz": -60
    },
    "id": "0g8F1SGNuteE",
    "outputId": "42ca342f-693e-48e0-d2e7-33a72f436590"
   },
   "outputs": [
    {
     "name": "stdout",
     "output_type": "stream",
     "text": [
      "[0, 2, 4, 6, 8]\n"
     ]
    }
   ],
   "source": [
    "n=10\n",
    "lista=[i for i in range(0,n,2)]\n",
    "print(lista)"
   ]
  },
  {
   "cell_type": "code",
   "execution_count": null,
   "metadata": {
    "colab": {
     "base_uri": "https://localhost:8080/"
    },
    "executionInfo": {
     "elapsed": 3,
     "status": "ok",
     "timestamp": 1700666086818,
     "user": {
      "displayName": "GIULIA GAREGNANI",
      "userId": "07189878603650634025"
     },
     "user_tz": -60
    },
    "id": "hdpRnTm9lLla",
    "outputId": "9ef541fd-ad46-4c73-92f0-c1ca27ebdaa4"
   },
   "outputs": [
    {
     "name": "stdout",
     "output_type": "stream",
     "text": [
      "[0, 2, 4, 6, 8, 10, 12, 14, 16, 18, 20, 22, 24, 26, 28, 30, 32, 34, 36, 38, 40, 42, 44, 46, 48, 50, 52, 54, 56, 58, 60, 62, 64, 66, 68, 70, 72, 74, 76, 78, 80, 82, 84, 86, 88, 90, 92, 94, 96, 98, 100, 102, 104, 106, 108, 110, 112, 114]\n"
     ]
    }
   ],
   "source": [
    "n=115\n",
    "lista=[]\n",
    "for i in range(0,n,2):\n",
    "  lista.append(i)\n",
    "print(lista)"
   ]
  },
  {
   "cell_type": "markdown",
   "metadata": {
    "id": "ZKlBUS4-o66J"
   },
   "source": [
    "### Lista"
   ]
  },
  {
   "cell_type": "markdown",
   "metadata": {
    "id": "yhBDDqC4pCCD"
   },
   "source": [
    "Si può iterare su qualsiasi oggetto iterabile come, ad esempio, una lista.\n",
    "Per iterare su una lista è utile l'operatore `in`:\n",
    "\n",
    "|Operator\t|Description|\n",
    "| : ------------- | : ----------: |  \n",
    "|in\t|Restituisce True se il valore è presente nell'oggetto|\n",
    "|not in\t|Restituisce True se il valore non è presente nell'oggettoR|\n",
    "\n",
    "L'istruzione è\n",
    "\n",
    "```\n",
    "for i in lista:\n",
    "  istruzione\n",
    "```\n",
    "\n",
    "Data la seguente lista di liste di voti `lista_voti = [[4,5,6.5,7], [8,7,6.5,7], [5,7,9], [9,5,7,3]]`, stampare la media di ogni raggruppamento di voti.\n",
    "\n",
    "Utilizzare per calcolare la media\n",
    "\n",
    "```\n",
    "import statistics as stat\n",
    "stat.mean(lista)\n",
    "```\n",
    "\n"
   ]
  },
  {
   "cell_type": "markdown",
   "metadata": {
    "id": "-P_oJUSZYrQl"
   },
   "source": [
    "Creare una lista con le lettere del tuo nome"
   ]
  },
  {
   "cell_type": "code",
   "execution_count": null,
   "metadata": {
    "colab": {
     "base_uri": "https://localhost:8080/"
    },
    "executionInfo": {
     "elapsed": 364,
     "status": "ok",
     "timestamp": 1700666245644,
     "user": {
      "displayName": "GIULIA GAREGNANI",
      "userId": "07189878603650634025"
     },
     "user_tz": -60
    },
    "id": "vOidTRvuYvRS",
    "outputId": "ec6ed459-5953-45f9-cf24-1c553152da18"
   },
   "outputs": [
    {
     "data": {
      "text/plain": [
       "3"
      ]
     },
     "execution_count": 26,
     "metadata": {},
     "output_type": "execute_result"
    }
   ],
   "source": [
    "lista = [1,3,5]\n",
    "import statistics as stat\n",
    "stat.mean(lista)"
   ]
  },
  {
   "cell_type": "code",
   "execution_count": null,
   "metadata": {
    "colab": {
     "base_uri": "https://localhost:8080/"
    },
    "executionInfo": {
     "elapsed": 424,
     "status": "ok",
     "timestamp": 1700666487945,
     "user": {
      "displayName": "GIULIA GAREGNANI",
      "userId": "07189878603650634025"
     },
     "user_tz": -60
    },
    "id": "eU1X_c5jyajt",
    "outputId": "bf4c34fd-06a9-4e29-e33e-065c18769558"
   },
   "outputs": [
    {
     "name": "stdout",
     "output_type": "stream",
     "text": [
      "[4, 5, 6.5, 7]\n",
      "5.625\n",
      "[8, 7, 6.5, 7]\n",
      "7.125\n",
      "[5, 7, 9]\n",
      "7\n",
      "[9, 5, 7, 3]\n",
      "6\n"
     ]
    }
   ],
   "source": [
    "lista_voti = [[4,5,6.5,7], [8,7,6.5,7], [5,7,9], [9,5,7,3]]\n",
    "for voti in lista_voti:\n",
    "  print(voti)\n",
    "  print(stat.mean(voti))\n"
   ]
  },
  {
   "cell_type": "markdown",
   "metadata": {
    "id": "AQR2jg8CzMAB"
   },
   "source": [
    "### Dizionario"
   ]
  },
  {
   "cell_type": "markdown",
   "metadata": {
    "id": "I5Cmy4jILg9P"
   },
   "source": [
    "Stampare le chiavi nel dizionario my_dict = {\"John\": 1, \"Michael\": 2, \"Shawn\": 3} corrispondenti al valore 1\n"
   ]
  },
  {
   "cell_type": "code",
   "execution_count": null,
   "metadata": {
    "colab": {
     "base_uri": "https://localhost:8080/"
    },
    "executionInfo": {
     "elapsed": 4,
     "status": "ok",
     "timestamp": 1700667377257,
     "user": {
      "displayName": "GIULIA GAREGNANI",
      "userId": "07189878603650634025"
     },
     "user_tz": -60
    },
    "id": "ozNyQkllLo5o",
    "outputId": "56518b68-c367-4762-ba1c-89d6a16365b1"
   },
   "outputs": [
    {
     "name": "stdout",
     "output_type": "stream",
     "text": [
      "<built-in method keys of dict object at 0x7a34d07d99c0>\n",
      "John\n",
      "1\n",
      "--------\n",
      "John\n",
      "--------\n",
      "Michael\n",
      "2\n",
      "Shawn\n",
      "1\n",
      "--------\n",
      "Shawn\n",
      "--------\n"
     ]
    }
   ],
   "source": [
    "my_dict = {\"John\": 1, \"Michael\": 2, \"Shawn\": 1}\n",
    "print(my_dict.keys)\n",
    "for chiave in my_dict.keys():\n",
    "  print(chiave)\n",
    "  print(my_dict[chiave])\n",
    "  if my_dict[chiave] == 1:\n",
    "    print(\"--------\")\n",
    "    print(chiave)\n",
    "    print(\"--------\")"
   ]
  },
  {
   "cell_type": "markdown",
   "metadata": {
    "id": "VEm0vJMGttsf"
   },
   "source": [
    "## While\n",
    "\n",
    "Ripete l'istruzione fino a che la condizione è vera.\n",
    "\n",
    "Ad esempio proviamo a eseguire il codice\n",
    "\n",
    "```\n",
    "counter = 0\n",
    "\n",
    "while counter <= 10:\n",
    "    print(counter)\n",
    "    counter += 1\n",
    "```\n"
   ]
  },
  {
   "cell_type": "markdown",
   "metadata": {
    "id": "ksgYADyTuiMM"
   },
   "source": [
    "# Funzioni\n",
    "\n",
    "In aggiunta alle [funzioni integrate](https://docs.python.org/3/library/functions.html) in Python come a esempio la funzione print, è possibile definire le proprie funzioni per evitare di ripetere codici.\n",
    "\n",
    "Possiamo pensare alle funzioni come dei mini programmi da definire all'interno del codice e richiamare in altri punti del codice stesso.\n",
    "\n",
    "Per definire la funzione usiamo la parola chiave **def**. La sintassi per la definizione di una funzione è:\n",
    "\n",
    "```\n",
    "def nome( LISTA_DEI_PARAMETRI ):\n",
    "  istruzioni\n",
    "  return risultato\n",
    "```\n",
    "\n",
    "Ad esempio, costruiamo la funzione che calcola l'interesse maturato al variare degli anni di investimento e del capitale iniziale a un tasso del 3% in caso di capitalizzazione semplice (modello lineare).\n",
    "\n",
    "```\n",
    "def calcolo_interesse(capitale, tempo, tasso_interesse=0.03):\n",
    "  return capitale*tempo*tasso_interesse\n",
    "```\n",
    "\n",
    "Si possono assegnare dei valori di default tra le variabili.\n",
    "\n",
    "Provare a calcolare l'interesse al variare di capitale, tempo e tasso.\n",
    "\n"
   ]
  },
  {
   "cell_type": "code",
   "execution_count": null,
   "metadata": {
    "id": "Y5WakRdTzmmI"
   },
   "outputs": [],
   "source": [
    "def calcolo_interesse(capitale, tempo, tasso_interesse=0.03):\n",
    "  return capitale*tempo*tasso_interesse"
   ]
  },
  {
   "cell_type": "code",
   "execution_count": null,
   "metadata": {
    "colab": {
     "base_uri": "https://localhost:8080/"
    },
    "executionInfo": {
     "elapsed": 4,
     "status": "ok",
     "timestamp": 1700667756386,
     "user": {
      "displayName": "GIULIA GAREGNANI",
      "userId": "07189878603650634025"
     },
     "user_tz": -60
    },
    "id": "V58MNKn-zrk1",
    "outputId": "d4a0d0bf-5ec3-42ef-fa65-eec4da99c89a"
   },
   "outputs": [
    {
     "name": "stdout",
     "output_type": "stream",
     "text": [
      "150.0\n",
      "250.0\n"
     ]
    }
   ],
   "source": [
    "ris = calcolo_interesse(1000,5)\n",
    "print(ris)\n",
    "print(calcolo_interesse(1000,5,0.05))"
   ]
  },
  {
   "cell_type": "markdown",
   "metadata": {
    "id": "AjfGVjpj0aSK"
   },
   "source": [
    "Buona prassi è la documentazione delle funzioni attraverso le docstring. L'indentazione è importante. Se non usi 4 spazi (o un tab) per l'indentazione, otterrai un'errore di indentazione.\n",
    "Si può utilizzare lo stile di Google nel documentare\n",
    "Documentando la funzione del calcolo dell'interesse diventa:\n",
    "\n",
    "```\n",
    "def calcolo_interesse(capitale: float, tempo:float, tasso_interesse=0.03):\n",
    "  \"\"\"\n",
    "  La funzione restituisce l'interesse nel caso di capitalizzazione semplice\n",
    "\n",
    "  Args:\n",
    "    capitale (float): capitale iniziale.\n",
    "    tempo (float): tempo coerente con il tasso di interesse.\n",
    "\n",
    "  Returns:\n",
    "    float: interesse maturato.\n",
    "\n",
    "  \"\"\"\n",
    "  return capitale*tempo*tasso_interesse\n",
    "```\n",
    "\n"
   ]
  },
  {
   "cell_type": "code",
   "execution_count": null,
   "metadata": {
    "id": "sfHhve-Z2_Sf"
   },
   "outputs": [],
   "source": [
    "def calcolo_interesse(capitale: float, tempo:float, tasso_interesse=0.03):\n",
    "  \"\"\"\n",
    "  La funzione restituisce l'interesse nel caso di capitalizzazione semplice\n",
    "\n",
    "  Args:\n",
    "    capitale (float): capitale iniziale.\n",
    "    tempo (float): tempo coerente con il tasso di interesse.\n",
    "\n",
    "  Returns:\n",
    "    float: interesse maturato.\n",
    "\n",
    "  \"\"\"\n",
    "  return capitale*tempo*tasso_interesse"
   ]
  },
  {
   "cell_type": "code",
   "execution_count": null,
   "metadata": {
    "id": "OkONrByc3BNB"
   },
   "outputs": [],
   "source": [
    "calcolo_interesse()"
   ]
  },
  {
   "cell_type": "markdown",
   "metadata": {
    "id": "hbWt9tmx5-zT"
   },
   "source": [
    "Definiamo una funzione che dato un voto ci restituisce il livello in base alla tabella:\n",
    "\n",
    "| Colonna 1 | Colonna 2 |\n",
    "| : ------------- | : ----------: |  \n",
    "| < 6| non sufficiente |\n",
    "| 6 <= media < 7 | base |\n",
    "| 7 <= media < 8 | intermedio |\n",
    "| >= 8 | avanzato |\n",
    "\n",
    "Notiamo che il comando return lo possiamo utilizzare nell'istruzione condizionale nel seguente modo:\n",
    "\n",
    "\n",
    "\n",
    "```\n",
    "if condizione:\n",
    "  return \"non sufficiente\"\n",
    "elif condizione:\n",
    "  return \"base\"\n",
    "else:\n",
    "  return\n",
    "```\n",
    "\n"
   ]
  },
  {
   "cell_type": "code",
   "execution_count": null,
   "metadata": {
    "id": "510pfmCK64Oy"
   },
   "outputs": [],
   "source": []
  },
  {
   "cell_type": "markdown",
   "metadata": {
    "id": "DvfyL2SO9YhW"
   },
   "source": [
    "Utilizziamo la funzione per aggiornare il seguente dizionario non con la media voti ma con il livello raggiunto dallo studente. Proviamo a modificare il seguente codice:\n",
    "\n",
    "\n",
    "```\n",
    "import statistics as stat\n",
    "\n",
    "lista_dic=[{\"Nome\":\"Giulia\", \"voti\":[4,5,6,3]}, {\"Nome\":\"Martina\", \"voti\":[8,6,6.5]}, {\"Nome\":\"Alessio\", \"voti\":[8,4,5.5,6.5]}]\n",
    "\n",
    "for dic in lista_dic:\n",
    "  dic[\"media\"]=stat.mean(dic[\"voti\"])\n",
    "\n",
    "print(lista_dic)\n",
    "```\n",
    "\n"
   ]
  },
  {
   "cell_type": "code",
   "execution_count": null,
   "metadata": {
    "id": "gD_bsw2x7nsW"
   },
   "outputs": [],
   "source": []
  },
  {
   "cell_type": "markdown",
   "metadata": {
    "id": "WVCBOVrT6AiS"
   },
   "source": [
    "# Esercizi\n"
   ]
  },
  {
   "cell_type": "markdown",
   "metadata": {
    "id": "Ds-M001vs6Ap"
   },
   "source": [
    "## Dizionario\n",
    "\n",
    "Dato il seguente dizionario\n",
    "```\n",
    "provenienza_studenti = {\"Trento\":[\"Alessia\", \"Michela\"], \"Mezzolombardo\":[\"Arianna\", \"Enrico\"], \"Altro\": [\"Stefano\", \"Giulia\", \"Giovanni\"]}\n",
    "```\n",
    "chiedere all'utente di inserire un nome e stampare la città di provenienza"
   ]
  },
  {
   "cell_type": "code",
   "execution_count": null,
   "metadata": {
    "id": "dOJBnoE080LO"
   },
   "outputs": [],
   "source": []
  },
  {
   "cell_type": "markdown",
   "metadata": {
    "id": "PHHYtlLWpqEv"
   },
   "source": [
    "## Funzione\n",
    "\n",
    "A partire dll'esercizio precedente, crea una funzione che riceve come argomenti un dizionario così strutturato `provenienza_studenti = {\"Trento\":[\"Alessia\", \"Michela\"], \"Mezzolombardo\":[\"Arianna\", \"Enrico\"], \"Altro\": [\"Stefano\", \"Giulia\", \"Giovanni\"]}` e il nome di uno studente e restituisce il luogo di provenienza.\n"
   ]
  },
  {
   "cell_type": "code",
   "execution_count": null,
   "metadata": {
    "id": "HRwuBuvoqEED"
   },
   "outputs": [],
   "source": []
  }
 ],
 "metadata": {
  "colab": {
   "provenance": [
    {
     "file_id": "1gGctGa927_QDmQ1jPxJfTMVSo_kqP039",
     "timestamp": 1700605170736
    }
   ]
  },
  "kernelspec": {
   "display_name": "Python 3 (ipykernel)",
   "language": "python",
   "name": "python3"
  },
  "language_info": {
   "codemirror_mode": {
    "name": "ipython",
    "version": 3
   },
   "file_extension": ".py",
   "mimetype": "text/x-python",
   "name": "python",
   "nbconvert_exporter": "python",
   "pygments_lexer": "ipython3",
   "version": "3.9.12"
  }
 },
 "nbformat": 4,
 "nbformat_minor": 4
}
