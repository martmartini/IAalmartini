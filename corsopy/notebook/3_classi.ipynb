{
 "cells": [
  {
   "cell_type": "markdown",
   "metadata": {
    "id": "k5ZrjKNou1ai"
   },
   "source": [
    "# Classi\n",
    "\n",
    "Creare una classe significa creare un nuovo tipo a partire dal quale possono essere creati nuovi oggetti. Ogni oggetto avrà:\n",
    "* dei __dati__ che descrivono lo stato dell'oggetto\n",
    "* dei __metodi__ che ne modificano lo stato.\n",
    "\n",
    "A esempio, l'oggetto palla potrà avere come __dati__ colore, aspetto, forma, posizione e come __metodi__ rimbalza, rotola, etc.\n",
    "\n",
    "I passaggi da fare sono:\n",
    "1. Definire la classe (il modello). A esempio\n",
    "```\n",
    "class MyClass:\n",
    "    \"\"\"Un semplice esempio di classe.\"\"\"\n",
    "    i = 12345\n",
    "\n",
    "    def f(self):\n",
    "        return 'hello world'\n",
    "```\n",
    "2. Lo `istanziamento`, la creazione dell'oggeto. La sintassi è simile a chiamare una funzione.\n",
    "```\n",
    "x=MyClass()\n",
    "```\n",
    "\n",
    "\n",
    "\n",
    "Proviamo a creare la classe MyClass, istanziare un oggetto x di tipo MyClass e stampare il dato x.i e il risultato della funzione f.\n",
    "\n"
   ]
  },
  {
   "cell_type": "code",
   "execution_count": null,
   "metadata": {
    "id": "ztazaIlV0z9h"
   },
   "outputs": [],
   "source": [
    "class Pippo: #modello\n",
    " \"\"\"Un semplice esempio di classe.\"\"\"\n",
    " i = [1,2] # dato della classe, ogni oggetto di tipo Pippo avrà il dato i\n",
    "\n",
    " def f(self): # funzione\n",
    "     return 'hello world'\n",
    "\n"
   ]
  },
  {
   "cell_type": "code",
   "execution_count": null,
   "metadata": {
    "id": "8wmMw6PO03fn"
   },
   "outputs": [],
   "source": [
    "x = Pippo()"
   ]
  },
  {
   "cell_type": "code",
   "execution_count": null,
   "metadata": {
    "colab": {
     "base_uri": "https://localhost:8080/"
    },
    "executionInfo": {
     "elapsed": 280,
     "status": "ok",
     "timestamp": 1701100534583,
     "user": {
      "displayName": "GIULIA GAREGNANI",
      "userId": "07189878603650634025"
     },
     "user_tz": -60
    },
    "id": "452OjrcVdtaM",
    "outputId": "1bae0f20-c540-4906-a993-3313f90d42a0"
   },
   "outputs": [
    {
     "name": "stdout",
     "output_type": "stream",
     "text": [
      "<class '__main__.Pippo'>\n",
      "2\n",
      "hello world\n"
     ]
    }
   ],
   "source": [
    "print(type(x))\n",
    "print(x.i) # dato\n",
    "print(x.f()) # metodo, la funzione con la tonda"
   ]
  },
  {
   "cell_type": "markdown",
   "metadata": {
    "id": "dUckd1Av19wA"
   },
   "source": [
    "Successivamente, modifichiamo il dato i e assegnamo un nuovo valore."
   ]
  },
  {
   "cell_type": "code",
   "execution_count": null,
   "metadata": {
    "colab": {
     "base_uri": "https://localhost:8080/"
    },
    "executionInfo": {
     "elapsed": 367,
     "status": "ok",
     "timestamp": 1701100702818,
     "user": {
      "displayName": "GIULIA GAREGNANI",
      "userId": "07189878603650634025"
     },
     "user_tz": -60
    },
    "id": "8PAXIjVG1sds",
    "outputId": "e431cdb4-306a-4167-8570-3f996085289f"
   },
   "outputs": [
    {
     "name": "stdout",
     "output_type": "stream",
     "text": [
      "None\n"
     ]
    }
   ],
   "source": []
  },
  {
   "cell_type": "markdown",
   "metadata": {
    "id": "J_Ff7sOW39kT"
   },
   "source": [
    "## Il metodo `__init__`\n",
    "\n",
    "Quando invoco un istanziamento `x=MyClass()` creo un oggetto vuoto. Può essere comodo istanziare un oggetto con un certo stato iniziale.\n",
    "Se, a esempio, vogliamo creare un oggetto palla che sia rossa, sferica e in una determinata posizione possiamo usare il metodo `__init__` e definire la classe palla nel seguente modo:\n",
    "\n",
    "```\n",
    "class Palla:\n",
    "  \"Classe palla\"\n",
    "  def __init__(self, colore: str, forma: str, posizione: list):\n",
    "    self.colore = colore\n",
    "    self.forma = forma\n",
    "    self.posizione = posizione\n",
    "```\n",
    "\n",
    "Self rappresenta un riferimento all'oggetto stesso che verà creato dall'istanza. Al metodo `__init__` passo l'oggetto stesso e i diversi parametri. Il metodo riceve questi parametri appena invoco l'istanza.\n",
    "\n",
    "Dopo aver definito la classe Palla, proviamo a creare due oggetti diversi palla1 e palla 2 con dati iniziali diversi:\n",
    "\n",
    "```\n",
    "palla1 = Palla(\"rossa\", \"sfera\", [0,0,1])\n",
    "palla2 = Palla(\"verde\", \"sfera\", [0,0,1.5])\n",
    "```\n",
    "\n",
    "Verifichiama se il colore delle due palle è uguale `palla1.colore==palla2.colore`."
   ]
  },
  {
   "cell_type": "code",
   "execution_count": null,
   "metadata": {
    "id": "0AZZrMWp7-Y_"
   },
   "outputs": [],
   "source": [
    "class Studente:\n",
    "  scuola = \"Martino Martini\"\n",
    "  def __init__(self, nome, cognome, voti:list):\n",
    "    self.nome = nome\n",
    "    self.cognome = cognome\n",
    "    self.voti = voti\n",
    "\n",
    "  def update(self, voto: float):\n",
    "    self.voti = self.voti + [voto]\n"
   ]
  },
  {
   "cell_type": "code",
   "execution_count": null,
   "metadata": {
    "id": "aDduN5K472LK"
   },
   "outputs": [],
   "source": [
    "stud1 = Studente(\"Mario\", \"Rossi\", [6,7])\n",
    "stud1.update(5)\n"
   ]
  },
  {
   "cell_type": "code",
   "execution_count": null,
   "metadata": {
    "colab": {
     "base_uri": "https://localhost:8080/"
    },
    "executionInfo": {
     "elapsed": 248,
     "status": "ok",
     "timestamp": 1701101295923,
     "user": {
      "displayName": "GIULIA GAREGNANI",
      "userId": "07189878603650634025"
     },
     "user_tz": -60
    },
    "id": "b2W1B7CBiXM-",
    "outputId": "159520ae-bafd-4edb-c79c-91dfed755c09"
   },
   "outputs": [
    {
     "name": "stdout",
     "output_type": "stream",
     "text": [
      "[6, 7, 5]\n",
      "Martino Martini\n"
     ]
    }
   ],
   "source": [
    "print(stud1.voti)\n",
    "print(stud1.scuola)"
   ]
  },
  {
   "cell_type": "markdown",
   "metadata": {
    "id": "yn0FnPop-GQ-"
   },
   "source": [
    "## Metodi di una classe\n",
    "\n",
    "Proviamo ad aggiungere il metodo rimbalza alla classe Palla. Questo metodo sostituisce alla coordinata z (la quota) della palla un nuovo valore, pari a una data percentuale del precedente. Ricordiamoci che i metodi sono delle funzioni della Classe a cui dobbiamo sempre passare come primo parametro self in modo da poter usare il metodo su ogni oggetto istanziato.\n",
    "\n",
    "```\n",
    "class Palla:\n",
    "  \"Classe palla\"\n",
    "  def __init__(self, colore: str, forma: str, posizione: list):\n",
    "    self.colore = colore\n",
    "    self.forma = forma\n",
    "    self.posizione = posizione\n",
    "  def rimbalza(self, percentuale_quota: float):\n",
    "    \" Sostituisce alla coordinata z (la quota) della palla un nuovo valore, pari a una percentuale del precedente\"\n",
    "    self.posizione[2] = percentuale_quota * self.posizione[2]\n",
    "```\n",
    "\n",
    "\n"
   ]
  },
  {
   "cell_type": "code",
   "execution_count": null,
   "metadata": {
    "id": "3esjwb_JBwMr"
   },
   "outputs": [],
   "source": []
  },
  {
   "cell_type": "code",
   "execution_count": null,
   "metadata": {
    "id": "z1_YBb4NFPKu"
   },
   "outputs": [],
   "source": []
  },
  {
   "cell_type": "markdown",
   "metadata": {
    "id": "FxgrqtZxF3l8"
   },
   "source": [
    "Proviamo a modificare la classe palla passando come posizione un dizionario con le chiavi x,y, quota."
   ]
  },
  {
   "cell_type": "code",
   "execution_count": null,
   "metadata": {
    "id": "rljNQmayGRxP"
   },
   "outputs": [],
   "source": []
  },
  {
   "cell_type": "markdown",
   "metadata": {
    "id": "c6Sxr4YhGGRw"
   },
   "source": [
    "## Differenza tra variabili di classe e variabili di istanza\n",
    "\n",
    "Creiamo la classe squadra di pallavolo.\n",
    "\n",
    "Il numero di giocatori in campo sono 6 e questa è una variabile che appartiente a tutte le classi. La dichiariamo all'inizio.\n",
    "\n",
    "\n",
    "Il nome dell'allenatore sarà specifico di un determinato oggeto squadra e quindi viene definito tramite self solitamente dopo il motodo di inizializzazione.\n",
    "\n",
    "Proviamo a definire la seguente classe:\n",
    "\n",
    "```\n",
    "class Squadra:\n",
    "  \"Classe squadra\"\n",
    "  giocatori_titolari = 6\n",
    "  def __init__(self, nome_squadra: str, allenatore: str, giocatori_totali: int):\n",
    "    self.nome_squadra=nome_squadra\n",
    "    self.allenatore=allenatore\n",
    "    self.giocatori_totali=giocatori_totali\n",
    "    self.giocatori_panchina = giocatori_totali - self.giocatori_titolari\n",
    "```\n",
    "\n",
    "Istanziamo l'oggetto squadra_MartinoMartini  e proviamo a stampare il numero di giocatori titolare e in panchina.\n"
   ]
  },
  {
   "cell_type": "code",
   "execution_count": null,
   "metadata": {
    "id": "bcGwwHlZKtum"
   },
   "outputs": [],
   "source": [
    "class Squadra:\n",
    "  \"Classe squadra\"\n",
    "  giocatori_titolari = 6\n",
    "  def __init__(self, nome_squadra: str, allenatore: str, giocatori_totali: int):\n",
    "    self.nome_squadra=nome_squadra\n",
    "    self.allenatore=allenatore\n",
    "    self.giocatori_totali = giocatori_totali\n",
    "    self.giocatori_panchina = self.giocatori_totali - self.giocatori_titolari"
   ]
  },
  {
   "cell_type": "code",
   "execution_count": null,
   "metadata": {
    "colab": {
     "base_uri": "https://localhost:8080/"
    },
    "executionInfo": {
     "elapsed": 4,
     "status": "ok",
     "timestamp": 1701103838757,
     "user": {
      "displayName": "GIULIA GAREGNANI",
      "userId": "07189878603650634025"
     },
     "user_tz": -60
    },
    "id": "JrLDROA8MQhf",
    "outputId": "5c88b3f5-4b81-4e27-d123-acf61ab64cce"
   },
   "outputs": [
    {
     "name": "stdout",
     "output_type": "stream",
     "text": [
      "5\n"
     ]
    }
   ],
   "source": [
    "mia_squadra = Squadra(\"pippo\", \"Giulia\", 11)\n",
    "print(mia_squadra.giocatori_panchina)"
   ]
  },
  {
   "cell_type": "markdown",
   "metadata": {
    "id": "W7bhBQLuNzEl"
   },
   "source": [
    "Proviamo a cambiare la classe definendo il metodo che calcola il numero dei giocatori non convocati in base al numero dei giocatori in panchina. Qui chiedo una mano agli esperti? Sono un numero fissato i giocatori in pachina?"
   ]
  },
  {
   "cell_type": "code",
   "execution_count": null,
   "metadata": {
    "id": "XdMaPpySOcsU"
   },
   "outputs": [],
   "source": [
    "class Squadra:\n",
    "  \"Classe squadra\"\n",
    "  giocatori_titolari = 6\n",
    "  def __init__(self, nome_squadra: str, allenatore: str, giocatori_totali: int, giocatori_panchina: int):\n",
    "    self.nome_squadra=nome_squadra\n",
    "    self.allenatore=allenatore\n",
    "    self.giocatori_totali = giocatori_totali\n",
    "    if giocatori_panchina > 6:\n",
    "      print(\"il massimo è 6\")\n",
    "      giocatori_panchina =6\n",
    "    self.giocatori_panchina = giocatori_panchina\n",
    "\n",
    "  def giocatori_non_convocati(self):\n",
    "    print(f\"I giocatori non convocati sono {self.giocatori_totali-self.giocatori_panchina-self.giocatori_titolari}\")"
   ]
  },
  {
   "cell_type": "markdown",
   "metadata": {
    "id": "w5crM1n9OObf"
   },
   "source": [
    "# Eriditarietà delle classi\n",
    "\n",
    "Sia l'allenatore che i giocatori della nostra squadra sono persone ma avranno degli attributi diversi. A esempio, il giocatore potrà avere come attributo il numero di ace, di muri fatti, di ricezioni perfette e di schiacciate. Il libero che è un particolare giocatore potrà avere solo il numero di ricezioni. L'allenatore non avrà nessuno di questi attributi.\n",
    "\n",
    "In questo caso conviene definire prima la classe persona:\n",
    "\n",
    "```\n",
    "class Persona:\n",
    "    def __init__(self, nome, cognome, età, squadra):\n",
    "        self.nome = nome\n",
    "        self.cognome = cognome\n",
    "        self.età = età\n",
    "        self.squadra = squadra\n",
    "\n",
    "    def scheda_personale(self):\n",
    "        scheda = f\"\"\"\n",
    "        Nome: {self.nome}\n",
    "        Cognome: {self.cognome}\n",
    "        Età: {self.età}\n",
    "        Squadra: {self.squadra}\\n\"\"\"\n",
    "        return scheda\n",
    "```\n",
    "\n",
    "Possiamo definire po la classe allenatore ereditando tutti gli attributi dalla classe Persona\n",
    "\n",
    "```\n",
    "class Allenatore(Persona):\n",
    "    pass\n",
    "```\n",
    "\n",
    "\n",
    "\n",
    "\n"
   ]
  },
  {
   "cell_type": "code",
   "execution_count": null,
   "metadata": {
    "id": "WBBVH_Z9SN4X"
   },
   "outputs": [],
   "source": []
  },
  {
   "cell_type": "code",
   "execution_count": null,
   "metadata": {
    "id": "Djy5Jzq7VOCE"
   },
   "outputs": [],
   "source": []
  },
  {
   "cell_type": "markdown",
   "metadata": {
    "id": "WYlLInxaRoa7"
   },
   "source": [
    "## Il metodo super\n",
    "\n",
    "Possiamo usare la funzione super() per far in modo che nome, cognome, età, squadra vengano gestiti dal metodo `__init__` della classe genitore, ovvero la classe Persona. Possiamo a esempio definire la classe libero nel seguente modo:\n",
    "\n",
    "```\n",
    "class Libero(Persona):\n",
    "    ruolo = \"libero\"\n",
    "\n",
    "    def __init__(self, nome, cognome, età, squadra, ricezioni_perfette):\n",
    "        super().__init__(nome, cognome, età, squadra)\n",
    "        self.ricezioni_perfette = ricezioni_perfette\n",
    "```\n",
    "\n",
    "Dopo aver definito la classe, istanziamo l'oggetto libero1."
   ]
  },
  {
   "cell_type": "code",
   "execution_count": null,
   "metadata": {
    "id": "DH9shH7RWkPP"
   },
   "outputs": [],
   "source": []
  },
  {
   "cell_type": "code",
   "execution_count": null,
   "metadata": {
    "id": "Vn_lQX6tWsla"
   },
   "outputs": [],
   "source": []
  },
  {
   "cell_type": "markdown",
   "metadata": {
    "id": "dUIVEsj3XQv5"
   },
   "source": [
    "Possiamo anche modificare il metodo stampa scheda:\n",
    "\n",
    "```\n",
    "    def scheda_personale(self):\n",
    "        scheda = f\"\"\"\n",
    "        Profilo:{Libero.ruolo}\n",
    "        numero di ricezioni perfette:{self.ricezioni_perfette}\n",
    "        ***\"\"\"\n",
    "        return super().scheda_personale() + scheda\n",
    "```\n",
    "\n"
   ]
  },
  {
   "cell_type": "code",
   "execution_count": null,
   "metadata": {
    "id": "4TQrMH0FXkNq"
   },
   "outputs": [],
   "source": []
  },
  {
   "cell_type": "code",
   "execution_count": null,
   "metadata": {
    "id": "y-LI3PpWCdNr"
   },
   "outputs": [],
   "source": []
  },
  {
   "cell_type": "markdown",
   "metadata": {
    "id": "rBsV_jkVCVl7"
   },
   "source": [
    "# Esercizi\n"
   ]
  },
  {
   "cell_type": "markdown",
   "metadata": {
    "id": "mk4AWWjpC3K9"
   },
   "source": [
    "## Squadra\n",
    "\n",
    "Creare la classe Squadra. Per inizializzarla usare i seguenti dati:\n",
    "1. nome squadra\n",
    "2. categoria\n",
    "3. allenatore\n",
    "4. lista giocatori\n",
    "\n",
    "Definire i seguenti metodi:\n",
    "\n",
    "1.   dato un giocatore, se la squadra per cui gioca è uguale aggiorna la lista dei giocatori altrimenti resitutisce la frase: \"il giocatore non è della stessa squadra!\"\n",
    "2.   calcola il numero totale di ace, ricezioni perfette e muri effettuati dalla squadra durante la partita\n",
    "\n",
    "\n"
   ]
  },
  {
   "cell_type": "code",
   "execution_count": null,
   "metadata": {
    "id": "NmrF-vfgEN1t"
   },
   "outputs": [],
   "source": []
  },
  {
   "cell_type": "markdown",
   "metadata": {
    "id": "n0b7u_w3GNmV"
   },
   "source": [
    "Creare una classe con metodi e dati per modelizzare un problema relativo alla propria disciplina di insegnamento. Provare a creare un'istanza e a utilizzare i suoi metodi."
   ]
  },
  {
   "cell_type": "code",
   "execution_count": null,
   "metadata": {
    "id": "AisrQZPjGqvM"
   },
   "outputs": [],
   "source": []
  },
  {
   "cell_type": "markdown",
   "metadata": {},
   "source": [
    "## Creazione di oggetti con chatgbt o google bard\n",
    "\n",
    "Chiedere a chatgbt o bard di reare una classe con metodi e dati per modelizzare un problema relativo alla propria disciplina di insegnamento. Provare a correggere/modificare i metodi proposti, istanziare un oggetto e a utilizzare i suoi metodi."
   ]
  },
  {
   "cell_type": "code",
   "execution_count": null,
   "metadata": {},
   "outputs": [],
   "source": []
  },
  {
   "cell_type": "markdown",
   "metadata": {
    "id": "7KpPYJ0TzxbA"
   },
   "source": [
    "# Fonti\n",
    "\n",
    "https://pytutorial-it.readthedocs.io/it/python3.10/classes.html#tut-private\n",
    "\n",
    "https://www.programmareinpython.it/video-corso-python-programmazione-a-oggetti/01-classi-e-istanze/"
   ]
  }
 ],
 "metadata": {
  "colab": {
   "provenance": [
    {
     "file_id": "13DwOgDa-uAtNFvLASX13yRQ5UcHAwf2G",
     "timestamp": 1701096539636
    }
   ]
  },
  "kernelspec": {
   "display_name": "Python 3 (ipykernel)",
   "language": "python",
   "name": "python3"
  },
  "language_info": {
   "codemirror_mode": {
    "name": "ipython",
    "version": 3
   },
   "file_extension": ".py",
   "mimetype": "text/x-python",
   "name": "python",
   "nbconvert_exporter": "python",
   "pygments_lexer": "ipython3",
   "version": "3.9.12"
  }
 },
 "nbformat": 4,
 "nbformat_minor": 4
}
