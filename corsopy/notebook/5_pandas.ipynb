{
 "cells": [
  {
   "cell_type": "markdown",
   "metadata": {
    "id": "gmYVSlQaUZjI"
   },
   "source": [
    "# Un nuovo modulo: Pandas\n",
    "\n",
    "https://pandas.pydata.org/docs/user_guide/10min.html#basic-data-structures-in-pandas\n",
    "\n",
    "Usiamo il codice della scorsa lezione per importare i dati meteo:\n",
    "\n",
    "```\n",
    "import datetime as dt\n",
    "from bs4 import BeautifulSoup\n",
    "from urllib import request\n",
    "\n",
    "url = 'https://dati.meteotrentino.it/service.asmx/ultimiDatiStazione?codice=T0212'\n",
    "response = request.urlopen(url)\n",
    "data = response.read()      # a `bytes` object\n",
    "text = data.decode('utf-8') # a `str`;\n",
    "soup = BeautifulSoup(text,'xml')\n",
    "\n",
    "list_temp = []\n",
    "list_data = []\n",
    "for temp in soup.find_all(\"temperatura_aria\"):\n",
    "  list_data.append(dt.datetime.strptime(temp.contents[1].contents[0],\"%Y-%m-%dT%H:%M:%S\" ))\n",
    "  list_temp.append(float(temp.contents[3].contents[0]))\n",
    "\n",
    "```\n",
    "\n",
    "Abbiamo due liste, date e dati di temperatura.\n",
    "\n",
    "\n",
    "Esistono due nuove strutture di dati simili a delle tabelle:\n",
    "* Series\n",
    "* Dataframe\n",
    "\n",
    "\n"
   ]
  },
  {
   "cell_type": "code",
   "execution_count": null,
   "metadata": {
    "id": "o9K4RSYAW4JO"
   },
   "outputs": [],
   "source": [
    "import datetime as dt\n",
    "from bs4 import BeautifulSoup\n",
    "from urllib import request\n",
    "\n",
    "url = 'https://dati.meteotrentino.it/service.asmx/ultimiDatiStazione?codice=T0212'\n",
    "response = request.urlopen(url)\n",
    "data = response.read()      # a `bytes` object\n",
    "text = data.decode('utf-8') # a `str`;\n",
    "soup = BeautifulSoup(text,'xml')\n",
    "\n",
    "list_temp = []\n",
    "list_data = []\n",
    "for temp in soup.find_all(\"temperatura_aria\"):\n",
    "  list_data.append(dt.datetime.strptime(temp.contents[1].contents[0],\"%Y-%m-%dT%H:%M:%S\" ))\n",
    "  list_temp.append(float(temp.contents[3].contents[0]))"
   ]
  },
  {
   "cell_type": "markdown",
   "metadata": {
    "id": "Sj5jgl4xSzuW"
   },
   "source": [
    "# Un nuovo modulo: Pandas\n",
    "\n",
    "https://pandas.pydata.org/docs/user_guide/10min.html#basic-data-structures-in-pandas\n",
    "\n",
    "Usiamo il codice della scorsa lezione per importare i dati meteo:\n",
    "\n",
    "```\n",
    "import datetime as dt\n",
    "from bs4 import BeautifulSoup\n",
    "from urllib import request\n",
    "\n",
    "url = 'https://dati.meteotrentino.it/service.asmx/ultimiDatiStazione?codice=T0212'\n",
    "response = request.urlopen(url)\n",
    "data = response.read()      # a `bytes` object\n",
    "text = data.decode('utf-8') # a `str`;\n",
    "soup = BeautifulSoup(text,'xml')\n",
    "\n",
    "list_temp = []\n",
    "list_data = []\n",
    "for temp in soup.find_all(\"temperatura_aria\"):\n",
    "  list_data.append(dt.datetime.strptime(temp.contents[1].contents[0],\"%Y-%m-%dT%H:%M:%S\" ))\n",
    "  list_temp.append(float(temp.contents[3].contents[0]))\n",
    "\n",
    "```\n",
    "\n",
    "Abbiamo due liste, date e dati di temperatura.\n",
    "\n",
    "\n",
    "Esistono due nuove strutture di dati simili a delle tabelle:\n",
    "* Series\n",
    "* Dataframe\n",
    "\n",
    "\n"
   ]
  },
  {
   "cell_type": "markdown",
   "metadata": {
    "id": "osEk-I1USy8l"
   },
   "source": [
    "# Un nuovo modulo: Pandas\n",
    "\n",
    "https://pandas.pydata.org/docs/user_guide/10min.html#basic-data-structures-in-pandas\n",
    "\n",
    "Usiamo il codice della scorsa lezione per importare i dati meteo:\n",
    "\n",
    "```\n",
    "import datetime as dt\n",
    "from bs4 import BeautifulSoup\n",
    "from urllib import request\n",
    "\n",
    "url = 'https://dati.meteotrentino.it/service.asmx/ultimiDatiStazione?codice=T0212'\n",
    "response = request.urlopen(url)\n",
    "data = response.read()      # a `bytes` object\n",
    "text = data.decode('utf-8') # a `str`;\n",
    "soup = BeautifulSoup(text,'xml')\n",
    "\n",
    "list_temp = []\n",
    "list_data = []\n",
    "for temp in soup.find_all(\"temperatura_aria\"):\n",
    "  list_data.append(dt.datetime.strptime(temp.contents[1].contents[0],\"%Y-%m-%dT%H:%M:%S\" ))\n",
    "  list_temp.append(float(temp.contents[3].contents[0]))\n",
    "\n",
    "```\n",
    "\n",
    "Abbiamo due liste, date e dati di temperatura.\n",
    "\n",
    "\n",
    "Esistono due nuove strutture di dati simili a delle tabelle:\n",
    "* Series\n",
    "* Dataframe\n",
    "\n",
    "\n"
   ]
  },
  {
   "cell_type": "markdown",
   "metadata": {
    "id": "mTnIIgm0wuR3"
   },
   "source": [
    "# Series\n",
    "\n",
    "La serie è un array monodimensionale costituito da:\n",
    "\n",
    "* indice, sono le etichette delle nostre righe\n",
    "* una serie di dati con la stessa lunghezza dell'indice\n",
    "\n",
    "Gli indici possono essere duplicati,ma non tutte le operazioni con le serie permettono duplicati.\n",
    "\n",
    "Possiamo trasformare i nostri dati in una tabella con indice le date e valori le temperature:\n",
    "\n",
    "```\n",
    "import pandas as pd\n",
    "serie_temp = pd.Series(list_temp, index=list_data)\n",
    "```\n",
    "\n",
    "Pssiamo aggiungere un nome alla nostra serie passando l'argomento `name=\"temperature\"`\n",
    "\n"
   ]
  },
  {
   "cell_type": "code",
   "execution_count": null,
   "metadata": {
    "id": "-sI2Mxg1xfoK"
   },
   "outputs": [],
   "source": []
  },
  {
   "cell_type": "code",
   "execution_count": null,
   "metadata": {
    "colab": {
     "base_uri": "https://localhost:8080/"
    },
    "executionInfo": {
     "elapsed": 3,
     "status": "ok",
     "timestamp": 1701869843043,
     "user": {
      "displayName": "GIULIA GAREGNANI",
      "userId": "07189878603650634025"
     },
     "user_tz": -60
    },
    "id": "CiwW35PDTBcv",
    "outputId": "509390b6-40ce-45f2-9118-7d3c54dd162f"
   },
   "outputs": [
    {
     "data": {
      "text/plain": [
       "2023-12-05 00:00:00   -2.2\n",
       "2023-12-05 00:15:00   -2.3\n",
       "2023-12-05 00:30:00   -2.1\n",
       "2023-12-05 00:45:00   -2.1\n",
       "2023-12-05 01:00:00   -2.1\n",
       "Name: temperatura, dtype: float64"
      ]
     },
     "execution_count": 7,
     "metadata": {},
     "output_type": "execute_result"
    }
   ],
   "source": [
    "import pandas as pd\n",
    "serie_temp = pd.Series(list_temp, index=list_data, name=\"temperatura\")\n",
    "serie_temp.head()"
   ]
  },
  {
   "cell_type": "markdown",
   "metadata": {
    "id": "mkPSpIxt4AMD"
   },
   "source": [
    "Proviamo ad accedere a un singolo dato come facevamo per i dizionari:\n",
    "```\n",
    "serie_temp.loc[\"2023-12-04 00:00:00\"]\n",
    "```\n",
    "L'indice è come se fosse una chiave.\n",
    "\n",
    "Per accedere a un intervallo di righe utilizzare:\n",
    "```\n",
    "serie_temp[t1:t2]\n",
    "```\n",
    "dove t1 e t2 devono essere coerenti con il tipo di indice."
   ]
  },
  {
   "cell_type": "code",
   "execution_count": null,
   "metadata": {
    "colab": {
     "base_uri": "https://localhost:8080/"
    },
    "executionInfo": {
     "elapsed": 3,
     "status": "ok",
     "timestamp": 1701870345735,
     "user": {
      "displayName": "GIULIA GAREGNANI",
      "userId": "07189878603650634025"
     },
     "user_tz": -60
    },
    "id": "mWMEOxsA5Q3d",
    "outputId": "cbc23213-5d2a-4398-986a-58a9f8d94d59"
   },
   "outputs": [
    {
     "data": {
      "text/plain": [
       "-1.7"
      ]
     },
     "execution_count": 13,
     "metadata": {},
     "output_type": "execute_result"
    }
   ],
   "source": [
    "serie_temp[\"2023-12-05 08:00:00\"]"
   ]
  },
  {
   "cell_type": "code",
   "execution_count": null,
   "metadata": {
    "colab": {
     "base_uri": "https://localhost:8080/"
    },
    "executionInfo": {
     "elapsed": 374,
     "status": "ok",
     "timestamp": 1701870497041,
     "user": {
      "displayName": "GIULIA GAREGNANI",
      "userId": "07189878603650634025"
     },
     "user_tz": -60
    },
    "id": "KTPwU7EolrKC",
    "outputId": "2f0e533b-9228-4436-cd77-98ffb0ca4ec3"
   },
   "outputs": [
    {
     "name": "stdout",
     "output_type": "stream",
     "text": [
      "2023-12-05 08:00:00   -1.7\n",
      "2023-12-05 08:15:00   -1.5\n",
      "2023-12-05 08:30:00   -1.4\n",
      "2023-12-05 08:45:00   -1.3\n",
      "2023-12-05 09:00:00   -1.1\n",
      "2023-12-05 09:15:00   -1.1\n",
      "2023-12-05 09:30:00   -0.9\n",
      "2023-12-05 09:45:00   -0.7\n",
      "2023-12-05 10:00:00   -0.7\n",
      "Name: temperatura, dtype: float64\n"
     ]
    }
   ],
   "source": [
    "t1 = dt.datetime.strptime(\"2023-12-05 08:00:00\", \"%Y-%m-%d %H:%M:%S\")\n",
    "t2 = dt.datetime.strptime(\"2023-12-05 10:00:00\", \"%Y-%m-%d %H:%M:%S\")\n",
    "serie_temp.loc[t1]\n",
    "print(serie_temp[t1:t2])"
   ]
  },
  {
   "cell_type": "markdown",
   "metadata": {
    "id": "7IFB6YoS5nWC"
   },
   "source": [
    "Troviamo i valori massimi della serie e l'orario corrispondente utilizzando i metodi della classe series"
   ]
  },
  {
   "cell_type": "code",
   "execution_count": null,
   "metadata": {
    "colab": {
     "base_uri": "https://localhost:8080/"
    },
    "executionInfo": {
     "elapsed": 428,
     "status": "ok",
     "timestamp": 1701870869670,
     "user": {
      "displayName": "GIULIA GAREGNANI",
      "userId": "07189878603650634025"
     },
     "user_tz": -60
    },
    "id": "ORnGsUTU6THG",
    "outputId": "a6695743-c342-482e-8688-64181e59d4db"
   },
   "outputs": [
    {
     "name": "stdout",
     "output_type": "stream",
     "text": [
      "2023-12-06 14:00:00 3.9\n"
     ]
    }
   ],
   "source": [
    "print(serie_temp.idxmax(), serie_temp[serie_temp.idxmax()])"
   ]
  },
  {
   "cell_type": "code",
   "execution_count": null,
   "metadata": {
    "colab": {
     "base_uri": "https://localhost:8080/"
    },
    "executionInfo": {
     "elapsed": 3,
     "status": "ok",
     "timestamp": 1701870928510,
     "user": {
      "displayName": "GIULIA GAREGNANI",
      "userId": "07189878603650634025"
     },
     "user_tz": -60
    },
    "id": "4ny0QDdcaNXr",
    "outputId": "9599a323-5ca9-4937-acf8-4c0063cf4537"
   },
   "outputs": [
    {
     "data": {
      "text/plain": [
       "2023-12-06 14:00:00    3.9\n",
       "Name: temperatura, dtype: float64"
      ]
     },
     "execution_count": 18,
     "metadata": {},
     "output_type": "execute_result"
    }
   ],
   "source": [
    "serie_temp[serie_temp==serie_temp.max()] # così riesco a trovare più massimi"
   ]
  },
  {
   "cell_type": "code",
   "execution_count": null,
   "metadata": {
    "colab": {
     "base_uri": "https://localhost:8080/"
    },
    "executionInfo": {
     "elapsed": 328,
     "status": "ok",
     "timestamp": 1701871583906,
     "user": {
      "displayName": "GIULIA GAREGNANI",
      "userId": "07189878603650634025"
     },
     "user_tz": -60
    },
    "id": "U2vsLeAGaghF",
    "outputId": "6136bd77-ce35-464f-e79c-d100b07fedfd"
   },
   "outputs": [
    {
     "name": "stdout",
     "output_type": "stream",
     "text": [
      "2023-12-05 00:30:00   -2.1\n",
      "2023-12-05 00:45:00   -2.1\n",
      "2023-12-05 01:00:00   -2.1\n",
      "2023-12-05 01:30:00   -2.1\n",
      "2023-12-05 03:15:00   -2.1\n",
      "Name: temperatura, dtype: float64\n"
     ]
    }
   ],
   "source": [
    "print(serie_temp[serie_temp==-2.1]) # così riesco a trovare più massimi"
   ]
  },
  {
   "cell_type": "markdown",
   "metadata": {
    "id": "S7lzqYvD4Da8"
   },
   "source": [
    "## Groupby\n",
    "\n",
    "Proviamo a calcolarci la media oraria, il massimo e il minimo orario utilizzando il medoto\n",
    "\n",
    "\n",
    "`grouped = serie_temp.groupby(pd.Grouper(freq=\"H\")).mean()`\n",
    "\n",
    "\n",
    "Proviamo a fare dei grafici per entrambe le serie usando il metodo plot. Gli argomenti del metodo plot: https://pandas.pydata.org/docs/reference/api/pandas.Series.plot.html"
   ]
  },
  {
   "cell_type": "code",
   "execution_count": null,
   "metadata": {
    "colab": {
     "base_uri": "https://localhost:8080/"
    },
    "executionInfo": {
     "elapsed": 3,
     "status": "ok",
     "timestamp": 1701872074849,
     "user": {
      "displayName": "GIULIA GAREGNANI",
      "userId": "07189878603650634025"
     },
     "user_tz": -60
    },
    "id": "IsBdZ4KjzjFj",
    "outputId": "c1f732bf-131c-49ea-b867-84e1de69ab89"
   },
   "outputs": [
    {
     "data": {
      "text/plain": [
       "2023-12-05 00:00:00   -2.175\n",
       "2023-12-05 01:00:00   -2.125\n",
       "2023-12-05 02:00:00   -2.275\n",
       "2023-12-05 03:00:00   -2.225\n",
       "2023-12-05 04:00:00   -2.000\n",
       "Freq: H, Name: temperatura, dtype: float64"
      ]
     },
     "execution_count": 25,
     "metadata": {},
     "output_type": "execute_result"
    }
   ],
   "source": [
    "medie=serie_temp.groupby(pd.Grouper(freq=\"H\")).mean()\n",
    "medie.head()"
   ]
  },
  {
   "cell_type": "code",
   "execution_count": null,
   "metadata": {
    "colab": {
     "base_uri": "https://localhost:8080/",
     "height": 499
    },
    "executionInfo": {
     "elapsed": 811,
     "status": "ok",
     "timestamp": 1701872421217,
     "user": {
      "displayName": "GIULIA GAREGNANI",
      "userId": "07189878603650634025"
     },
     "user_tz": -60
    },
    "id": "Z9WqiUQseku0",
    "outputId": "3c9e7f9a-76c2-41bc-b403-1f01dd3a1fb1"
   },
   "outputs": [
    {
     "data": {
      "text/plain": [
       "<Axes: xlabel='time', ylabel='temperature'>"
      ]
     },
     "execution_count": 31,
     "metadata": {},
     "output_type": "execute_result"
    },
    {
     "data": {
      "image/png": "[encoded data removed]",
      "text/plain": [
       "<Figure size 640x480 with 1 Axes>"
      ]
     },
     "metadata": {},
     "output_type": "display_data"
    }
   ],
   "source": [
    "medie.plot(xlabel=\"time\", ylabel=\"temperature\")"
   ]
  },
  {
   "cell_type": "code",
   "execution_count": null,
   "metadata": {
    "colab": {
     "base_uri": "https://localhost:8080/",
     "height": 670
    },
    "executionInfo": {
     "elapsed": 655,
     "status": "ok",
     "timestamp": 1701873254591,
     "user": {
      "displayName": "GIULIA GAREGNANI",
      "userId": "07189878603650634025"
     },
     "user_tz": -60
    },
    "id": "xrMsnrnPfD2c",
    "outputId": "40c7f511-021d-4f33-df76-6116076c2d9e"
   },
   "outputs": [
    {
     "data": {
      "text/plain": [
       "DatetimeIndex(['2023-12-05 00:00:00', '2023-12-05 00:15:00',\n",
       "               '2023-12-05 00:30:00', '2023-12-05 00:45:00',\n",
       "               '2023-12-05 01:00:00', '2023-12-05 01:15:00',\n",
       "               '2023-12-05 01:30:00', '2023-12-05 01:45:00',\n",
       "               '2023-12-05 02:00:00', '2023-12-05 02:15:00',\n",
       "               ...\n",
       "               '2023-12-06 12:00:00', '2023-12-06 12:15:00',\n",
       "               '2023-12-06 12:30:00', '2023-12-06 12:45:00',\n",
       "               '2023-12-06 13:00:00', '2023-12-06 13:15:00',\n",
       "               '2023-12-06 13:30:00', '2023-12-06 13:45:00',\n",
       "               '2023-12-06 14:00:00', '2023-12-06 14:15:00'],\n",
       "              dtype='datetime64[ns]', length=154, freq=None)"
      ]
     },
     "execution_count": 47,
     "metadata": {},
     "output_type": "execute_result"
    },
    {
     "data": {
      "image/png": "[encoded data removed]",
      "text/plain": [
       "<Figure size 640x480 with 1 Axes>"
      ]
     },
     "metadata": {},
     "output_type": "display_data"
    }
   ],
   "source": [
    "serie_temp.plot()\n",
    "serie_temp.index"
   ]
  },
  {
   "cell_type": "markdown",
   "metadata": {
    "id": "MMOrpJt1qAKV"
   },
   "source": [
    "# Dataframe\n",
    "\n",
    "Creiamo un nuovo data frame, una tabella quindi con più colonne.\n",
    "\n",
    "df = pd.DataFrame(index=list_data, columns=[\"temperature\", \"precipitazione\"])\n",
    "\n",
    "Proviamo a creare, utilizzado i dati della nostra stazione, un dataframe con tutti i valori delle variabili misurate e creiamo un grafico per ciascuna di esse."
   ]
  },
  {
   "cell_type": "code",
   "execution_count": null,
   "metadata": {
    "colab": {
     "base_uri": "https://localhost:8080/",
     "height": 479
    },
    "executionInfo": {
     "elapsed": 574,
     "status": "ok",
     "timestamp": 1701876203607,
     "user": {
      "displayName": "GIULIA GAREGNANI",
      "userId": "07189878603650634025"
     },
     "user_tz": -60
    },
    "id": "wygPVV12qjJa",
    "outputId": "2f6fba7d-9788-4689-c08f-dd770196e6c3"
   },
   "outputs": [
    {
     "data": {
      "text/plain": [
       "<Axes: >"
      ]
     },
     "execution_count": 71,
     "metadata": {},
     "output_type": "execute_result"
    },
    {
     "data": {
      "image/png": "[encoded data removed]",
      "text/plain": [
       "<Figure size 640x480 with 1 Axes>"
      ]
     },
     "metadata": {},
     "output_type": "display_data"
    }
   ],
   "source": [
    "df_completo = pd.DataFrame(index=list_data,columns=[\"temperatura\"])\n",
    "df_completo[\"temperatura\"]=list_temp\n",
    "df_completo.head()\n",
    "df_completo[\"temperatura\"].plot()"
   ]
  },
  {
   "cell_type": "code",
   "execution_count": null,
   "metadata": {
    "colab": {
     "base_uri": "https://localhost:8080/",
     "height": 363
    },
    "executionInfo": {
     "elapsed": 5,
     "status": "ok",
     "timestamp": 1701875669696,
     "user": {
      "displayName": "GIULIA GAREGNANI",
      "userId": "07189878603650634025"
     },
     "user_tz": -60
    },
    "id": "HV9MwIi3r4SC",
    "outputId": "74bd485e-f7cf-46b8-e249-297bb652c53f"
   },
   "outputs": [
    {
     "data": {
      "text/html": [
       "\n",
       "  <div id=\"df-0b058bbd-4460-46f3-8728-acf3c7467fa4\" class=\"colab-df-container\">\n",
       "    <div>\n",
       "<style scoped>\n",
       "    .dataframe tbody tr th:only-of-type {\n",
       "        vertical-align: middle;\n",
       "    }\n",
       "\n",
       "    .dataframe tbody tr th {\n",
       "        vertical-align: top;\n",
       "    }\n",
       "\n",
       "    .dataframe thead th {\n",
       "        text-align: right;\n",
       "    }\n",
       "</style>\n",
       "<table border=\"1\" class=\"dataframe\">\n",
       "  <thead>\n",
       "    <tr style=\"text-align: right;\">\n",
       "      <th></th>\n",
       "      <th>temperatura</th>\n",
       "      <th>hour</th>\n",
       "    </tr>\n",
       "  </thead>\n",
       "  <tbody>\n",
       "    <tr>\n",
       "      <th>2023-12-05 00:00:00</th>\n",
       "      <td>-2.2</td>\n",
       "      <td>0</td>\n",
       "    </tr>\n",
       "    <tr>\n",
       "      <th>2023-12-05 00:15:00</th>\n",
       "      <td>-2.3</td>\n",
       "      <td>0</td>\n",
       "    </tr>\n",
       "    <tr>\n",
       "      <th>2023-12-05 00:30:00</th>\n",
       "      <td>-2.1</td>\n",
       "      <td>0</td>\n",
       "    </tr>\n",
       "    <tr>\n",
       "      <th>2023-12-05 00:45:00</th>\n",
       "      <td>-2.1</td>\n",
       "      <td>0</td>\n",
       "    </tr>\n",
       "    <tr>\n",
       "      <th>2023-12-05 01:00:00</th>\n",
       "      <td>-2.1</td>\n",
       "      <td>1</td>\n",
       "    </tr>\n",
       "    <tr>\n",
       "      <th>2023-12-05 01:15:00</th>\n",
       "      <td>-1.9</td>\n",
       "      <td>1</td>\n",
       "    </tr>\n",
       "    <tr>\n",
       "      <th>2023-12-05 01:30:00</th>\n",
       "      <td>-2.1</td>\n",
       "      <td>1</td>\n",
       "    </tr>\n",
       "    <tr>\n",
       "      <th>2023-12-05 01:45:00</th>\n",
       "      <td>-2.4</td>\n",
       "      <td>1</td>\n",
       "    </tr>\n",
       "    <tr>\n",
       "      <th>2023-12-05 02:00:00</th>\n",
       "      <td>-2.4</td>\n",
       "      <td>2</td>\n",
       "    </tr>\n",
       "    <tr>\n",
       "      <th>2023-12-05 02:15:00</th>\n",
       "      <td>-2.3</td>\n",
       "      <td>2</td>\n",
       "    </tr>\n",
       "  </tbody>\n",
       "</table>\n",
       "</div>\n",
       "    <div class=\"colab-df-buttons\">\n",
       "\n",
       "  <div class=\"colab-df-container\">\n",
       "    <button class=\"colab-df-convert\" onclick=\"convertToInteractive('df-0b058bbd-4460-46f3-8728-acf3c7467fa4')\"\n",
       "            title=\"Convert this dataframe to an interactive table.\"\n",
       "            style=\"display:none;\">\n",
       "\n",
       "  <svg xmlns=\"http://www.w3.org/2000/svg\" height=\"24px\" viewBox=\"0 -960 960 960\">\n",
       "    <path d=\"M120-120v-720h720v720H120Zm60-500h600v-160H180v160Zm220 220h160v-160H400v160Zm0 220h160v-160H400v160ZM180-400h160v-160H180v160Zm440 0h160v-160H620v160ZM180-180h160v-160H180v160Zm440 0h160v-160H620v160Z\"/>\n",
       "  </svg>\n",
       "    </button>\n",
       "\n",
       "  <style>\n",
       "    .colab-df-container {\n",
       "      display:flex;\n",
       "      gap: 12px;\n",
       "    }\n",
       "\n",
       "    .colab-df-convert {\n",
       "      background-color: #E8F0FE;\n",
       "      border: none;\n",
       "      border-radius: 50%;\n",
       "      cursor: pointer;\n",
       "      display: none;\n",
       "      fill: #1967D2;\n",
       "      height: 32px;\n",
       "      padding: 0 0 0 0;\n",
       "      width: 32px;\n",
       "    }\n",
       "\n",
       "    .colab-df-convert:hover {\n",
       "      background-color: #E2EBFA;\n",
       "      box-shadow: 0px 1px 2px rgba(60, 64, 67, 0.3), 0px 1px 3px 1px rgba(60, 64, 67, 0.15);\n",
       "      fill: #174EA6;\n",
       "    }\n",
       "\n",
       "    .colab-df-buttons div {\n",
       "      margin-bottom: 4px;\n",
       "    }\n",
       "\n",
       "    [theme=dark] .colab-df-convert {\n",
       "      background-color: #3B4455;\n",
       "      fill: #D2E3FC;\n",
       "    }\n",
       "\n",
       "    [theme=dark] .colab-df-convert:hover {\n",
       "      background-color: #434B5C;\n",
       "      box-shadow: 0px 1px 3px 1px rgba(0, 0, 0, 0.15);\n",
       "      filter: drop-shadow(0px 1px 2px rgba(0, 0, 0, 0.3));\n",
       "      fill: #FFFFFF;\n",
       "    }\n",
       "  </style>\n",
       "\n",
       "    <script>\n",
       "      const buttonEl =\n",
       "        document.querySelector('#df-0b058bbd-4460-46f3-8728-acf3c7467fa4 button.colab-df-convert');\n",
       "      buttonEl.style.display =\n",
       "        google.colab.kernel.accessAllowed ? 'block' : 'none';\n",
       "\n",
       "      async function convertToInteractive(key) {\n",
       "        const element = document.querySelector('#df-0b058bbd-4460-46f3-8728-acf3c7467fa4');\n",
       "        const dataTable =\n",
       "          await google.colab.kernel.invokeFunction('convertToInteractive',\n",
       "                                                    [key], {});\n",
       "        if (!dataTable) return;\n",
       "\n",
       "        const docLinkHtml = 'Like what you see? Visit the ' +\n",
       "          '<a target=\"_blank\" href=https://colab.research.google.com/notebooks/data_table.ipynb>data table notebook</a>'\n",
       "          + ' to learn more about interactive tables.';\n",
       "        element.innerHTML = '';\n",
       "        dataTable['output_type'] = 'display_data';\n",
       "        await google.colab.output.renderOutput(dataTable, element);\n",
       "        const docLink = document.createElement('div');\n",
       "        docLink.innerHTML = docLinkHtml;\n",
       "        element.appendChild(docLink);\n",
       "      }\n",
       "    </script>\n",
       "  </div>\n",
       "\n",
       "\n",
       "<div id=\"df-c1dfe2ea-fe90-48f3-a6c1-f76072549cf6\">\n",
       "  <button class=\"colab-df-quickchart\" onclick=\"quickchart('df-c1dfe2ea-fe90-48f3-a6c1-f76072549cf6')\"\n",
       "            title=\"Suggest charts\"\n",
       "            style=\"display:none;\">\n",
       "\n",
       "<svg xmlns=\"http://www.w3.org/2000/svg\" height=\"24px\"viewBox=\"0 0 24 24\"\n",
       "     width=\"24px\">\n",
       "    <g>\n",
       "        <path d=\"M19 3H5c-1.1 0-2 .9-2 2v14c0 1.1.9 2 2 2h14c1.1 0 2-.9 2-2V5c0-1.1-.9-2-2-2zM9 17H7v-7h2v7zm4 0h-2V7h2v10zm4 0h-2v-4h2v4z\"/>\n",
       "    </g>\n",
       "</svg>\n",
       "  </button>\n",
       "\n",
       "<style>\n",
       "  .colab-df-quickchart {\n",
       "      --bg-color: #E8F0FE;\n",
       "      --fill-color: #1967D2;\n",
       "      --hover-bg-color: #E2EBFA;\n",
       "      --hover-fill-color: #174EA6;\n",
       "      --disabled-fill-color: #AAA;\n",
       "      --disabled-bg-color: #DDD;\n",
       "  }\n",
       "\n",
       "  [theme=dark] .colab-df-quickchart {\n",
       "      --bg-color: #3B4455;\n",
       "      --fill-color: #D2E3FC;\n",
       "      --hover-bg-color: #434B5C;\n",
       "      --hover-fill-color: #FFFFFF;\n",
       "      --disabled-bg-color: #3B4455;\n",
       "      --disabled-fill-color: #666;\n",
       "  }\n",
       "\n",
       "  .colab-df-quickchart {\n",
       "    background-color: var(--bg-color);\n",
       "    border: none;\n",
       "    border-radius: 50%;\n",
       "    cursor: pointer;\n",
       "    display: none;\n",
       "    fill: var(--fill-color);\n",
       "    height: 32px;\n",
       "    padding: 0;\n",
       "    width: 32px;\n",
       "  }\n",
       "\n",
       "  .colab-df-quickchart:hover {\n",
       "    background-color: var(--hover-bg-color);\n",
       "    box-shadow: 0 1px 2px rgba(60, 64, 67, 0.3), 0 1px 3px 1px rgba(60, 64, 67, 0.15);\n",
       "    fill: var(--button-hover-fill-color);\n",
       "  }\n",
       "\n",
       "  .colab-df-quickchart-complete:disabled,\n",
       "  .colab-df-quickchart-complete:disabled:hover {\n",
       "    background-color: var(--disabled-bg-color);\n",
       "    fill: var(--disabled-fill-color);\n",
       "    box-shadow: none;\n",
       "  }\n",
       "\n",
       "  .colab-df-spinner {\n",
       "    border: 2px solid var(--fill-color);\n",
       "    border-color: transparent;\n",
       "    border-bottom-color: var(--fill-color);\n",
       "    animation:\n",
       "      spin 1s steps(1) infinite;\n",
       "  }\n",
       "\n",
       "  @keyframes spin {\n",
       "    0% {\n",
       "      border-color: transparent;\n",
       "      border-bottom-color: var(--fill-color);\n",
       "      border-left-color: var(--fill-color);\n",
       "    }\n",
       "    20% {\n",
       "      border-color: transparent;\n",
       "      border-left-color: var(--fill-color);\n",
       "      border-top-color: var(--fill-color);\n",
       "    }\n",
       "    30% {\n",
       "      border-color: transparent;\n",
       "      border-left-color: var(--fill-color);\n",
       "      border-top-color: var(--fill-color);\n",
       "      border-right-color: var(--fill-color);\n",
       "    }\n",
       "    40% {\n",
       "      border-color: transparent;\n",
       "      border-right-color: var(--fill-color);\n",
       "      border-top-color: var(--fill-color);\n",
       "    }\n",
       "    60% {\n",
       "      border-color: transparent;\n",
       "      border-right-color: var(--fill-color);\n",
       "    }\n",
       "    80% {\n",
       "      border-color: transparent;\n",
       "      border-right-color: var(--fill-color);\n",
       "      border-bottom-color: var(--fill-color);\n",
       "    }\n",
       "    90% {\n",
       "      border-color: transparent;\n",
       "      border-bottom-color: var(--fill-color);\n",
       "    }\n",
       "  }\n",
       "</style>\n",
       "\n",
       "  <script>\n",
       "    async function quickchart(key) {\n",
       "      const quickchartButtonEl =\n",
       "        document.querySelector('#' + key + ' button');\n",
       "      quickchartButtonEl.disabled = true;  // To prevent multiple clicks.\n",
       "      quickchartButtonEl.classList.add('colab-df-spinner');\n",
       "      try {\n",
       "        const charts = await google.colab.kernel.invokeFunction(\n",
       "            'suggestCharts', [key], {});\n",
       "      } catch (error) {\n",
       "        console.error('Error during call to suggestCharts:', error);\n",
       "      }\n",
       "      quickchartButtonEl.classList.remove('colab-df-spinner');\n",
       "      quickchartButtonEl.classList.add('colab-df-quickchart-complete');\n",
       "    }\n",
       "    (() => {\n",
       "      let quickchartButtonEl =\n",
       "        document.querySelector('#df-c1dfe2ea-fe90-48f3-a6c1-f76072549cf6 button');\n",
       "      quickchartButtonEl.style.display =\n",
       "        google.colab.kernel.accessAllowed ? 'block' : 'none';\n",
       "    })();\n",
       "  </script>\n",
       "</div>\n",
       "    </div>\n",
       "  </div>\n"
      ],
      "text/plain": [
       "                     temperatura  hour\n",
       "2023-12-05 00:00:00         -2.2     0\n",
       "2023-12-05 00:15:00         -2.3     0\n",
       "2023-12-05 00:30:00         -2.1     0\n",
       "2023-12-05 00:45:00         -2.1     0\n",
       "2023-12-05 01:00:00         -2.1     1\n",
       "2023-12-05 01:15:00         -1.9     1\n",
       "2023-12-05 01:30:00         -2.1     1\n",
       "2023-12-05 01:45:00         -2.4     1\n",
       "2023-12-05 02:00:00         -2.4     2\n",
       "2023-12-05 02:15:00         -2.3     2"
      ]
     },
     "execution_count": 66,
     "metadata": {},
     "output_type": "execute_result"
    }
   ],
   "source": [
    "df_completo[\"hour\"]=df_completo.index.hour\n",
    "df_completo.head(10)"
   ]
  },
  {
   "cell_type": "code",
   "execution_count": null,
   "metadata": {
    "colab": {
     "base_uri": "https://localhost:8080/",
     "height": 363
    },
    "executionInfo": {
     "elapsed": 363,
     "status": "ok",
     "timestamp": 1701876041915,
     "user": {
      "displayName": "GIULIA GAREGNANI",
      "userId": "07189878603650634025"
     },
     "user_tz": -60
    },
    "id": "UjvDE9HMs9RI",
    "outputId": "71c95c4b-bf27-4890-b64f-049c56fb1b2d"
   },
   "outputs": [
    {
     "data": {
      "text/html": [
       "\n",
       "  <div id=\"df-6bf6a2cf-92a0-4dcb-9c93-a650faa47760\" class=\"colab-df-container\">\n",
       "    <div>\n",
       "<style scoped>\n",
       "    .dataframe tbody tr th:only-of-type {\n",
       "        vertical-align: middle;\n",
       "    }\n",
       "\n",
       "    .dataframe tbody tr th {\n",
       "        vertical-align: top;\n",
       "    }\n",
       "\n",
       "    .dataframe thead th {\n",
       "        text-align: right;\n",
       "    }\n",
       "</style>\n",
       "<table border=\"1\" class=\"dataframe\">\n",
       "  <thead>\n",
       "    <tr style=\"text-align: right;\">\n",
       "      <th></th>\n",
       "      <th>temperatura</th>\n",
       "      <th>hour</th>\n",
       "      <th>shift_temp</th>\n",
       "    </tr>\n",
       "  </thead>\n",
       "  <tbody>\n",
       "    <tr>\n",
       "      <th>2023-12-05 00:00:00</th>\n",
       "      <td>-2.2</td>\n",
       "      <td>0</td>\n",
       "      <td>NaN</td>\n",
       "    </tr>\n",
       "    <tr>\n",
       "      <th>2023-12-05 00:15:00</th>\n",
       "      <td>-2.3</td>\n",
       "      <td>0</td>\n",
       "      <td>NaN</td>\n",
       "    </tr>\n",
       "    <tr>\n",
       "      <th>2023-12-05 00:30:00</th>\n",
       "      <td>-2.1</td>\n",
       "      <td>0</td>\n",
       "      <td>NaN</td>\n",
       "    </tr>\n",
       "    <tr>\n",
       "      <th>2023-12-05 00:45:00</th>\n",
       "      <td>-2.1</td>\n",
       "      <td>0</td>\n",
       "      <td>NaN</td>\n",
       "    </tr>\n",
       "    <tr>\n",
       "      <th>2023-12-05 01:00:00</th>\n",
       "      <td>-2.1</td>\n",
       "      <td>1</td>\n",
       "      <td>-2.2</td>\n",
       "    </tr>\n",
       "    <tr>\n",
       "      <th>2023-12-05 01:15:00</th>\n",
       "      <td>-1.9</td>\n",
       "      <td>1</td>\n",
       "      <td>-2.3</td>\n",
       "    </tr>\n",
       "    <tr>\n",
       "      <th>2023-12-05 01:30:00</th>\n",
       "      <td>-2.1</td>\n",
       "      <td>1</td>\n",
       "      <td>-2.1</td>\n",
       "    </tr>\n",
       "    <tr>\n",
       "      <th>2023-12-05 01:45:00</th>\n",
       "      <td>-2.4</td>\n",
       "      <td>1</td>\n",
       "      <td>-2.1</td>\n",
       "    </tr>\n",
       "    <tr>\n",
       "      <th>2023-12-05 02:00:00</th>\n",
       "      <td>-2.4</td>\n",
       "      <td>2</td>\n",
       "      <td>-2.1</td>\n",
       "    </tr>\n",
       "    <tr>\n",
       "      <th>2023-12-05 02:15:00</th>\n",
       "      <td>-2.3</td>\n",
       "      <td>2</td>\n",
       "      <td>-1.9</td>\n",
       "    </tr>\n",
       "  </tbody>\n",
       "</table>\n",
       "</div>\n",
       "    <div class=\"colab-df-buttons\">\n",
       "\n",
       "  <div class=\"colab-df-container\">\n",
       "    <button class=\"colab-df-convert\" onclick=\"convertToInteractive('df-6bf6a2cf-92a0-4dcb-9c93-a650faa47760')\"\n",
       "            title=\"Convert this dataframe to an interactive table.\"\n",
       "            style=\"display:none;\">\n",
       "\n",
       "  <svg xmlns=\"http://www.w3.org/2000/svg\" height=\"24px\" viewBox=\"0 -960 960 960\">\n",
       "    <path d=\"M120-120v-720h720v720H120Zm60-500h600v-160H180v160Zm220 220h160v-160H400v160Zm0 220h160v-160H400v160ZM180-400h160v-160H180v160Zm440 0h160v-160H620v160ZM180-180h160v-160H180v160Zm440 0h160v-160H620v160Z\"/>\n",
       "  </svg>\n",
       "    </button>\n",
       "\n",
       "  <style>\n",
       "    .colab-df-container {\n",
       "      display:flex;\n",
       "      gap: 12px;\n",
       "    }\n",
       "\n",
       "    .colab-df-convert {\n",
       "      background-color: #E8F0FE;\n",
       "      border: none;\n",
       "      border-radius: 50%;\n",
       "      cursor: pointer;\n",
       "      display: none;\n",
       "      fill: #1967D2;\n",
       "      height: 32px;\n",
       "      padding: 0 0 0 0;\n",
       "      width: 32px;\n",
       "    }\n",
       "\n",
       "    .colab-df-convert:hover {\n",
       "      background-color: #E2EBFA;\n",
       "      box-shadow: 0px 1px 2px rgba(60, 64, 67, 0.3), 0px 1px 3px 1px rgba(60, 64, 67, 0.15);\n",
       "      fill: #174EA6;\n",
       "    }\n",
       "\n",
       "    .colab-df-buttons div {\n",
       "      margin-bottom: 4px;\n",
       "    }\n",
       "\n",
       "    [theme=dark] .colab-df-convert {\n",
       "      background-color: #3B4455;\n",
       "      fill: #D2E3FC;\n",
       "    }\n",
       "\n",
       "    [theme=dark] .colab-df-convert:hover {\n",
       "      background-color: #434B5C;\n",
       "      box-shadow: 0px 1px 3px 1px rgba(0, 0, 0, 0.15);\n",
       "      filter: drop-shadow(0px 1px 2px rgba(0, 0, 0, 0.3));\n",
       "      fill: #FFFFFF;\n",
       "    }\n",
       "  </style>\n",
       "\n",
       "    <script>\n",
       "      const buttonEl =\n",
       "        document.querySelector('#df-6bf6a2cf-92a0-4dcb-9c93-a650faa47760 button.colab-df-convert');\n",
       "      buttonEl.style.display =\n",
       "        google.colab.kernel.accessAllowed ? 'block' : 'none';\n",
       "\n",
       "      async function convertToInteractive(key) {\n",
       "        const element = document.querySelector('#df-6bf6a2cf-92a0-4dcb-9c93-a650faa47760');\n",
       "        const dataTable =\n",
       "          await google.colab.kernel.invokeFunction('convertToInteractive',\n",
       "                                                    [key], {});\n",
       "        if (!dataTable) return;\n",
       "\n",
       "        const docLinkHtml = 'Like what you see? Visit the ' +\n",
       "          '<a target=\"_blank\" href=https://colab.research.google.com/notebooks/data_table.ipynb>data table notebook</a>'\n",
       "          + ' to learn more about interactive tables.';\n",
       "        element.innerHTML = '';\n",
       "        dataTable['output_type'] = 'display_data';\n",
       "        await google.colab.output.renderOutput(dataTable, element);\n",
       "        const docLink = document.createElement('div');\n",
       "        docLink.innerHTML = docLinkHtml;\n",
       "        element.appendChild(docLink);\n",
       "      }\n",
       "    </script>\n",
       "  </div>\n",
       "\n",
       "\n",
       "<div id=\"df-4804ace6-afb2-43fb-92fd-af489c75aa3e\">\n",
       "  <button class=\"colab-df-quickchart\" onclick=\"quickchart('df-4804ace6-afb2-43fb-92fd-af489c75aa3e')\"\n",
       "            title=\"Suggest charts\"\n",
       "            style=\"display:none;\">\n",
       "\n",
       "<svg xmlns=\"http://www.w3.org/2000/svg\" height=\"24px\"viewBox=\"0 0 24 24\"\n",
       "     width=\"24px\">\n",
       "    <g>\n",
       "        <path d=\"M19 3H5c-1.1 0-2 .9-2 2v14c0 1.1.9 2 2 2h14c1.1 0 2-.9 2-2V5c0-1.1-.9-2-2-2zM9 17H7v-7h2v7zm4 0h-2V7h2v10zm4 0h-2v-4h2v4z\"/>\n",
       "    </g>\n",
       "</svg>\n",
       "  </button>\n",
       "\n",
       "<style>\n",
       "  .colab-df-quickchart {\n",
       "      --bg-color: #E8F0FE;\n",
       "      --fill-color: #1967D2;\n",
       "      --hover-bg-color: #E2EBFA;\n",
       "      --hover-fill-color: #174EA6;\n",
       "      --disabled-fill-color: #AAA;\n",
       "      --disabled-bg-color: #DDD;\n",
       "  }\n",
       "\n",
       "  [theme=dark] .colab-df-quickchart {\n",
       "      --bg-color: #3B4455;\n",
       "      --fill-color: #D2E3FC;\n",
       "      --hover-bg-color: #434B5C;\n",
       "      --hover-fill-color: #FFFFFF;\n",
       "      --disabled-bg-color: #3B4455;\n",
       "      --disabled-fill-color: #666;\n",
       "  }\n",
       "\n",
       "  .colab-df-quickchart {\n",
       "    background-color: var(--bg-color);\n",
       "    border: none;\n",
       "    border-radius: 50%;\n",
       "    cursor: pointer;\n",
       "    display: none;\n",
       "    fill: var(--fill-color);\n",
       "    height: 32px;\n",
       "    padding: 0;\n",
       "    width: 32px;\n",
       "  }\n",
       "\n",
       "  .colab-df-quickchart:hover {\n",
       "    background-color: var(--hover-bg-color);\n",
       "    box-shadow: 0 1px 2px rgba(60, 64, 67, 0.3), 0 1px 3px 1px rgba(60, 64, 67, 0.15);\n",
       "    fill: var(--button-hover-fill-color);\n",
       "  }\n",
       "\n",
       "  .colab-df-quickchart-complete:disabled,\n",
       "  .colab-df-quickchart-complete:disabled:hover {\n",
       "    background-color: var(--disabled-bg-color);\n",
       "    fill: var(--disabled-fill-color);\n",
       "    box-shadow: none;\n",
       "  }\n",
       "\n",
       "  .colab-df-spinner {\n",
       "    border: 2px solid var(--fill-color);\n",
       "    border-color: transparent;\n",
       "    border-bottom-color: var(--fill-color);\n",
       "    animation:\n",
       "      spin 1s steps(1) infinite;\n",
       "  }\n",
       "\n",
       "  @keyframes spin {\n",
       "    0% {\n",
       "      border-color: transparent;\n",
       "      border-bottom-color: var(--fill-color);\n",
       "      border-left-color: var(--fill-color);\n",
       "    }\n",
       "    20% {\n",
       "      border-color: transparent;\n",
       "      border-left-color: var(--fill-color);\n",
       "      border-top-color: var(--fill-color);\n",
       "    }\n",
       "    30% {\n",
       "      border-color: transparent;\n",
       "      border-left-color: var(--fill-color);\n",
       "      border-top-color: var(--fill-color);\n",
       "      border-right-color: var(--fill-color);\n",
       "    }\n",
       "    40% {\n",
       "      border-color: transparent;\n",
       "      border-right-color: var(--fill-color);\n",
       "      border-top-color: var(--fill-color);\n",
       "    }\n",
       "    60% {\n",
       "      border-color: transparent;\n",
       "      border-right-color: var(--fill-color);\n",
       "    }\n",
       "    80% {\n",
       "      border-color: transparent;\n",
       "      border-right-color: var(--fill-color);\n",
       "      border-bottom-color: var(--fill-color);\n",
       "    }\n",
       "    90% {\n",
       "      border-color: transparent;\n",
       "      border-bottom-color: var(--fill-color);\n",
       "    }\n",
       "  }\n",
       "</style>\n",
       "\n",
       "  <script>\n",
       "    async function quickchart(key) {\n",
       "      const quickchartButtonEl =\n",
       "        document.querySelector('#' + key + ' button');\n",
       "      quickchartButtonEl.disabled = true;  // To prevent multiple clicks.\n",
       "      quickchartButtonEl.classList.add('colab-df-spinner');\n",
       "      try {\n",
       "        const charts = await google.colab.kernel.invokeFunction(\n",
       "            'suggestCharts', [key], {});\n",
       "      } catch (error) {\n",
       "        console.error('Error during call to suggestCharts:', error);\n",
       "      }\n",
       "      quickchartButtonEl.classList.remove('colab-df-spinner');\n",
       "      quickchartButtonEl.classList.add('colab-df-quickchart-complete');\n",
       "    }\n",
       "    (() => {\n",
       "      let quickchartButtonEl =\n",
       "        document.querySelector('#df-4804ace6-afb2-43fb-92fd-af489c75aa3e button');\n",
       "      quickchartButtonEl.style.display =\n",
       "        google.colab.kernel.accessAllowed ? 'block' : 'none';\n",
       "    })();\n",
       "  </script>\n",
       "</div>\n",
       "    </div>\n",
       "  </div>\n"
      ],
      "text/plain": [
       "                     temperatura  hour  shift_temp\n",
       "2023-12-05 00:00:00         -2.2     0         NaN\n",
       "2023-12-05 00:15:00         -2.3     0         NaN\n",
       "2023-12-05 00:30:00         -2.1     0         NaN\n",
       "2023-12-05 00:45:00         -2.1     0         NaN\n",
       "2023-12-05 01:00:00         -2.1     1        -2.2\n",
       "2023-12-05 01:15:00         -1.9     1        -2.3\n",
       "2023-12-05 01:30:00         -2.1     1        -2.1\n",
       "2023-12-05 01:45:00         -2.4     1        -2.1\n",
       "2023-12-05 02:00:00         -2.4     2        -2.1\n",
       "2023-12-05 02:15:00         -2.3     2        -1.9"
      ]
     },
     "execution_count": 70,
     "metadata": {},
     "output_type": "execute_result"
    }
   ],
   "source": [
    "df_completo[\"shift_temp\"]=df_completo[\"temperatura\"].shift(4)\n",
    "df_completo.head(10)"
   ]
  },
  {
   "cell_type": "markdown",
   "metadata": {
    "id": "11UCq5CBLKDc"
   },
   "source": [
    "## Lettura dataframe da file esterno\n",
    "\n",
    "Proviamo a leggere i dati da un csv e a caricarli usando il metodo read_csv(). Usiamo i dati di Colab."
   ]
  },
  {
   "cell_type": "code",
   "execution_count": null,
   "metadata": {
    "colab": {
     "base_uri": "https://localhost:8080/"
    },
    "executionInfo": {
     "elapsed": 3,
     "status": "ok",
     "timestamp": 1701872826064,
     "user": {
      "displayName": "GIULIA GAREGNANI",
      "userId": "07189878603650634025"
     },
     "user_tz": -60
    },
    "id": "BtIAgW8JHlV5",
    "outputId": "7fda19c2-08cb-491d-c7e4-fd3340f2b914"
   },
   "outputs": [
    {
     "data": {
      "text/plain": [
       "pandas.core.frame.DataFrame"
      ]
     },
     "execution_count": 37,
     "metadata": {},
     "output_type": "execute_result"
    }
   ],
   "source": [
    "df = pd.read_csv(r\"/content/sample_data/california_housing_train.csv\")\n",
    "type(df)"
   ]
  },
  {
   "cell_type": "code",
   "execution_count": null,
   "metadata": {
    "colab": {
     "base_uri": "https://localhost:8080/",
     "height": 258
    },
    "executionInfo": {
     "elapsed": 7,
     "status": "ok",
     "timestamp": 1701873627415,
     "user": {
      "displayName": "GIULIA GAREGNANI",
      "userId": "07189878603650634025"
     },
     "user_tz": -60
    },
    "id": "5U78CYBGg1Uh",
    "outputId": "9fb82558-8d4b-4517-9b18-53e744fa8dd8"
   },
   "outputs": [
    {
     "data": {
      "text/html": [
       "\n",
       "  <div id=\"df-88a9044f-38a1-4f07-9373-47f20e2a3444\" class=\"colab-df-container\">\n",
       "    <div>\n",
       "<style scoped>\n",
       "    .dataframe tbody tr th:only-of-type {\n",
       "        vertical-align: middle;\n",
       "    }\n",
       "\n",
       "    .dataframe tbody tr th {\n",
       "        vertical-align: top;\n",
       "    }\n",
       "\n",
       "    .dataframe thead th {\n",
       "        text-align: right;\n",
       "    }\n",
       "</style>\n",
       "<table border=\"1\" class=\"dataframe\">\n",
       "  <thead>\n",
       "    <tr style=\"text-align: right;\">\n",
       "      <th></th>\n",
       "      <th>latitude</th>\n",
       "      <th>housing_median_age</th>\n",
       "      <th>total_rooms</th>\n",
       "      <th>total_bedrooms</th>\n",
       "      <th>population</th>\n",
       "      <th>households</th>\n",
       "      <th>median_income</th>\n",
       "      <th>median_house_value</th>\n",
       "    </tr>\n",
       "    <tr>\n",
       "      <th>longitude</th>\n",
       "      <th></th>\n",
       "      <th></th>\n",
       "      <th></th>\n",
       "      <th></th>\n",
       "      <th></th>\n",
       "      <th></th>\n",
       "      <th></th>\n",
       "      <th></th>\n",
       "    </tr>\n",
       "  </thead>\n",
       "  <tbody>\n",
       "    <tr>\n",
       "      <th>-114.31</th>\n",
       "      <td>34.19</td>\n",
       "      <td>15.0</td>\n",
       "      <td>5612.0</td>\n",
       "      <td>1283.0</td>\n",
       "      <td>1015.0</td>\n",
       "      <td>472.0</td>\n",
       "      <td>1.4936</td>\n",
       "      <td>66900.0</td>\n",
       "    </tr>\n",
       "    <tr>\n",
       "      <th>-114.47</th>\n",
       "      <td>34.40</td>\n",
       "      <td>19.0</td>\n",
       "      <td>7650.0</td>\n",
       "      <td>1901.0</td>\n",
       "      <td>1129.0</td>\n",
       "      <td>463.0</td>\n",
       "      <td>1.8200</td>\n",
       "      <td>80100.0</td>\n",
       "    </tr>\n",
       "    <tr>\n",
       "      <th>-114.56</th>\n",
       "      <td>33.69</td>\n",
       "      <td>17.0</td>\n",
       "      <td>720.0</td>\n",
       "      <td>174.0</td>\n",
       "      <td>333.0</td>\n",
       "      <td>117.0</td>\n",
       "      <td>1.6509</td>\n",
       "      <td>85700.0</td>\n",
       "    </tr>\n",
       "    <tr>\n",
       "      <th>-114.57</th>\n",
       "      <td>33.64</td>\n",
       "      <td>14.0</td>\n",
       "      <td>1501.0</td>\n",
       "      <td>337.0</td>\n",
       "      <td>515.0</td>\n",
       "      <td>226.0</td>\n",
       "      <td>3.1917</td>\n",
       "      <td>73400.0</td>\n",
       "    </tr>\n",
       "    <tr>\n",
       "      <th>-114.57</th>\n",
       "      <td>33.57</td>\n",
       "      <td>20.0</td>\n",
       "      <td>1454.0</td>\n",
       "      <td>326.0</td>\n",
       "      <td>624.0</td>\n",
       "      <td>262.0</td>\n",
       "      <td>1.9250</td>\n",
       "      <td>65500.0</td>\n",
       "    </tr>\n",
       "  </tbody>\n",
       "</table>\n",
       "</div>\n",
       "    <div class=\"colab-df-buttons\">\n",
       "\n",
       "  <div class=\"colab-df-container\">\n",
       "    <button class=\"colab-df-convert\" onclick=\"convertToInteractive('df-88a9044f-38a1-4f07-9373-47f20e2a3444')\"\n",
       "            title=\"Convert this dataframe to an interactive table.\"\n",
       "            style=\"display:none;\">\n",
       "\n",
       "  <svg xmlns=\"http://www.w3.org/2000/svg\" height=\"24px\" viewBox=\"0 -960 960 960\">\n",
       "    <path d=\"M120-120v-720h720v720H120Zm60-500h600v-160H180v160Zm220 220h160v-160H400v160Zm0 220h160v-160H400v160ZM180-400h160v-160H180v160Zm440 0h160v-160H620v160ZM180-180h160v-160H180v160Zm440 0h160v-160H620v160Z\"/>\n",
       "  </svg>\n",
       "    </button>\n",
       "\n",
       "  <style>\n",
       "    .colab-df-container {\n",
       "      display:flex;\n",
       "      gap: 12px;\n",
       "    }\n",
       "\n",
       "    .colab-df-convert {\n",
       "      background-color: #E8F0FE;\n",
       "      border: none;\n",
       "      border-radius: 50%;\n",
       "      cursor: pointer;\n",
       "      display: none;\n",
       "      fill: #1967D2;\n",
       "      height: 32px;\n",
       "      padding: 0 0 0 0;\n",
       "      width: 32px;\n",
       "    }\n",
       "\n",
       "    .colab-df-convert:hover {\n",
       "      background-color: #E2EBFA;\n",
       "      box-shadow: 0px 1px 2px rgba(60, 64, 67, 0.3), 0px 1px 3px 1px rgba(60, 64, 67, 0.15);\n",
       "      fill: #174EA6;\n",
       "    }\n",
       "\n",
       "    .colab-df-buttons div {\n",
       "      margin-bottom: 4px;\n",
       "    }\n",
       "\n",
       "    [theme=dark] .colab-df-convert {\n",
       "      background-color: #3B4455;\n",
       "      fill: #D2E3FC;\n",
       "    }\n",
       "\n",
       "    [theme=dark] .colab-df-convert:hover {\n",
       "      background-color: #434B5C;\n",
       "      box-shadow: 0px 1px 3px 1px rgba(0, 0, 0, 0.15);\n",
       "      filter: drop-shadow(0px 1px 2px rgba(0, 0, 0, 0.3));\n",
       "      fill: #FFFFFF;\n",
       "    }\n",
       "  </style>\n",
       "\n",
       "    <script>\n",
       "      const buttonEl =\n",
       "        document.querySelector('#df-88a9044f-38a1-4f07-9373-47f20e2a3444 button.colab-df-convert');\n",
       "      buttonEl.style.display =\n",
       "        google.colab.kernel.accessAllowed ? 'block' : 'none';\n",
       "\n",
       "      async function convertToInteractive(key) {\n",
       "        const element = document.querySelector('#df-88a9044f-38a1-4f07-9373-47f20e2a3444');\n",
       "        const dataTable =\n",
       "          await google.colab.kernel.invokeFunction('convertToInteractive',\n",
       "                                                    [key], {});\n",
       "        if (!dataTable) return;\n",
       "\n",
       "        const docLinkHtml = 'Like what you see? Visit the ' +\n",
       "          '<a target=\"_blank\" href=https://colab.research.google.com/notebooks/data_table.ipynb>data table notebook</a>'\n",
       "          + ' to learn more about interactive tables.';\n",
       "        element.innerHTML = '';\n",
       "        dataTable['output_type'] = 'display_data';\n",
       "        await google.colab.output.renderOutput(dataTable, element);\n",
       "        const docLink = document.createElement('div');\n",
       "        docLink.innerHTML = docLinkHtml;\n",
       "        element.appendChild(docLink);\n",
       "      }\n",
       "    </script>\n",
       "  </div>\n",
       "\n",
       "\n",
       "<div id=\"df-86dd8bf9-18ea-40b3-8426-171f7f9866b8\">\n",
       "  <button class=\"colab-df-quickchart\" onclick=\"quickchart('df-86dd8bf9-18ea-40b3-8426-171f7f9866b8')\"\n",
       "            title=\"Suggest charts\"\n",
       "            style=\"display:none;\">\n",
       "\n",
       "<svg xmlns=\"http://www.w3.org/2000/svg\" height=\"24px\"viewBox=\"0 0 24 24\"\n",
       "     width=\"24px\">\n",
       "    <g>\n",
       "        <path d=\"M19 3H5c-1.1 0-2 .9-2 2v14c0 1.1.9 2 2 2h14c1.1 0 2-.9 2-2V5c0-1.1-.9-2-2-2zM9 17H7v-7h2v7zm4 0h-2V7h2v10zm4 0h-2v-4h2v4z\"/>\n",
       "    </g>\n",
       "</svg>\n",
       "  </button>\n",
       "\n",
       "<style>\n",
       "  .colab-df-quickchart {\n",
       "      --bg-color: #E8F0FE;\n",
       "      --fill-color: #1967D2;\n",
       "      --hover-bg-color: #E2EBFA;\n",
       "      --hover-fill-color: #174EA6;\n",
       "      --disabled-fill-color: #AAA;\n",
       "      --disabled-bg-color: #DDD;\n",
       "  }\n",
       "\n",
       "  [theme=dark] .colab-df-quickchart {\n",
       "      --bg-color: #3B4455;\n",
       "      --fill-color: #D2E3FC;\n",
       "      --hover-bg-color: #434B5C;\n",
       "      --hover-fill-color: #FFFFFF;\n",
       "      --disabled-bg-color: #3B4455;\n",
       "      --disabled-fill-color: #666;\n",
       "  }\n",
       "\n",
       "  .colab-df-quickchart {\n",
       "    background-color: var(--bg-color);\n",
       "    border: none;\n",
       "    border-radius: 50%;\n",
       "    cursor: pointer;\n",
       "    display: none;\n",
       "    fill: var(--fill-color);\n",
       "    height: 32px;\n",
       "    padding: 0;\n",
       "    width: 32px;\n",
       "  }\n",
       "\n",
       "  .colab-df-quickchart:hover {\n",
       "    background-color: var(--hover-bg-color);\n",
       "    box-shadow: 0 1px 2px rgba(60, 64, 67, 0.3), 0 1px 3px 1px rgba(60, 64, 67, 0.15);\n",
       "    fill: var(--button-hover-fill-color);\n",
       "  }\n",
       "\n",
       "  .colab-df-quickchart-complete:disabled,\n",
       "  .colab-df-quickchart-complete:disabled:hover {\n",
       "    background-color: var(--disabled-bg-color);\n",
       "    fill: var(--disabled-fill-color);\n",
       "    box-shadow: none;\n",
       "  }\n",
       "\n",
       "  .colab-df-spinner {\n",
       "    border: 2px solid var(--fill-color);\n",
       "    border-color: transparent;\n",
       "    border-bottom-color: var(--fill-color);\n",
       "    animation:\n",
       "      spin 1s steps(1) infinite;\n",
       "  }\n",
       "\n",
       "  @keyframes spin {\n",
       "    0% {\n",
       "      border-color: transparent;\n",
       "      border-bottom-color: var(--fill-color);\n",
       "      border-left-color: var(--fill-color);\n",
       "    }\n",
       "    20% {\n",
       "      border-color: transparent;\n",
       "      border-left-color: var(--fill-color);\n",
       "      border-top-color: var(--fill-color);\n",
       "    }\n",
       "    30% {\n",
       "      border-color: transparent;\n",
       "      border-left-color: var(--fill-color);\n",
       "      border-top-color: var(--fill-color);\n",
       "      border-right-color: var(--fill-color);\n",
       "    }\n",
       "    40% {\n",
       "      border-color: transparent;\n",
       "      border-right-color: var(--fill-color);\n",
       "      border-top-color: var(--fill-color);\n",
       "    }\n",
       "    60% {\n",
       "      border-color: transparent;\n",
       "      border-right-color: var(--fill-color);\n",
       "    }\n",
       "    80% {\n",
       "      border-color: transparent;\n",
       "      border-right-color: var(--fill-color);\n",
       "      border-bottom-color: var(--fill-color);\n",
       "    }\n",
       "    90% {\n",
       "      border-color: transparent;\n",
       "      border-bottom-color: var(--fill-color);\n",
       "    }\n",
       "  }\n",
       "</style>\n",
       "\n",
       "  <script>\n",
       "    async function quickchart(key) {\n",
       "      const quickchartButtonEl =\n",
       "        document.querySelector('#' + key + ' button');\n",
       "      quickchartButtonEl.disabled = true;  // To prevent multiple clicks.\n",
       "      quickchartButtonEl.classList.add('colab-df-spinner');\n",
       "      try {\n",
       "        const charts = await google.colab.kernel.invokeFunction(\n",
       "            'suggestCharts', [key], {});\n",
       "      } catch (error) {\n",
       "        console.error('Error during call to suggestCharts:', error);\n",
       "      }\n",
       "      quickchartButtonEl.classList.remove('colab-df-spinner');\n",
       "      quickchartButtonEl.classList.add('colab-df-quickchart-complete');\n",
       "    }\n",
       "    (() => {\n",
       "      let quickchartButtonEl =\n",
       "        document.querySelector('#df-86dd8bf9-18ea-40b3-8426-171f7f9866b8 button');\n",
       "      quickchartButtonEl.style.display =\n",
       "        google.colab.kernel.accessAllowed ? 'block' : 'none';\n",
       "    })();\n",
       "  </script>\n",
       "</div>\n",
       "    </div>\n",
       "  </div>\n"
      ],
      "text/plain": [
       "           latitude  housing_median_age  total_rooms  total_bedrooms  \\\n",
       "longitude                                                              \n",
       "-114.31       34.19                15.0       5612.0          1283.0   \n",
       "-114.47       34.40                19.0       7650.0          1901.0   \n",
       "-114.56       33.69                17.0        720.0           174.0   \n",
       "-114.57       33.64                14.0       1501.0           337.0   \n",
       "-114.57       33.57                20.0       1454.0           326.0   \n",
       "\n",
       "           population  households  median_income  median_house_value  \n",
       "longitude                                                             \n",
       "-114.31        1015.0       472.0         1.4936             66900.0  \n",
       "-114.47        1129.0       463.0         1.8200             80100.0  \n",
       "-114.56         333.0       117.0         1.6509             85700.0  \n",
       "-114.57         515.0       226.0         3.1917             73400.0  \n",
       "-114.57         624.0       262.0         1.9250             65500.0  "
      ]
     },
     "execution_count": 56,
     "metadata": {},
     "output_type": "execute_result"
    }
   ],
   "source": [
    "df.head()\n",
    "df1 = df.set_index(\"longitude\")\n",
    "df1.head()\n"
   ]
  },
  {
   "cell_type": "code",
   "execution_count": null,
   "metadata": {
    "colab": {
     "base_uri": "https://localhost:8080/"
    },
    "executionInfo": {
     "elapsed": 3,
     "status": "ok",
     "timestamp": 1701873642297,
     "user": {
      "displayName": "GIULIA GAREGNANI",
      "userId": "07189878603650634025"
     },
     "user_tz": -60
    },
    "id": "ocMK9qcOhNgL",
    "outputId": "d9dbb8be-5d82-43af-c230-af8b9efc1a40"
   },
   "outputs": [
    {
     "data": {
      "text/plain": [
       "latitude                 34.1900\n",
       "housing_median_age       15.0000\n",
       "total_rooms            5612.0000\n",
       "total_bedrooms         1283.0000\n",
       "population             1015.0000\n",
       "households              472.0000\n",
       "median_income             1.4936\n",
       "median_house_value    66900.0000\n",
       "Name: -114.31, dtype: float64"
      ]
     },
     "execution_count": 57,
     "metadata": {},
     "output_type": "execute_result"
    }
   ],
   "source": [
    "df1.index\n",
    "df1.loc[-114.31]"
   ]
  },
  {
   "cell_type": "code",
   "execution_count": null,
   "metadata": {
    "colab": {
     "base_uri": "https://localhost:8080/"
    },
    "executionInfo": {
     "elapsed": 4,
     "status": "ok",
     "timestamp": 1701873760914,
     "user": {
      "displayName": "GIULIA GAREGNANI",
      "userId": "07189878603650634025"
     },
     "user_tz": -60
    },
    "id": "-dmXwhmBhUsx",
    "outputId": "7f0966e1-3145-4053-ce97-711af3856cc3"
   },
   "outputs": [
    {
     "data": {
      "text/plain": [
       "numpy.ndarray"
      ]
     },
     "execution_count": 59,
     "metadata": {},
     "output_type": "execute_result"
    }
   ],
   "source": [
    "df.households.values # colonna\n",
    "type(df.households.values)"
   ]
  },
  {
   "cell_type": "code",
   "execution_count": null,
   "metadata": {
    "colab": {
     "base_uri": "https://localhost:8080/"
    },
    "executionInfo": {
     "elapsed": 3,
     "status": "ok",
     "timestamp": 1701872785640,
     "user": {
      "displayName": "GIULIA GAREGNANI",
      "userId": "07189878603650634025"
     },
     "user_tz": -60
    },
    "id": "APzRDp4shaVb",
    "outputId": "c7e6a55e-c35f-404f-d3c2-467f577adfdd"
   },
   "outputs": [
    {
     "data": {
      "text/plain": [
       "0        472.0\n",
       "1        463.0\n",
       "2        117.0\n",
       "3        226.0\n",
       "4        262.0\n",
       "         ...  \n",
       "16995    369.0\n",
       "16996    465.0\n",
       "16997    456.0\n",
       "16998    478.0\n",
       "16999    270.0\n",
       "Name: households, Length: 17000, dtype: float64"
      ]
     },
     "execution_count": 36,
     "metadata": {},
     "output_type": "execute_result"
    }
   ],
   "source": [
    "df[\"households\"]"
   ]
  },
  {
   "cell_type": "code",
   "execution_count": null,
   "metadata": {
    "colab": {
     "base_uri": "https://localhost:8080/"
    },
    "executionInfo": {
     "elapsed": 3,
     "status": "ok",
     "timestamp": 1701875072010,
     "user": {
      "displayName": "GIULIA GAREGNANI",
      "userId": "07189878603650634025"
     },
     "user_tz": -60
    },
    "id": "LUJrvKjhhdaX",
    "outputId": "befe7541-2619-4970-f87a-a517ca91367e"
   },
   "outputs": [
    {
     "data": {
      "text/plain": [
       "longitude            -2.032556e+06\n",
       "latitude              6.056288e+05\n",
       "housing_median_age    4.860190e+05\n",
       "total_rooms           4.494230e+07\n",
       "total_bedrooms        9.169984e+06\n",
       "population            2.430276e+07\n",
       "households            8.520773e+06\n",
       "median_income         6.602083e+04\n",
       "median_house_value    3.524116e+09\n",
       "dtype: float64"
      ]
     },
     "execution_count": 60,
     "metadata": {},
     "output_type": "execute_result"
    }
   ],
   "source": [
    "df.sum() # somme di ogni colonna"
   ]
  },
  {
   "cell_type": "code",
   "execution_count": null,
   "metadata": {
    "colab": {
     "base_uri": "https://localhost:8080/"
    },
    "executionInfo": {
     "elapsed": 321,
     "status": "ok",
     "timestamp": 1701875111559,
     "user": {
      "displayName": "GIULIA GAREGNANI",
      "userId": "07189878603650634025"
     },
     "user_tz": -60
    },
    "id": "VgRTo6pTqLgU",
    "outputId": "87d198b7-e162-4e30-89b7-5cfb6701274c"
   },
   "outputs": [
    {
     "data": {
      "text/plain": [
       "2643.664411764706"
      ]
     },
     "execution_count": 61,
     "metadata": {},
     "output_type": "execute_result"
    }
   ],
   "source": [
    "df[\"total_rooms\"].mean()"
   ]
  },
  {
   "cell_type": "code",
   "execution_count": null,
   "metadata": {
    "colab": {
     "base_uri": "https://localhost:8080/",
     "height": 322
    },
    "executionInfo": {
     "elapsed": 6,
     "status": "error",
     "timestamp": 1701875727519,
     "user": {
      "displayName": "GIULIA GAREGNANI",
      "userId": "07189878603650634025"
     },
     "user_tz": -60
    },
    "id": "mnY-ljcyqVBr",
    "outputId": "054f9312-351e-4c22-ef26-cdaa981d2410"
   },
   "outputs": [
    {
     "ename": "ValueError",
     "evalue": "ignored",
     "output_type": "error",
     "traceback": [
      "\u001b[0;31m---------------------------------------------------------------------------\u001b[0m",
      "\u001b[0;31mValueError\u001b[0m                                Traceback (most recent call last)",
      "\u001b[0;32m<ipython-input-67-fe3d41a9c466>\u001b[0m in \u001b[0;36m<cell line: 1>\u001b[0;34m()\u001b[0m\n\u001b[0;32m----> 1\u001b[0;31m \u001b[0mdf\u001b[0m\u001b[0;34m[\u001b[0m\u001b[0;34m\"hour\"\u001b[0m\u001b[0;34m]\u001b[0m\u001b[0;34m=\u001b[0m\u001b[0mdf_completo\u001b[0m\u001b[0;34m.\u001b[0m\u001b[0mindex\u001b[0m\u001b[0;34m.\u001b[0m\u001b[0mhour\u001b[0m\u001b[0;34m\u001b[0m\u001b[0;34m\u001b[0m\u001b[0m\n\u001b[0m",
      "\u001b[0;32m/usr/local/lib/python3.10/dist-packages/pandas/core/frame.py\u001b[0m in \u001b[0;36m__setitem__\u001b[0;34m(self, key, value)\u001b[0m\n\u001b[1;32m   3978\u001b[0m         \u001b[0;32melse\u001b[0m\u001b[0;34m:\u001b[0m\u001b[0;34m\u001b[0m\u001b[0;34m\u001b[0m\u001b[0m\n\u001b[1;32m   3979\u001b[0m             \u001b[0;31m# set column\u001b[0m\u001b[0;34m\u001b[0m\u001b[0;34m\u001b[0m\u001b[0m\n\u001b[0;32m-> 3980\u001b[0;31m             \u001b[0mself\u001b[0m\u001b[0;34m.\u001b[0m\u001b[0m_set_item\u001b[0m\u001b[0;34m(\u001b[0m\u001b[0mkey\u001b[0m\u001b[0;34m,\u001b[0m \u001b[0mvalue\u001b[0m\u001b[0;34m)\u001b[0m\u001b[0;34m\u001b[0m\u001b[0;34m\u001b[0m\u001b[0m\n\u001b[0m\u001b[1;32m   3981\u001b[0m \u001b[0;34m\u001b[0m\u001b[0m\n\u001b[1;32m   3982\u001b[0m     \u001b[0;32mdef\u001b[0m \u001b[0m_setitem_slice\u001b[0m\u001b[0;34m(\u001b[0m\u001b[0mself\u001b[0m\u001b[0;34m,\u001b[0m \u001b[0mkey\u001b[0m\u001b[0;34m:\u001b[0m \u001b[0mslice\u001b[0m\u001b[0;34m,\u001b[0m \u001b[0mvalue\u001b[0m\u001b[0;34m)\u001b[0m\u001b[0;34m:\u001b[0m\u001b[0;34m\u001b[0m\u001b[0;34m\u001b[0m\u001b[0m\n",
      "\u001b[0;32m/usr/local/lib/python3.10/dist-packages/pandas/core/frame.py\u001b[0m in \u001b[0;36m_set_item\u001b[0;34m(self, key, value)\u001b[0m\n\u001b[1;32m   4172\u001b[0m         \u001b[0mensure\u001b[0m \u001b[0mhomogeneity\u001b[0m\u001b[0;34m.\u001b[0m\u001b[0;34m\u001b[0m\u001b[0;34m\u001b[0m\u001b[0m\n\u001b[1;32m   4173\u001b[0m         \"\"\"\n\u001b[0;32m-> 4174\u001b[0;31m         \u001b[0mvalue\u001b[0m \u001b[0;34m=\u001b[0m \u001b[0mself\u001b[0m\u001b[0;34m.\u001b[0m\u001b[0m_sanitize_column\u001b[0m\u001b[0;34m(\u001b[0m\u001b[0mvalue\u001b[0m\u001b[0;34m)\u001b[0m\u001b[0;34m\u001b[0m\u001b[0;34m\u001b[0m\u001b[0m\n\u001b[0m\u001b[1;32m   4175\u001b[0m \u001b[0;34m\u001b[0m\u001b[0m\n\u001b[1;32m   4176\u001b[0m         if (\n",
      "\u001b[0;32m/usr/local/lib/python3.10/dist-packages/pandas/core/frame.py\u001b[0m in \u001b[0;36m_sanitize_column\u001b[0;34m(self, value)\u001b[0m\n\u001b[1;32m   4913\u001b[0m \u001b[0;34m\u001b[0m\u001b[0m\n\u001b[1;32m   4914\u001b[0m         \u001b[0;32mif\u001b[0m \u001b[0mis_list_like\u001b[0m\u001b[0;34m(\u001b[0m\u001b[0mvalue\u001b[0m\u001b[0;34m)\u001b[0m\u001b[0;34m:\u001b[0m\u001b[0;34m\u001b[0m\u001b[0;34m\u001b[0m\u001b[0m\n\u001b[0;32m-> 4915\u001b[0;31m             \u001b[0mcom\u001b[0m\u001b[0;34m.\u001b[0m\u001b[0mrequire_length_match\u001b[0m\u001b[0;34m(\u001b[0m\u001b[0mvalue\u001b[0m\u001b[0;34m,\u001b[0m \u001b[0mself\u001b[0m\u001b[0;34m.\u001b[0m\u001b[0mindex\u001b[0m\u001b[0;34m)\u001b[0m\u001b[0;34m\u001b[0m\u001b[0;34m\u001b[0m\u001b[0m\n\u001b[0m\u001b[1;32m   4916\u001b[0m         \u001b[0;32mreturn\u001b[0m \u001b[0msanitize_array\u001b[0m\u001b[0;34m(\u001b[0m\u001b[0mvalue\u001b[0m\u001b[0;34m,\u001b[0m \u001b[0mself\u001b[0m\u001b[0;34m.\u001b[0m\u001b[0mindex\u001b[0m\u001b[0;34m,\u001b[0m \u001b[0mcopy\u001b[0m\u001b[0;34m=\u001b[0m\u001b[0;32mTrue\u001b[0m\u001b[0;34m,\u001b[0m \u001b[0mallow_2d\u001b[0m\u001b[0;34m=\u001b[0m\u001b[0;32mTrue\u001b[0m\u001b[0;34m)\u001b[0m\u001b[0;34m\u001b[0m\u001b[0;34m\u001b[0m\u001b[0m\n\u001b[1;32m   4917\u001b[0m \u001b[0;34m\u001b[0m\u001b[0m\n",
      "\u001b[0;32m/usr/local/lib/python3.10/dist-packages/pandas/core/common.py\u001b[0m in \u001b[0;36mrequire_length_match\u001b[0;34m(data, index)\u001b[0m\n\u001b[1;32m    569\u001b[0m     \"\"\"\n\u001b[1;32m    570\u001b[0m     \u001b[0;32mif\u001b[0m \u001b[0mlen\u001b[0m\u001b[0;34m(\u001b[0m\u001b[0mdata\u001b[0m\u001b[0;34m)\u001b[0m \u001b[0;34m!=\u001b[0m \u001b[0mlen\u001b[0m\u001b[0;34m(\u001b[0m\u001b[0mindex\u001b[0m\u001b[0;34m)\u001b[0m\u001b[0;34m:\u001b[0m\u001b[0;34m\u001b[0m\u001b[0;34m\u001b[0m\u001b[0m\n\u001b[0;32m--> 571\u001b[0;31m         raise ValueError(\n\u001b[0m\u001b[1;32m    572\u001b[0m             \u001b[0;34m\"Length of values \"\u001b[0m\u001b[0;34m\u001b[0m\u001b[0;34m\u001b[0m\u001b[0m\n\u001b[1;32m    573\u001b[0m             \u001b[0;34mf\"({len(data)}) \"\u001b[0m\u001b[0;34m\u001b[0m\u001b[0;34m\u001b[0m\u001b[0m\n",
      "\u001b[0;31mValueError\u001b[0m: Length of values (154) does not match length of index (17000)"
     ]
    }
   ],
   "source": [
    "df[\"hour\"]=df_completo.index.hour"
   ]
  },
  {
   "cell_type": "code",
   "execution_count": null,
   "metadata": {
    "id": "GYtVsssSsrmD"
   },
   "outputs": [],
   "source": []
  },
  {
   "cell_type": "markdown",
   "metadata": {
    "id": "hmD8LPoHuoec"
   },
   "source": [
    "# Dataframe stazione 129"
   ]
  },
  {
   "cell_type": "code",
   "execution_count": null,
   "metadata": {
    "id": "Pb5ZUx9-u--j"
   },
   "outputs": [],
   "source": [
    "import datetime as dt\n",
    "from bs4 import BeautifulSoup\n",
    "from urllib import request\n",
    "\n",
    "url = 'https://dati.meteotrentino.it/service.asmx/ultimiDatiStazione?codice=T0129'\n",
    "response = request.urlopen(url)\n",
    "data = response.read()      # a `bytes` object\n",
    "text = data.decode('utf-8') # a `str`;\n",
    "soup = BeautifulSoup(text,'xml')\n",
    "\n",
    "list_temp = []\n",
    "list_data = []\n",
    "list_prec = []\n",
    "for temp in soup.find_all(\"temperatura_aria\"):\n",
    "  list_data.append(dt.datetime.strptime(temp.contents[1].contents[0],\"%Y-%m-%dT%H:%M:%S\" ))\n",
    "  list_temp.append(float(temp.contents[3].contents[0]))\n",
    "for temp in soup.find_all(\"precipitazione\"):\n",
    "  list_data.append(dt.datetime.strptime(temp.contents[1].contents[0],\"%Y-%m-%dT%H:%M:%S\" ))\n",
    "  list_prec.append(float(temp.contents[3].contents[0]))\n",
    "for temp in soup.find_all(\"vento_al_suolo\"):\n",
    "  list_data.append(dt.datetime.strptime(temp.contents[1].contents[0],\"%Y-%m-%dT%H:%M:%S\" ))\n",
    "  list_prec.append(float(temp.contents[3].contents[0]))"
   ]
  }
 ],
 "metadata": {
  "colab": {
   "provenance": [
    {
     "file_id": "1B5pVxPh0W4-8AsYP9eXIz02aSE3UbERY",
     "timestamp": 1701866649877
    },
    {
     "file_id": "1vlRLSPfO-FRssnOgAu2nYNl3MwgX24dM",
     "timestamp": 1701808986219
    }
   ]
  },
  "kernelspec": {
   "display_name": "Python 3 (ipykernel)",
   "language": "python",
   "name": "python3"
  },
  "language_info": {
   "codemirror_mode": {
    "name": "ipython",
    "version": 3
   },
   "file_extension": ".py",
   "mimetype": "text/x-python",
   "name": "python",
   "nbconvert_exporter": "python",
   "pygments_lexer": "ipython3",
   "version": "3.9.12"
  }
 },
 "nbformat": 4,
 "nbformat_minor": 4
}
