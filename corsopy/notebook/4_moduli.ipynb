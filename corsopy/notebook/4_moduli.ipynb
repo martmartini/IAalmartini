{
 "cells": [
  {
   "cell_type": "markdown",
   "metadata": {
    "id": "dtvljq71LnXI"
   },
   "source": [
    "# I moduli\n",
    "\n",
    "Python permette di definire delle funzioni in un file e di importarle nello script dove stiamo scrivendo il nostro programma. il nome del modulo è il nome del file senza il suffisso .py.\n",
    "\n",
    "Se noi apriamo un file python, la struttura del file è solitamente:\n",
    "\n",
    "```\n",
    "def main():\n",
    "    pass\n",
    "\n",
    "if __name__ == \"__main__\":\n",
    "    main()\n",
    "```\n",
    "\n",
    "Se eseguissimo lo script sul nostro computer nel seguente modo:\n",
    "\n",
    "```\n",
    "python my_script.py\n",
    "```\n",
    "\n",
    "stiamo passando all'interprete python un __oggetto__ di tipo file (my_script.py). In questo caso la condizione `__name__ == \"__main__\"` restituisce True e tutto ciò che c'è dopo l'if viene eseguito, in questo caso la funzione main().\n",
    "\n",
    "Quando invece importiamo il file in un altro script (modulo) alla variabile `__name__` viene assegnato il nome dello script che importo.\n",
    "\n",
    "Proviamo a importare un modulo standard di python, a esempio math o random, e a stampare a video la variabile `__name__`.\n",
    "\n",
    "```\n",
    "import math\n",
    "print(math.__name__)\n",
    "print(type(math))\n",
    "```\n",
    "\n",
    "\n",
    "\n"
   ]
  },
  {
   "cell_type": "code",
   "execution_count": null,
   "metadata": {
    "colab": {
     "base_uri": "https://localhost:8080/"
    },
    "executionInfo": {
     "elapsed": 6,
     "status": "ok",
     "timestamp": 1701705111472,
     "user": {
      "displayName": "GIULIA GAREGNANI",
      "userId": "07189878603650634025"
     },
     "user_tz": -60
    },
    "id": "be6kAtoNRQW-",
    "outputId": "b5f189ef-fac4-429f-fb0d-4643797b9ae5"
   },
   "outputs": [
    {
     "name": "stdout",
     "output_type": "stream",
     "text": [
      "3.141592653589793\n"
     ]
    }
   ],
   "source": [
    "import math\n",
    "print(math.pi)"
   ]
  },
  {
   "cell_type": "markdown",
   "metadata": {
    "id": "jZrLnMbqTMFi"
   },
   "source": [
    "Posso quindi utilizzare tutte le funzioni definite all'interno del modulo.\n",
    "\n",
    "```\n",
    "math.cos(0)\n",
    "```\n",
    "\n"
   ]
  },
  {
   "cell_type": "code",
   "execution_count": null,
   "metadata": {
    "colab": {
     "base_uri": "https://localhost:8080/"
    },
    "executionInfo": {
     "elapsed": 339,
     "status": "ok",
     "timestamp": 1701705530418,
     "user": {
      "displayName": "GIULIA GAREGNANI",
      "userId": "07189878603650634025"
     },
     "user_tz": -60
    },
    "id": "mqtEERGvTeH3",
    "outputId": "211dad46-615f-4557-d049-e982a4471cf2"
   },
   "outputs": [
    {
     "data": {
      "text/plain": [
       "0.0"
      ]
     },
     "execution_count": 7,
     "metadata": {},
     "output_type": "execute_result"
    }
   ],
   "source": [
    "math.sin(0)"
   ]
  },
  {
   "cell_type": "markdown",
   "metadata": {
    "id": "UANGZ8FoUYY1"
   },
   "source": [
    "# Come importare un modulo\n",
    "\n",
    "1.   Posso importare l'intero modulo\n",
    "```\n",
    "import math\n",
    "```\n",
    " e anche assegnarli un nome diverso a quello presente nella variabile `__name__` (a esempio se il nome del modulo è lungo)\n",
    "```\n",
    "import math as pippo\n",
    "```\n",
    "\n",
    "2.   Posso importare solo alcune funzioni\n",
    "```\n",
    "from math import sqrt, exp\n",
    "```\n",
    "in questo caso per richiamare la funzione non serve scrivere math ma solo il nome della funzione, ad esempio sqrt o exp.\n",
    "\n",
    "3.   Posso importare tutte le funzioni del modulo\n",
    "```\n",
    "from math import *\n",
    "```\n",
    "Per mantenere ordine nel codice è preferibile la prima modalità oppure la seconda nel caso di poche e specifiche funzioni.\n",
    "\n",
    "\n",
    "\n",
    "\n",
    "\n",
    "\n",
    "\n",
    "\n",
    "\n",
    "\n"
   ]
  },
  {
   "cell_type": "code",
   "execution_count": null,
   "metadata": {
    "id": "He74f4LYkDlk"
   },
   "outputs": [],
   "source": [
    "import math as m"
   ]
  },
  {
   "cell_type": "code",
   "execution_count": null,
   "metadata": {
    "colab": {
     "base_uri": "https://localhost:8080/"
    },
    "executionInfo": {
     "elapsed": 3,
     "status": "ok",
     "timestamp": 1701705840879,
     "user": {
      "displayName": "GIULIA GAREGNANI",
      "userId": "07189878603650634025"
     },
     "user_tz": -60
    },
    "id": "0VghTw5ekIhj",
    "outputId": "f4c6cac9-709c-4347-c005-e744d4a5aad4"
   },
   "outputs": [
    {
     "data": {
      "text/plain": [
       "2.718281828459045"
      ]
     },
     "execution_count": 2,
     "metadata": {},
     "output_type": "execute_result"
    }
   ],
   "source": [
    "m.e"
   ]
  },
  {
   "cell_type": "markdown",
   "metadata": {
    "id": "AqQLFvuzUdka"
   },
   "source": [
    "# Python Standard Library\n",
    "\n",
    "\n",
    "https://docs.python.org/3/library/index.html"
   ]
  },
  {
   "cell_type": "markdown",
   "metadata": {
    "id": "U_ZiLst0T5jh"
   },
   "source": [
    "## Il modulo datetime"
   ]
  },
  {
   "cell_type": "markdown",
   "metadata": {
    "id": "OWhEba3vT7PW"
   },
   "source": [
    "Il tempo in python non è un tipo specifico di dato ma questo [modulo](https://docs.python.org/3/library/datetime.html) permette di creare oggetti per rappresentare il tempo.\n",
    "\n",
    "\n",
    "Tre tipi disponibili ci sono:\n",
    "\n",
    "* class datetime.date,\n",
    "Attributi: year, month, and day.\n",
    "\n",
    "* class datetime.time,\n",
    "Attributi: hour, minute, second, microsecond, and `__tzinfo__`.\n",
    "\n",
    "* class datetime.datetime,\n",
    "Attributes: year, month, day, hour, minute, second, microsecond, and `__tzinfo__`.\n",
    "\n",
    "Un oggetto datatime può ache contentere informazioni sulla timezone `d.tzinfo`.\n",
    "\n"
   ]
  },
  {
   "cell_type": "markdown",
   "metadata": {
    "id": "XNmhlXRbqbxO"
   },
   "source": [
    "### Datetime attributi\n",
    "Creiamo un oggetto datetime:\n",
    "\n",
    "```\n",
    "import datetime as dt\n",
    "t = dt.datetime.now()\n",
    "print(t.year)\n",
    "```"
   ]
  },
  {
   "cell_type": "code",
   "execution_count": null,
   "metadata": {
    "id": "NmOyNByLdXld"
   },
   "outputs": [],
   "source": [
    "import datetime as dt\n",
    "t = dt.datetime.now()"
   ]
  },
  {
   "cell_type": "code",
   "execution_count": null,
   "metadata": {
    "colab": {
     "base_uri": "https://localhost:8080/"
    },
    "executionInfo": {
     "elapsed": 4,
     "status": "ok",
     "timestamp": 1701706003599,
     "user": {
      "displayName": "GIULIA GAREGNANI",
      "userId": "07189878603650634025"
     },
     "user_tz": -60
    },
    "id": "B3QpPBs-dc_F",
    "outputId": "6bed1cc6-cd90-456c-9715-05bd32768d95"
   },
   "outputs": [
    {
     "data": {
      "text/plain": [
       "datetime.datetime"
      ]
     },
     "execution_count": 4,
     "metadata": {},
     "output_type": "execute_result"
    }
   ],
   "source": [
    "type(t)"
   ]
  },
  {
   "cell_type": "code",
   "execution_count": null,
   "metadata": {
    "colab": {
     "base_uri": "https://localhost:8080/"
    },
    "executionInfo": {
     "elapsed": 266,
     "status": "ok",
     "timestamp": 1701706048687,
     "user": {
      "displayName": "GIULIA GAREGNANI",
      "userId": "07189878603650634025"
     },
     "user_tz": -60
    },
    "id": "hkN7dR-IlSsD",
    "outputId": "9df61a65-4cad-42d3-bf3d-598545e6f115"
   },
   "outputs": [
    {
     "name": "stdout",
     "output_type": "stream",
     "text": [
      "4 16\n"
     ]
    }
   ],
   "source": [
    "print(t.day, t.hour)"
   ]
  },
  {
   "cell_type": "markdown",
   "metadata": {
    "id": "ekzSJ9QbZLZo"
   },
   "source": [
    "Aggiungiamo un'ora al tempo"
   ]
  },
  {
   "cell_type": "code",
   "execution_count": null,
   "metadata": {
    "colab": {
     "base_uri": "https://localhost:8080/"
    },
    "executionInfo": {
     "elapsed": 196,
     "status": "ok",
     "timestamp": 1701707302774,
     "user": {
      "displayName": "GIULIA GAREGNANI",
      "userId": "07189878603650634025"
     },
     "user_tz": -60
    },
    "id": "bwhsWIoThNAn",
    "outputId": "6456b69c-8c8a-4073-a8ad-2fc6a20bdf43"
   },
   "outputs": [
    {
     "name": "stdout",
     "output_type": "stream",
     "text": [
      "<class 'datetime.timedelta'>\n",
      "17\n"
     ]
    }
   ],
   "source": [
    "delta = dt.timedelta(days=1, hours=1)\n",
    "print(type(delta))\n",
    "t = t + delta\n",
    "print(t.hour)"
   ]
  },
  {
   "cell_type": "code",
   "execution_count": null,
   "metadata": {
    "colab": {
     "base_uri": "https://localhost:8080/"
    },
    "executionInfo": {
     "elapsed": 191,
     "status": "ok",
     "timestamp": 1701707305859,
     "user": {
      "displayName": "GIULIA GAREGNANI",
      "userId": "07189878603650634025"
     },
     "user_tz": -60
    },
    "id": "myB3BFtQnSUo",
    "outputId": "74f1134d-c498-41b8-d358-a92bde3a5521"
   },
   "outputs": [
    {
     "data": {
      "text/plain": [
       "1"
      ]
     },
     "execution_count": 21,
     "metadata": {},
     "output_type": "execute_result"
    }
   ],
   "source": [
    "delta.total_seconds()\n",
    "t.weekday()"
   ]
  },
  {
   "cell_type": "markdown",
   "metadata": {
    "id": "wfcTe6cMi5Nu"
   },
   "source": [
    "Pe aggiungere la timezone dobbiamo utilizzare un'altra libreria standard di python:\n",
    "\n",
    "```\n",
    "from zoneinfo import ZoneInfo\n",
    "t = dt.datetime.now(ZoneInfo('Europe/London'))\n",
    "print(t.tzinfo)\n",
    "```\n",
    "\n",
    "E stampiamo la rappresentazione del dato tramite il metodo speciale `__repr__`\n",
    "\n",
    "`print(t.__repr__())`"
   ]
  },
  {
   "cell_type": "code",
   "execution_count": null,
   "metadata": {
    "colab": {
     "base_uri": "https://localhost:8080/"
    },
    "executionInfo": {
     "elapsed": 4,
     "status": "ok",
     "timestamp": 1701706678796,
     "user": {
      "displayName": "GIULIA GAREGNANI",
      "userId": "07189878603650634025"
     },
     "user_tz": -60
    },
    "id": "i7dTfCswihg9",
    "outputId": "1b5cc2ef-c6c5-434d-d5a8-15a7615350cf"
   },
   "outputs": [
    {
     "name": "stdout",
     "output_type": "stream",
     "text": [
      "Europe/London\n"
     ]
    }
   ],
   "source": [
    "from zoneinfo import ZoneInfo\n",
    "t = dt.datetime.now(ZoneInfo('Europe/London'))\n",
    "print(t.tzinfo)"
   ]
  },
  {
   "cell_type": "markdown",
   "metadata": {
    "id": "UCwgZZvUnM8l"
   },
   "source": [
    "Per stampare il dato in formato stringa si può usare il metro strftime. La rappresentazione stringa predefinita di un oggetto datetime usa il formato ISO 8601 (YYYY-MM-DDTHH:MM:SS.mmmmmm). Per cambiare il formato basta passare alla funzione il nuovo formato come stringa usando i codici di formattazione mostrati nella [documentazione ufficiale](https://docs.python.org/3/library/datetime.html#strftime-and-strptime-behavior).\n",
    "\n",
    "Provare utilizzare il metodo costruendo il proprio formato."
   ]
  },
  {
   "cell_type": "code",
   "execution_count": null,
   "metadata": {
    "colab": {
     "base_uri": "https://localhost:8080/"
    },
    "executionInfo": {
     "elapsed": 246,
     "status": "ok",
     "timestamp": 1701707351984,
     "user": {
      "displayName": "GIULIA GAREGNANI",
      "userId": "07189878603650634025"
     },
     "user_tz": -60
    },
    "id": "gCak9wbnlnQ8",
    "outputId": "9860b36f-d7aa-4c29-fead-19eec8833f49"
   },
   "outputs": [
    {
     "name": "stdout",
     "output_type": "stream",
     "text": [
      "05 December Tue\n",
      "Domani è 05-December 17:20\n"
     ]
    }
   ],
   "source": [
    "print(t.strftime(\"%d %B %a\"))\n",
    "print(t.strftime(\"Domani è %d-%B %H:%M\"))"
   ]
  },
  {
   "cell_type": "markdown",
   "metadata": {
    "id": "Pe4b1LCuqpK0"
   },
   "source": [
    "### Da stringa a datetime\n",
    "Utilizzando i codici di formattazione mostrati nella documentazione ufficiale provare a convertire le seguenti stringhe in datetime:\n",
    "\n",
    "*   `s1 = '27-11-23 16.30'`\n",
    "*   `s2 = '12 Dec 23 16:30'`\n",
    "\n",
    "e calcolare la differenza di tempo."
   ]
  },
  {
   "cell_type": "code",
   "execution_count": null,
   "metadata": {
    "id": "JKUEVC7AmlE8"
   },
   "outputs": [],
   "source": [
    "s1 = '27-11-23 16.30'\n",
    "s2 = '12 Dec 23 16:30'\n",
    "tempo1 = dt.datetime.strptime(s1, '%d-%m-%y %H.%M')"
   ]
  },
  {
   "cell_type": "code",
   "execution_count": null,
   "metadata": {
    "colab": {
     "base_uri": "https://localhost:8080/"
    },
    "executionInfo": {
     "elapsed": 3,
     "status": "ok",
     "timestamp": 1701707627064,
     "user": {
      "displayName": "GIULIA GAREGNANI",
      "userId": "07189878603650634025"
     },
     "user_tz": -60
    },
    "id": "Pi-P3wDQPQmf",
    "outputId": "a1765494-88a7-4207-e228-7faa35fe2aef"
   },
   "outputs": [
    {
     "data": {
      "text/plain": [
       "datetime.datetime(2023, 11, 27, 16, 30)"
      ]
     },
     "execution_count": 27,
     "metadata": {},
     "output_type": "execute_result"
    }
   ],
   "source": [
    "tempo1"
   ]
  },
  {
   "cell_type": "code",
   "execution_count": null,
   "metadata": {
    "colab": {
     "base_uri": "https://localhost:8080/",
     "height": 35
    },
    "executionInfo": {
     "elapsed": 249,
     "status": "ok",
     "timestamp": 1701707700190,
     "user": {
      "displayName": "GIULIA GAREGNANI",
      "userId": "07189878603650634025"
     },
     "user_tz": -60
    },
    "id": "YG09Vl5NrmpT",
    "outputId": "fd48256a-4d18-434d-d54e-edf139b39443"
   },
   "outputs": [
    {
     "data": {
      "application/vnd.google.colaboratory.intrinsic+json": {
       "type": "string"
      },
      "text/plain": [
       "'27 November Mon'"
      ]
     },
     "execution_count": 28,
     "metadata": {},
     "output_type": "execute_result"
    }
   ],
   "source": [
    "tempo1.strftime(\"%d %B %a\")"
   ]
  },
  {
   "cell_type": "code",
   "execution_count": null,
   "metadata": {
    "id": "mHJLeJvAsMQ7"
   },
   "outputs": [],
   "source": [
    "s2 = '12 Dec 23 16:30'"
   ]
  },
  {
   "cell_type": "markdown",
   "metadata": {
    "id": "gmYVSlQaUZjI"
   },
   "source": [
    "# Lettura dati xml da url usando standard library\n",
    "\n",
    "Proviamo a leggere i dati in formato aperto della [stazione meteo di Spormaggiore](https://dati.meteotrentino.it/service.asmx/ultimiDatiStazione?codice=T0212).\n",
    "\n",
    "Il codice è il seguente:\n",
    "\n",
    "```\n",
    "from bs4 import BeautifulSoup  # xml\n",
    "from urllib import request  #leggere dati da url\n",
    "\n",
    "url = 'https://dati.meteotrentino.it/service.asmx/ultimiDatiStazione?codice=T0212'\n",
    "response = request.urlopen(url)\n",
    "data = response.read()      # a `bytes` object\n",
    "text = data.decode('utf-8') # a `str`;\n",
    "soup = BeautifulSoup(text,'xml')\n",
    "\n",
    "list_temp = []\n",
    "list_data = []\n",
    "for temp in soup.find_all(\"temperatura_aria\"):\n",
    "  list_data.append(temp.contents[1].contents[0])\n",
    "  list_temp.append(temp.contents[3].contents[0])\n",
    "\n",
    "```\n",
    "\n",
    "Capiamo il codice e trasformiamo il tempo in datetime.\n",
    "\n",
    "\n"
   ]
  },
  {
   "cell_type": "code",
   "execution_count": null,
   "metadata": {
    "colab": {
     "base_uri": "https://localhost:8080/",
     "height": 398
    },
    "executionInfo": {
     "elapsed": 1851,
     "status": "error",
     "timestamp": 1701711437464,
     "user": {
      "displayName": "GIULIA GAREGNANI",
      "userId": "07189878603650634025"
     },
     "user_tz": -60
    },
    "id": "o9K4RSYAW4JO",
    "outputId": "529ce435-a452-4e31-ba3a-250c3c46f124"
   },
   "outputs": [
    {
     "ename": "ValueError",
     "evalue": "ignored",
     "output_type": "error",
     "traceback": [
      "\u001b[0;31m---------------------------------------------------------------------------\u001b[0m",
      "\u001b[0;31mValueError\u001b[0m                                Traceback (most recent call last)",
      "\u001b[0;32m<ipython-input-36-c67cbbd51881>\u001b[0m in \u001b[0;36m<cell line: 13>\u001b[0;34m()\u001b[0m\n\u001b[1;32m     12\u001b[0m \u001b[0mformato\u001b[0m \u001b[0;34m=\u001b[0m \u001b[0;34m\"%Y-%m-%dT%H%M%S\"\u001b[0m\u001b[0;34m\u001b[0m\u001b[0;34m\u001b[0m\u001b[0m\n\u001b[1;32m     13\u001b[0m \u001b[0;32mfor\u001b[0m \u001b[0mtemp\u001b[0m \u001b[0;32min\u001b[0m \u001b[0msoup\u001b[0m\u001b[0;34m.\u001b[0m\u001b[0mfind_all\u001b[0m\u001b[0;34m(\u001b[0m\u001b[0;34m\"temperatura_aria\"\u001b[0m\u001b[0;34m)\u001b[0m\u001b[0;34m:\u001b[0m\u001b[0;34m\u001b[0m\u001b[0;34m\u001b[0m\u001b[0m\n\u001b[0;32m---> 14\u001b[0;31m   \u001b[0mlist_data\u001b[0m\u001b[0;34m.\u001b[0m\u001b[0mappend\u001b[0m\u001b[0;34m(\u001b[0m\u001b[0mdt\u001b[0m\u001b[0;34m.\u001b[0m\u001b[0mdatetime\u001b[0m\u001b[0;34m.\u001b[0m\u001b[0mstrptime\u001b[0m\u001b[0;34m(\u001b[0m\u001b[0mtemp\u001b[0m\u001b[0;34m.\u001b[0m\u001b[0mcontents\u001b[0m\u001b[0;34m[\u001b[0m\u001b[0;36m1\u001b[0m\u001b[0;34m]\u001b[0m\u001b[0;34m.\u001b[0m\u001b[0mcontents\u001b[0m\u001b[0;34m[\u001b[0m\u001b[0;36m0\u001b[0m\u001b[0;34m]\u001b[0m\u001b[0;34m,\u001b[0m \u001b[0mformato\u001b[0m\u001b[0;34m)\u001b[0m\u001b[0;34m)\u001b[0m\u001b[0;34m\u001b[0m\u001b[0;34m\u001b[0m\u001b[0m\n\u001b[0m\u001b[1;32m     15\u001b[0m   \u001b[0mlist_temp\u001b[0m\u001b[0;34m.\u001b[0m\u001b[0mappend\u001b[0m\u001b[0;34m(\u001b[0m\u001b[0mfloat\u001b[0m\u001b[0;34m(\u001b[0m\u001b[0mtemp\u001b[0m\u001b[0;34m.\u001b[0m\u001b[0mcontents\u001b[0m\u001b[0;34m[\u001b[0m\u001b[0;36m3\u001b[0m\u001b[0;34m]\u001b[0m\u001b[0;34m.\u001b[0m\u001b[0mcontents\u001b[0m\u001b[0;34m[\u001b[0m\u001b[0;36m0\u001b[0m\u001b[0;34m]\u001b[0m\u001b[0;34m)\u001b[0m\u001b[0;34m)\u001b[0m\u001b[0;34m\u001b[0m\u001b[0;34m\u001b[0m\u001b[0m\n",
      "\u001b[0;32m/usr/lib/python3.10/_strptime.py\u001b[0m in \u001b[0;36m_strptime_datetime\u001b[0;34m(cls, data_string, format)\u001b[0m\n\u001b[1;32m    566\u001b[0m     \"\"\"Return a class cls instance based on the input string and the\n\u001b[1;32m    567\u001b[0m     format string.\"\"\"\n\u001b[0;32m--> 568\u001b[0;31m     \u001b[0mtt\u001b[0m\u001b[0;34m,\u001b[0m \u001b[0mfraction\u001b[0m\u001b[0;34m,\u001b[0m \u001b[0mgmtoff_fraction\u001b[0m \u001b[0;34m=\u001b[0m \u001b[0m_strptime\u001b[0m\u001b[0;34m(\u001b[0m\u001b[0mdata_string\u001b[0m\u001b[0;34m,\u001b[0m \u001b[0mformat\u001b[0m\u001b[0;34m)\u001b[0m\u001b[0;34m\u001b[0m\u001b[0;34m\u001b[0m\u001b[0m\n\u001b[0m\u001b[1;32m    569\u001b[0m     \u001b[0mtzname\u001b[0m\u001b[0;34m,\u001b[0m \u001b[0mgmtoff\u001b[0m \u001b[0;34m=\u001b[0m \u001b[0mtt\u001b[0m\u001b[0;34m[\u001b[0m\u001b[0;34m-\u001b[0m\u001b[0;36m2\u001b[0m\u001b[0;34m:\u001b[0m\u001b[0;34m]\u001b[0m\u001b[0;34m\u001b[0m\u001b[0;34m\u001b[0m\u001b[0m\n\u001b[1;32m    570\u001b[0m     \u001b[0margs\u001b[0m \u001b[0;34m=\u001b[0m \u001b[0mtt\u001b[0m\u001b[0;34m[\u001b[0m\u001b[0;34m:\u001b[0m\u001b[0;36m6\u001b[0m\u001b[0;34m]\u001b[0m \u001b[0;34m+\u001b[0m \u001b[0;34m(\u001b[0m\u001b[0mfraction\u001b[0m\u001b[0;34m,\u001b[0m\u001b[0;34m)\u001b[0m\u001b[0;34m\u001b[0m\u001b[0;34m\u001b[0m\u001b[0m\n",
      "\u001b[0;32m/usr/lib/python3.10/_strptime.py\u001b[0m in \u001b[0;36m_strptime\u001b[0;34m(data_string, format)\u001b[0m\n\u001b[1;32m    347\u001b[0m     \u001b[0mfound\u001b[0m \u001b[0;34m=\u001b[0m \u001b[0mformat_regex\u001b[0m\u001b[0;34m.\u001b[0m\u001b[0mmatch\u001b[0m\u001b[0;34m(\u001b[0m\u001b[0mdata_string\u001b[0m\u001b[0;34m)\u001b[0m\u001b[0;34m\u001b[0m\u001b[0;34m\u001b[0m\u001b[0m\n\u001b[1;32m    348\u001b[0m     \u001b[0;32mif\u001b[0m \u001b[0;32mnot\u001b[0m \u001b[0mfound\u001b[0m\u001b[0;34m:\u001b[0m\u001b[0;34m\u001b[0m\u001b[0;34m\u001b[0m\u001b[0m\n\u001b[0;32m--> 349\u001b[0;31m         raise ValueError(\"time data %r does not match format %r\" %\n\u001b[0m\u001b[1;32m    350\u001b[0m                          (data_string, format))\n\u001b[1;32m    351\u001b[0m     \u001b[0;32mif\u001b[0m \u001b[0mlen\u001b[0m\u001b[0;34m(\u001b[0m\u001b[0mdata_string\u001b[0m\u001b[0;34m)\u001b[0m \u001b[0;34m!=\u001b[0m \u001b[0mfound\u001b[0m\u001b[0;34m.\u001b[0m\u001b[0mend\u001b[0m\u001b[0;34m(\u001b[0m\u001b[0;34m)\u001b[0m\u001b[0;34m:\u001b[0m\u001b[0;34m\u001b[0m\u001b[0;34m\u001b[0m\u001b[0m\n",
      "\u001b[0;31mValueError\u001b[0m: time data '2023-12-03T00:00:00' does not match format '%Y-%m-%dT%H%M%S'"
     ]
    }
   ],
   "source": [
    "from bs4 import BeautifulSoup  # xml\n",
    "from urllib import request  #leggere dati da url\n",
    "\n",
    "url = 'https://dati.meteotrentino.it/service.asmx/ultimiDatiStazione?codice=T0212'\n",
    "response = request.urlopen(url)\n",
    "data = response.read()      # a `bytes` object\n",
    "text = data.decode('utf-8') # a `str`;\n",
    "soup = BeautifulSoup(text,'xml')\n",
    "\n",
    "list_temp = []\n",
    "list_data = []\n",
    "formato = \"%Y-%m-%dT%H%M%S\"\n",
    "for temp in soup.find_all(\"temperatura_aria\"):\n",
    "  list_data.append(dt.datetime.strptime(temp.contents[1].contents[0], formato))\n",
    "  list_temp.append(float(temp.contents[3].contents[0]))"
   ]
  },
  {
   "cell_type": "code",
   "execution_count": null,
   "metadata": {
    "colab": {
     "base_uri": "https://localhost:8080/"
    },
    "executionInfo": {
     "elapsed": 364,
     "status": "ok",
     "timestamp": 1701708735477,
     "user": {
      "displayName": "GIULIA GAREGNANI",
      "userId": "07189878603650634025"
     },
     "user_tz": -60
    },
    "id": "m_QSCGa0vJiX",
    "outputId": "c495c496-8e35-4e9d-d575-a9c2f654ce84"
   },
   "outputs": [
    {
     "data": {
      "text/plain": [
       "['2023-12-03T00:00:00',\n",
       " '2023-12-03T00:15:00',\n",
       " '2023-12-03T00:30:00',\n",
       " '2023-12-03T00:45:00',\n",
       " '2023-12-03T01:00:00']"
      ]
     },
     "execution_count": 35,
     "metadata": {},
     "output_type": "execute_result"
    }
   ],
   "source": [
    "list_data[0:5]"
   ]
  },
  {
   "cell_type": "markdown",
   "metadata": {
    "id": "OLO7V5Bxvuqs"
   },
   "source": [
    "* trasformare la lista list_data in oggetti datetime\n",
    "\n",
    "* trasformare la lista list_temp in float"
   ]
  },
  {
   "cell_type": "markdown",
   "metadata": {
    "id": "RbZs-G461UDE"
   },
   "source": [
    "Esercizio aggiuntivo:\n",
    "\n",
    "* Calcolare massimo e minimo e il tempo che intercorre tra le due temperature"
   ]
  },
  {
   "cell_type": "markdown",
   "metadata": {
    "id": "Bz-edA7SK41T"
   },
   "source": [
    "# Esercizio 1\n",
    "\n",
    "Usando le librerie statistiche e matematiche della documentazione ufficiale:\n",
    "\n",
    "\n",
    "*   Trovare il valore massimo e minimo e stampiamo la data corrispondente.\n",
    "\n",
    "*   Creare una lista con le temperature medie orarie e una lista con il tempo corrispondente\n",
    "\n",
    "Infine proviamo a leggere altri dati dal file xml.\n",
    "\n",
    "\n"
   ]
  },
  {
   "cell_type": "code",
   "execution_count": null,
   "metadata": {
    "id": "c_TN0EnnPC3X"
   },
   "outputs": [],
   "source": []
  },
  {
   "cell_type": "markdown",
   "metadata": {
    "id": "aeUcQ0CCNpel"
   },
   "source": [
    "# Esercizio 2\n",
    "\n",
    "Creiamo una classe Stazione che abbia un metodo per leggere i dati di una stazione meteorologica di meteotrentino e come attributi i dati presenti.\n",
    "\n",
    "Osserviamo che l'indirizzo url per ogni stazione è il seguente https://dati.meteotrentino.it/service.asmx/ultimiDatiStazione?codice=T0212\n",
    "\n",
    "dove alla fine dell'indirizzo troviamo il codice stazione.\n",
    "\n",
    "L'elenco delle stazioni è https://www.meteotrentino.it/index.html#!/content?menuItemDesktop=143 (controllare che la stazione sia attiva)\n",
    "\n",
    "\n",
    "Implementiamo ulteriori metodi per le analisi dei dati."
   ]
  },
  {
   "cell_type": "code",
   "execution_count": null,
   "metadata": {},
   "outputs": [],
   "source": []
  }
 ],
 "metadata": {
  "colab": {
   "provenance": [
    {
     "file_id": "1vlRLSPfO-FRssnOgAu2nYNl3MwgX24dM",
     "timestamp": 1701703108267
    }
   ]
  },
  "kernelspec": {
   "display_name": "Python 3 (ipykernel)",
   "language": "python",
   "name": "python3"
  },
  "language_info": {
   "codemirror_mode": {
    "name": "ipython",
    "version": 3
   },
   "file_extension": ".py",
   "mimetype": "text/x-python",
   "name": "python",
   "nbconvert_exporter": "python",
   "pygments_lexer": "ipython3",
   "version": "3.9.12"
  }
 },
 "nbformat": 4,
 "nbformat_minor": 4
}
