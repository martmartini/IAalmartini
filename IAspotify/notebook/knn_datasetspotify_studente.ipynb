{
  "cells": [
    {
      "cell_type": "markdown",
      "metadata": {
        "id": "fuJ1-YyQfkcY"
      },
      "source": [
        "# Preparazione del dataset\n",
        "\n",
        "Come presentato, i dati che utilizziamo provengono da una playlist di spotify.\n",
        "Di seguito alcuni link per avere maggiori informazioni.\n",
        "\n",
        "Dataset: https://www.kaggle.com/datasets/geomack/spotifyclassification/data\n",
        "\n",
        "Spotify API: https://developer.spotify.com/documentation/web-api/reference/get-audio-features\n",
        "\n",
        "Per ora, non modificare la parte seguente del codice. Assicurati di aver **creato una scorciatoia** ai dati condivisi sul tuo drive.\n",
        "\n",
        "Esegui i seguenti sei blocchi dando il consenso a Google. Quando esegui il quarto blocco, assicurati di trovare nelle tue cartelle la cartella **Modulo_IA**."
      ]
    },
    {
      "cell_type": "code",
      "execution_count": null,
      "metadata": {
        "id": "lJwdj7bwfkcc"
      },
      "outputs": [],
      "source": [
        "import numpy as np\n",
        "import pandas as pd\n",
        "import matplotlib.pyplot as plt\n",
        "import seaborn as sns\n",
        "from pathlib import Path"
      ]
    },
    {
      "cell_type": "code",
      "execution_count": null,
      "metadata": {
        "id": "9ncnudJcfkcc"
      },
      "outputs": [],
      "source": [
        "sns.set_style(\"darkgrid\")\n",
        "# sns.set_context(\"paper\", font_scale=1.2)"
      ]
    },
    {
      "cell_type": "code",
      "source": [
        "url = \"https://raw.githubusercontent.com/ggaregnani/data_spotify/refs/heads/main/data.csv\"\n",
        "df = pd.read_csv(url, encoding='utf-8', sep=',', index_col=0)\n",
        "\n",
        "df.head()"
      ],
      "metadata": {
        "colab": {
          "base_uri": "https://localhost:8080/",
          "height": 295
        },
        "id": "jDmLzagiBQam",
        "outputId": "26600ceb-768e-42e1-f50d-f968f18a874a"
      },
      "execution_count": null,
      "outputs": [
        {
          "output_type": "execute_result",
          "data": {
            "text/plain": [
              "   acousticness  danceability  duration_ms  energy  instrumentalness  key  \\\n",
              "0        0.0102         0.833       204600   0.434          0.021900    2   \n",
              "1        0.1990         0.743       326933   0.359          0.006110    1   \n",
              "2        0.0344         0.838       185707   0.412          0.000234    2   \n",
              "3        0.6040         0.494       199413   0.338          0.510000    5   \n",
              "4        0.1800         0.678       392893   0.561          0.512000    5   \n",
              "\n",
              "   liveness  loudness  mode  speechiness    tempo  time_signature  valence  \\\n",
              "0    0.1650    -8.795     1       0.4310  150.062             4.0    0.286   \n",
              "1    0.1370   -10.401     1       0.0794  160.083             4.0    0.588   \n",
              "2    0.1590    -7.148     1       0.2890   75.044             4.0    0.173   \n",
              "3    0.0922   -15.236     1       0.0261   86.468             4.0    0.230   \n",
              "4    0.4390   -11.648     0       0.0694  174.004             4.0    0.904   \n",
              "\n",
              "   target      song_title            artist  \n",
              "0       1        Mask Off            Future  \n",
              "1       1         Redbone  Childish Gambino  \n",
              "2       1    Xanny Family            Future  \n",
              "3       1  Master Of None       Beach House  \n",
              "4       1  Parallel Lines       Junior Boys  "
            ],
            "text/html": [
              "\n",
              "  <div id=\"df-a61d3f9d-ec33-438d-aa03-8be647c4f77c\" class=\"colab-df-container\">\n",
              "    <div>\n",
              "<style scoped>\n",
              "    .dataframe tbody tr th:only-of-type {\n",
              "        vertical-align: middle;\n",
              "    }\n",
              "\n",
              "    .dataframe tbody tr th {\n",
              "        vertical-align: top;\n",
              "    }\n",
              "\n",
              "    .dataframe thead th {\n",
              "        text-align: right;\n",
              "    }\n",
              "</style>\n",
              "<table border=\"1\" class=\"dataframe\">\n",
              "  <thead>\n",
              "    <tr style=\"text-align: right;\">\n",
              "      <th></th>\n",
              "      <th>acousticness</th>\n",
              "      <th>danceability</th>\n",
              "      <th>duration_ms</th>\n",
              "      <th>energy</th>\n",
              "      <th>instrumentalness</th>\n",
              "      <th>key</th>\n",
              "      <th>liveness</th>\n",
              "      <th>loudness</th>\n",
              "      <th>mode</th>\n",
              "      <th>speechiness</th>\n",
              "      <th>tempo</th>\n",
              "      <th>time_signature</th>\n",
              "      <th>valence</th>\n",
              "      <th>target</th>\n",
              "      <th>song_title</th>\n",
              "      <th>artist</th>\n",
              "    </tr>\n",
              "  </thead>\n",
              "  <tbody>\n",
              "    <tr>\n",
              "      <th>0</th>\n",
              "      <td>0.0102</td>\n",
              "      <td>0.833</td>\n",
              "      <td>204600</td>\n",
              "      <td>0.434</td>\n",
              "      <td>0.021900</td>\n",
              "      <td>2</td>\n",
              "      <td>0.1650</td>\n",
              "      <td>-8.795</td>\n",
              "      <td>1</td>\n",
              "      <td>0.4310</td>\n",
              "      <td>150.062</td>\n",
              "      <td>4.0</td>\n",
              "      <td>0.286</td>\n",
              "      <td>1</td>\n",
              "      <td>Mask Off</td>\n",
              "      <td>Future</td>\n",
              "    </tr>\n",
              "    <tr>\n",
              "      <th>1</th>\n",
              "      <td>0.1990</td>\n",
              "      <td>0.743</td>\n",
              "      <td>326933</td>\n",
              "      <td>0.359</td>\n",
              "      <td>0.006110</td>\n",
              "      <td>1</td>\n",
              "      <td>0.1370</td>\n",
              "      <td>-10.401</td>\n",
              "      <td>1</td>\n",
              "      <td>0.0794</td>\n",
              "      <td>160.083</td>\n",
              "      <td>4.0</td>\n",
              "      <td>0.588</td>\n",
              "      <td>1</td>\n",
              "      <td>Redbone</td>\n",
              "      <td>Childish Gambino</td>\n",
              "    </tr>\n",
              "    <tr>\n",
              "      <th>2</th>\n",
              "      <td>0.0344</td>\n",
              "      <td>0.838</td>\n",
              "      <td>185707</td>\n",
              "      <td>0.412</td>\n",
              "      <td>0.000234</td>\n",
              "      <td>2</td>\n",
              "      <td>0.1590</td>\n",
              "      <td>-7.148</td>\n",
              "      <td>1</td>\n",
              "      <td>0.2890</td>\n",
              "      <td>75.044</td>\n",
              "      <td>4.0</td>\n",
              "      <td>0.173</td>\n",
              "      <td>1</td>\n",
              "      <td>Xanny Family</td>\n",
              "      <td>Future</td>\n",
              "    </tr>\n",
              "    <tr>\n",
              "      <th>3</th>\n",
              "      <td>0.6040</td>\n",
              "      <td>0.494</td>\n",
              "      <td>199413</td>\n",
              "      <td>0.338</td>\n",
              "      <td>0.510000</td>\n",
              "      <td>5</td>\n",
              "      <td>0.0922</td>\n",
              "      <td>-15.236</td>\n",
              "      <td>1</td>\n",
              "      <td>0.0261</td>\n",
              "      <td>86.468</td>\n",
              "      <td>4.0</td>\n",
              "      <td>0.230</td>\n",
              "      <td>1</td>\n",
              "      <td>Master Of None</td>\n",
              "      <td>Beach House</td>\n",
              "    </tr>\n",
              "    <tr>\n",
              "      <th>4</th>\n",
              "      <td>0.1800</td>\n",
              "      <td>0.678</td>\n",
              "      <td>392893</td>\n",
              "      <td>0.561</td>\n",
              "      <td>0.512000</td>\n",
              "      <td>5</td>\n",
              "      <td>0.4390</td>\n",
              "      <td>-11.648</td>\n",
              "      <td>0</td>\n",
              "      <td>0.0694</td>\n",
              "      <td>174.004</td>\n",
              "      <td>4.0</td>\n",
              "      <td>0.904</td>\n",
              "      <td>1</td>\n",
              "      <td>Parallel Lines</td>\n",
              "      <td>Junior Boys</td>\n",
              "    </tr>\n",
              "  </tbody>\n",
              "</table>\n",
              "</div>\n",
              "    <div class=\"colab-df-buttons\">\n",
              "\n",
              "  <div class=\"colab-df-container\">\n",
              "    <button class=\"colab-df-convert\" onclick=\"convertToInteractive('df-a61d3f9d-ec33-438d-aa03-8be647c4f77c')\"\n",
              "            title=\"Convert this dataframe to an interactive table.\"\n",
              "            style=\"display:none;\">\n",
              "\n",
              "  <svg xmlns=\"http://www.w3.org/2000/svg\" height=\"24px\" viewBox=\"0 -960 960 960\">\n",
              "    <path d=\"M120-120v-720h720v720H120Zm60-500h600v-160H180v160Zm220 220h160v-160H400v160Zm0 220h160v-160H400v160ZM180-400h160v-160H180v160Zm440 0h160v-160H620v160ZM180-180h160v-160H180v160Zm440 0h160v-160H620v160Z\"/>\n",
              "  </svg>\n",
              "    </button>\n",
              "\n",
              "  <style>\n",
              "    .colab-df-container {\n",
              "      display:flex;\n",
              "      gap: 12px;\n",
              "    }\n",
              "\n",
              "    .colab-df-convert {\n",
              "      background-color: #E8F0FE;\n",
              "      border: none;\n",
              "      border-radius: 50%;\n",
              "      cursor: pointer;\n",
              "      display: none;\n",
              "      fill: #1967D2;\n",
              "      height: 32px;\n",
              "      padding: 0 0 0 0;\n",
              "      width: 32px;\n",
              "    }\n",
              "\n",
              "    .colab-df-convert:hover {\n",
              "      background-color: #E2EBFA;\n",
              "      box-shadow: 0px 1px 2px rgba(60, 64, 67, 0.3), 0px 1px 3px 1px rgba(60, 64, 67, 0.15);\n",
              "      fill: #174EA6;\n",
              "    }\n",
              "\n",
              "    .colab-df-buttons div {\n",
              "      margin-bottom: 4px;\n",
              "    }\n",
              "\n",
              "    [theme=dark] .colab-df-convert {\n",
              "      background-color: #3B4455;\n",
              "      fill: #D2E3FC;\n",
              "    }\n",
              "\n",
              "    [theme=dark] .colab-df-convert:hover {\n",
              "      background-color: #434B5C;\n",
              "      box-shadow: 0px 1px 3px 1px rgba(0, 0, 0, 0.15);\n",
              "      filter: drop-shadow(0px 1px 2px rgba(0, 0, 0, 0.3));\n",
              "      fill: #FFFFFF;\n",
              "    }\n",
              "  </style>\n",
              "\n",
              "    <script>\n",
              "      const buttonEl =\n",
              "        document.querySelector('#df-a61d3f9d-ec33-438d-aa03-8be647c4f77c button.colab-df-convert');\n",
              "      buttonEl.style.display =\n",
              "        google.colab.kernel.accessAllowed ? 'block' : 'none';\n",
              "\n",
              "      async function convertToInteractive(key) {\n",
              "        const element = document.querySelector('#df-a61d3f9d-ec33-438d-aa03-8be647c4f77c');\n",
              "        const dataTable =\n",
              "          await google.colab.kernel.invokeFunction('convertToInteractive',\n",
              "                                                    [key], {});\n",
              "        if (!dataTable) return;\n",
              "\n",
              "        const docLinkHtml = 'Like what you see? Visit the ' +\n",
              "          '<a target=\"_blank\" href=https://colab.research.google.com/notebooks/data_table.ipynb>data table notebook</a>'\n",
              "          + ' to learn more about interactive tables.';\n",
              "        element.innerHTML = '';\n",
              "        dataTable['output_type'] = 'display_data';\n",
              "        await google.colab.output.renderOutput(dataTable, element);\n",
              "        const docLink = document.createElement('div');\n",
              "        docLink.innerHTML = docLinkHtml;\n",
              "        element.appendChild(docLink);\n",
              "      }\n",
              "    </script>\n",
              "  </div>\n",
              "\n",
              "\n",
              "<div id=\"df-caf3d5a3-0d57-4704-b685-161bd9e07637\">\n",
              "  <button class=\"colab-df-quickchart\" onclick=\"quickchart('df-caf3d5a3-0d57-4704-b685-161bd9e07637')\"\n",
              "            title=\"Suggest charts\"\n",
              "            style=\"display:none;\">\n",
              "\n",
              "<svg xmlns=\"http://www.w3.org/2000/svg\" height=\"24px\"viewBox=\"0 0 24 24\"\n",
              "     width=\"24px\">\n",
              "    <g>\n",
              "        <path d=\"M19 3H5c-1.1 0-2 .9-2 2v14c0 1.1.9 2 2 2h14c1.1 0 2-.9 2-2V5c0-1.1-.9-2-2-2zM9 17H7v-7h2v7zm4 0h-2V7h2v10zm4 0h-2v-4h2v4z\"/>\n",
              "    </g>\n",
              "</svg>\n",
              "  </button>\n",
              "\n",
              "<style>\n",
              "  .colab-df-quickchart {\n",
              "      --bg-color: #E8F0FE;\n",
              "      --fill-color: #1967D2;\n",
              "      --hover-bg-color: #E2EBFA;\n",
              "      --hover-fill-color: #174EA6;\n",
              "      --disabled-fill-color: #AAA;\n",
              "      --disabled-bg-color: #DDD;\n",
              "  }\n",
              "\n",
              "  [theme=dark] .colab-df-quickchart {\n",
              "      --bg-color: #3B4455;\n",
              "      --fill-color: #D2E3FC;\n",
              "      --hover-bg-color: #434B5C;\n",
              "      --hover-fill-color: #FFFFFF;\n",
              "      --disabled-bg-color: #3B4455;\n",
              "      --disabled-fill-color: #666;\n",
              "  }\n",
              "\n",
              "  .colab-df-quickchart {\n",
              "    background-color: var(--bg-color);\n",
              "    border: none;\n",
              "    border-radius: 50%;\n",
              "    cursor: pointer;\n",
              "    display: none;\n",
              "    fill: var(--fill-color);\n",
              "    height: 32px;\n",
              "    padding: 0;\n",
              "    width: 32px;\n",
              "  }\n",
              "\n",
              "  .colab-df-quickchart:hover {\n",
              "    background-color: var(--hover-bg-color);\n",
              "    box-shadow: 0 1px 2px rgba(60, 64, 67, 0.3), 0 1px 3px 1px rgba(60, 64, 67, 0.15);\n",
              "    fill: var(--button-hover-fill-color);\n",
              "  }\n",
              "\n",
              "  .colab-df-quickchart-complete:disabled,\n",
              "  .colab-df-quickchart-complete:disabled:hover {\n",
              "    background-color: var(--disabled-bg-color);\n",
              "    fill: var(--disabled-fill-color);\n",
              "    box-shadow: none;\n",
              "  }\n",
              "\n",
              "  .colab-df-spinner {\n",
              "    border: 2px solid var(--fill-color);\n",
              "    border-color: transparent;\n",
              "    border-bottom-color: var(--fill-color);\n",
              "    animation:\n",
              "      spin 1s steps(1) infinite;\n",
              "  }\n",
              "\n",
              "  @keyframes spin {\n",
              "    0% {\n",
              "      border-color: transparent;\n",
              "      border-bottom-color: var(--fill-color);\n",
              "      border-left-color: var(--fill-color);\n",
              "    }\n",
              "    20% {\n",
              "      border-color: transparent;\n",
              "      border-left-color: var(--fill-color);\n",
              "      border-top-color: var(--fill-color);\n",
              "    }\n",
              "    30% {\n",
              "      border-color: transparent;\n",
              "      border-left-color: var(--fill-color);\n",
              "      border-top-color: var(--fill-color);\n",
              "      border-right-color: var(--fill-color);\n",
              "    }\n",
              "    40% {\n",
              "      border-color: transparent;\n",
              "      border-right-color: var(--fill-color);\n",
              "      border-top-color: var(--fill-color);\n",
              "    }\n",
              "    60% {\n",
              "      border-color: transparent;\n",
              "      border-right-color: var(--fill-color);\n",
              "    }\n",
              "    80% {\n",
              "      border-color: transparent;\n",
              "      border-right-color: var(--fill-color);\n",
              "      border-bottom-color: var(--fill-color);\n",
              "    }\n",
              "    90% {\n",
              "      border-color: transparent;\n",
              "      border-bottom-color: var(--fill-color);\n",
              "    }\n",
              "  }\n",
              "</style>\n",
              "\n",
              "  <script>\n",
              "    async function quickchart(key) {\n",
              "      const quickchartButtonEl =\n",
              "        document.querySelector('#' + key + ' button');\n",
              "      quickchartButtonEl.disabled = true;  // To prevent multiple clicks.\n",
              "      quickchartButtonEl.classList.add('colab-df-spinner');\n",
              "      try {\n",
              "        const charts = await google.colab.kernel.invokeFunction(\n",
              "            'suggestCharts', [key], {});\n",
              "      } catch (error) {\n",
              "        console.error('Error during call to suggestCharts:', error);\n",
              "      }\n",
              "      quickchartButtonEl.classList.remove('colab-df-spinner');\n",
              "      quickchartButtonEl.classList.add('colab-df-quickchart-complete');\n",
              "    }\n",
              "    (() => {\n",
              "      let quickchartButtonEl =\n",
              "        document.querySelector('#df-caf3d5a3-0d57-4704-b685-161bd9e07637 button');\n",
              "      quickchartButtonEl.style.display =\n",
              "        google.colab.kernel.accessAllowed ? 'block' : 'none';\n",
              "    })();\n",
              "  </script>\n",
              "</div>\n",
              "\n",
              "    </div>\n",
              "  </div>\n"
            ],
            "application/vnd.google.colaboratory.intrinsic+json": {
              "type": "dataframe",
              "variable_name": "df",
              "summary": "{\n  \"name\": \"df\",\n  \"rows\": 2010,\n  \"fields\": [\n    {\n      \"column\": \"acousticness\",\n      \"properties\": {\n        \"dtype\": \"number\",\n        \"std\": 0.26023573050344195,\n        \"min\": 2.84e-06,\n        \"max\": 0.995,\n        \"num_unique_values\": 1390,\n        \"samples\": [\n          0.000891,\n          0.00399,\n          0.0193\n        ],\n        \"semantic_type\": \"\",\n        \"description\": \"\"\n      }\n    },\n    {\n      \"column\": \"danceability\",\n      \"properties\": {\n        \"dtype\": \"number\",\n        \"std\": 0.161125270437212,\n        \"min\": 0.122,\n        \"max\": 0.984,\n        \"num_unique_values\": 632,\n        \"samples\": [\n          0.874,\n          0.677,\n          0.504\n        ],\n        \"semantic_type\": \"\",\n        \"description\": \"\"\n      }\n    },\n    {\n      \"column\": \"duration_ms\",\n      \"properties\": {\n        \"dtype\": \"number\",\n        \"std\": 82083,\n        \"min\": 16042,\n        \"max\": 1004627,\n        \"num_unique_values\": 1918,\n        \"samples\": [\n          171613,\n          305427,\n          239613\n        ],\n        \"semantic_type\": \"\",\n        \"description\": \"\"\n      }\n    },\n    {\n      \"column\": \"energy\",\n      \"properties\": {\n        \"dtype\": \"number\",\n        \"std\": 0.21011101266736698,\n        \"min\": 0.0148,\n        \"max\": 0.998,\n        \"num_unique_values\": 718,\n        \"samples\": [\n          0.416,\n          0.729,\n          0.402\n        ],\n        \"semantic_type\": \"\",\n        \"description\": \"\"\n      }\n    },\n    {\n      \"column\": \"instrumentalness\",\n      \"properties\": {\n        \"dtype\": \"number\",\n        \"std\": 0.27329080085427687,\n        \"min\": 0.0,\n        \"max\": 0.976,\n        \"num_unique_values\": 1102,\n        \"samples\": [\n          0.0627,\n          1.51e-05,\n          0.0121\n        ],\n        \"semantic_type\": \"\",\n        \"description\": \"\"\n      }\n    },\n    {\n      \"column\": \"key\",\n      \"properties\": {\n        \"dtype\": \"number\",\n        \"std\": 3,\n        \"min\": 0,\n        \"max\": 11,\n        \"num_unique_values\": 12,\n        \"samples\": [\n          4,\n          6,\n          2\n        ],\n        \"semantic_type\": \"\",\n        \"description\": \"\"\n      }\n    },\n    {\n      \"column\": \"liveness\",\n      \"properties\": {\n        \"dtype\": \"number\",\n        \"std\": 0.15562777817671325,\n        \"min\": 0.0188,\n        \"max\": 0.969,\n        \"num_unique_values\": 792,\n        \"samples\": [\n          0.0792,\n          0.0953,\n          0.091\n        ],\n        \"semantic_type\": \"\",\n        \"description\": \"\"\n      }\n    },\n    {\n      \"column\": \"loudness\",\n      \"properties\": {\n        \"dtype\": \"number\",\n        \"std\": 3.7607620402499307,\n        \"min\": -33.097,\n        \"max\": -0.307,\n        \"num_unique_values\": 1802,\n        \"samples\": [\n          -4.368,\n          -11.689,\n          -4.791\n        ],\n        \"semantic_type\": \"\",\n        \"description\": \"\"\n      }\n    },\n    {\n      \"column\": \"mode\",\n      \"properties\": {\n        \"dtype\": \"number\",\n        \"std\": 0,\n        \"min\": 0,\n        \"max\": 1,\n        \"num_unique_values\": 2,\n        \"samples\": [\n          0,\n          1\n        ],\n        \"semantic_type\": \"\",\n        \"description\": \"\"\n      }\n    },\n    {\n      \"column\": \"speechiness\",\n      \"properties\": {\n        \"dtype\": \"number\",\n        \"std\": 0.08990818750701123,\n        \"min\": 0.0231,\n        \"max\": 0.816,\n        \"num_unique_values\": 791,\n        \"samples\": [\n          0.368,\n          0.164\n        ],\n        \"semantic_type\": \"\",\n        \"description\": \"\"\n      }\n    },\n    {\n      \"column\": \"tempo\",\n      \"properties\": {\n        \"dtype\": \"number\",\n        \"std\": 26.64779657660764,\n        \"min\": 47.859,\n        \"max\": 219.331,\n        \"num_unique_values\": 1912,\n        \"samples\": [\n          118.031,\n          128.181\n        ],\n        \"semantic_type\": \"\",\n        \"description\": \"\"\n      }\n    },\n    {\n      \"column\": \"time_signature\",\n      \"properties\": {\n        \"dtype\": \"number\",\n        \"std\": 0.2562918448440399,\n        \"min\": 1.0,\n        \"max\": 5.0,\n        \"num_unique_values\": 4,\n        \"samples\": [\n          3.0,\n          1.0\n        ],\n        \"semantic_type\": \"\",\n        \"description\": \"\"\n      }\n    },\n    {\n      \"column\": \"valence\",\n      \"properties\": {\n        \"dtype\": \"number\",\n        \"std\": 0.2473479837913469,\n        \"min\": 0.0348,\n        \"max\": 0.992,\n        \"num_unique_values\": 852,\n        \"samples\": [\n          0.361,\n          0.306\n        ],\n        \"semantic_type\": \"\",\n        \"description\": \"\"\n      }\n    },\n    {\n      \"column\": \"target\",\n      \"properties\": {\n        \"dtype\": \"number\",\n        \"std\": 0,\n        \"min\": 0,\n        \"max\": 1,\n        \"num_unique_values\": 2,\n        \"samples\": [\n          0,\n          1\n        ],\n        \"semantic_type\": \"\",\n        \"description\": \"\"\n      }\n    },\n    {\n      \"column\": \"song_title\",\n      \"properties\": {\n        \"dtype\": \"string\",\n        \"num_unique_values\": 1949,\n        \"samples\": [\n          \"Fireflies\",\n          \"Wildcard\"\n        ],\n        \"semantic_type\": \"\",\n        \"description\": \"\"\n      }\n    },\n    {\n      \"column\": \"artist\",\n      \"properties\": {\n        \"dtype\": \"string\",\n        \"num_unique_values\": 1337,\n        \"samples\": [\n          \"Chelsea Grin\",\n          \"Anthony Wonsey Trio\"\n        ],\n        \"semantic_type\": \"\",\n        \"description\": \"\"\n      }\n    }\n  ]\n}"
            }
          },
          "metadata": {},
          "execution_count": 7
        }
      ]
    },
    {
      "cell_type": "markdown",
      "source": [
        "# PARTE 1"
      ],
      "metadata": {
        "id": "iOPDI07a5xOy"
      }
    },
    {
      "cell_type": "markdown",
      "source": [
        "## Come è fatto il nostro dataset?\n",
        "\n",
        "Scopriamo le feature (colonne) della nostra matrice.\n",
        "\n",
        "1.   `df.info()` ci permette di ottenere informazioni su ogni colonna del dataset.\n",
        "\n"
      ],
      "metadata": {
        "id": "9E29PHLhWEjq"
      }
    },
    {
      "cell_type": "code",
      "execution_count": null,
      "metadata": {
        "id": "Al5eGpRzfkcd"
      },
      "outputs": [],
      "source": []
    },
    {
      "cell_type": "markdown",
      "source": [
        "Che tipi di variabili sono? Quali colonne possiamo considerare? Ricorda che le nostre feature rappresentano le coordinate di un punto nel piano cartesiano."
      ],
      "metadata": {
        "id": "FLftzmiFn98v"
      }
    },
    {
      "cell_type": "markdown",
      "source": [
        "2.  `df[\"target\"].value_counts()` conta i valori 1 e 0 della nostra colonna target (cioè la label)."
      ],
      "metadata": {
        "id": "f32TmJsTpDwq"
      }
    },
    {
      "cell_type": "code",
      "execution_count": null,
      "metadata": {
        "id": "wD7BQ5Vifkcf"
      },
      "outputs": [],
      "source": []
    },
    {
      "cell_type": "markdown",
      "source": [
        "Com'è la distribuzione dei valori target?"
      ],
      "metadata": {
        "id": "ivSaJ4ecpTlW"
      }
    },
    {
      "cell_type": "markdown",
      "source": [
        "### Osservazioni\n",
        "\n",
        "Riporta le tue risposte"
      ],
      "metadata": {
        "id": "_E3ThnwQUmjO"
      }
    },
    {
      "cell_type": "markdown",
      "source": [
        "## Selezione delle feature (coordinate del punto)\n",
        "\n",
        "Tra le colonne numeriche del dataset iniziale seleziona le feature che secondo te possono aiutarci a predirre se una nuova canzone piace o non piace all'utente.\n",
        "\n",
        "Di seguito il codice per visualizzare il dataframe solo con le colonne numeriche.\n",
        "\n",
        "```\n",
        "numeric_cols = df.select_dtypes(include=\"number\").columns\n",
        "print(len(numeric_cols))\n",
        "df[numeric_cols].head()\n",
        "```\n"
      ],
      "metadata": {
        "id": "aCwUHBkJW_Zh"
      }
    },
    {
      "cell_type": "code",
      "source": [],
      "metadata": {
        "id": "7xSxMGzfVpQP"
      },
      "execution_count": null,
      "outputs": []
    },
    {
      "cell_type": "markdown",
      "source": [
        "Per scegliere le due feature più significative puoi aiutarti rappresentando i punti nel piano cartesiano usando il seguente codice.\n",
        "\n",
        "\n",
        "```\n",
        "fig, axes = plt.subplots(1, 2, figsize=(12, 6))\n",
        "axes = axes.flatten()\n",
        "sns.scatterplot(\n",
        "    data=df,\n",
        "    x=\"energy\",\n",
        "    y=\"loudness\",\n",
        "    ax=axes[0],\n",
        "    hue=\"target\")\n",
        "  sns.scatterplot(\n",
        "    data=df,\n",
        "    x=\"danceability\",\n",
        "    y=\"valence\",\n",
        "    ax=axes[1],\n",
        "    hue=\"target\",\n",
        ")\n",
        "fig.suptitle(\"Piano cartesiano\")\n",
        "```\n",
        "\n",
        "Ponendo x e y uguale al nome della colonna desiderata utilizzi quella feature come coordinata.\n",
        "\n"
      ],
      "metadata": {
        "id": "QcdWBCg6YVfX"
      }
    },
    {
      "cell_type": "code",
      "execution_count": null,
      "metadata": {
        "id": "zCLT652afkcj"
      },
      "outputs": [],
      "source": []
    },
    {
      "cell_type": "markdown",
      "source": [
        "Riporta qui le colonne che desideri selezionare creando:\n",
        "*   una lista con il nome delle due colonne. La lista si deve chiamare feature_columns=[\"feature1\", \"feature2\"]\n",
        "*   una lista con la colonna con le label: target_column = \"target\""
      ],
      "metadata": {
        "id": "q-jfDKXFsM7g"
      }
    },
    {
      "cell_type": "code",
      "source": [],
      "metadata": {
        "id": "xrFG8immsS8l"
      },
      "execution_count": null,
      "outputs": []
    },
    {
      "cell_type": "markdown",
      "source": [
        "### Osservazioni\n",
        "\n",
        "Riporta le tue risposte."
      ],
      "metadata": {
        "id": "dib1Ci19ZJmb"
      }
    },
    {
      "cell_type": "markdown",
      "source": [
        "## Matrice X e vettore y\n",
        "\n",
        "La seguente parte di codice ci suddivide il dataset nella matrice X di feature e nel vettore y con le label (target).\n",
        "\n",
        "\n",
        "\n",
        "```\n",
        "X = df[feature_columns]\n",
        "y = df[target_column]\n",
        "```\n",
        "\n"
      ],
      "metadata": {
        "id": "fU9alGh5acKf"
      }
    },
    {
      "cell_type": "code",
      "source": [],
      "metadata": {
        "id": "8gGpflGCbVGq"
      },
      "execution_count": null,
      "outputs": []
    },
    {
      "cell_type": "markdown",
      "source": [
        "## Divisione del dataset in train e test\n",
        "Non utilizzerai tutto il dataset per allenare il modello, ma dovrai dividerlo in due parti:\n",
        "\n",
        "1.   Train\n",
        "2.   Test\n",
        "\n",
        "Di seguito il codice che crea la martice X e il vettore y sia per il test (20% dei dati) che per il training (80% dei dati).\n",
        "\n",
        "Nella variabile \"numero elenco\" inserisci il tuo numero nell'elenco della classe.\n",
        "\n",
        "La suddivisione viene fatta in maniera casuale, ma tramite la variabile seed, inserendo un numero, il risultato sarà sempre quello (per avere gli stessi risultato tra compagni di gruppo).\n",
        "\n",
        "```\n",
        "numero_elenco =\n",
        "\n",
        "from sklearn.model_selection import train_test_split\n",
        "\n",
        "X_train, X_test, y_train, y_test = train_test_split(\n",
        "    X, y, test_size=0.2, random_state=numero_elenco\n",
        ")\n",
        "```\n",
        "\n",
        "Controlla poi il numero di righe nelle diverse matrici e nei vettori ottenuti con l'attributo `shape`.\n",
        "\n",
        "Cosa osservi?\n"
      ],
      "metadata": {
        "id": "bvUEcBzTbV7b"
      }
    },
    {
      "cell_type": "code",
      "source": [],
      "metadata": {
        "id": "s3CZ38WJd7vF"
      },
      "execution_count": null,
      "outputs": []
    },
    {
      "cell_type": "markdown",
      "source": [
        "### Osservazioni\n",
        "\n",
        "Riporta le tue osservazioni"
      ],
      "metadata": {
        "id": "qOAL_bqvd79X"
      }
    },
    {
      "cell_type": "markdown",
      "source": [
        "## Modello\n",
        "\n",
        "Costruiamo un modello basato sull'algoritmo k-NN.\n",
        "\n",
        "```\n",
        "from sklearn.neighbors import KNeighborsClassifier\n",
        "model = KNeighborsClassifier(n_neighbors=3)\n",
        "```\n"
      ],
      "metadata": {
        "id": "2Mm7ofcc-fHE"
      }
    },
    {
      "cell_type": "code",
      "source": [],
      "metadata": {
        "id": "G7wzDfqDKpTH"
      },
      "execution_count": null,
      "outputs": []
    },
    {
      "cell_type": "markdown",
      "source": [
        "**Fase di training:** alleniamo il modello con la nostra matrice di training e vettore di training.\n",
        "\n",
        "```\n",
        "model.fit(X_train, y_train)\n",
        "```\n"
      ],
      "metadata": {
        "id": "CNPE2uIMyIII"
      }
    },
    {
      "cell_type": "code",
      "source": [],
      "metadata": {
        "id": "k_r5lMnqyiHF"
      },
      "execution_count": null,
      "outputs": []
    },
    {
      "cell_type": "markdown",
      "source": [
        "**Fase di test:** Creato il modello, andiamo a prevedere se le canzoni della *matrice di test* piacciono o meno:\n",
        "```\n",
        "y_pred = model.predict(X_test)\n",
        "```\n",
        "Possiamo quindi vedere il vettore di test con i valori predetti.\n",
        "\n"
      ],
      "metadata": {
        "id": "aQxIs9j8yirA"
      }
    },
    {
      "cell_type": "code",
      "source": [],
      "metadata": {
        "id": "D_YGM3k4zIn4"
      },
      "execution_count": null,
      "outputs": []
    },
    {
      "cell_type": "markdown",
      "source": [
        "Dopo aver predetto il vettore y, come facciamo a valutare se la nostra predizione è abbastanza accurata?"
      ],
      "metadata": {
        "id": "tvXCGu7zzKeC"
      }
    },
    {
      "cell_type": "markdown",
      "source": [
        "### Osservazioni\n",
        "\n",
        "Riporta le tue osservazioni su come si potrebbe valutare l'accuratezza della predizione."
      ],
      "metadata": {
        "id": "I-Y_PbvTKp8W"
      }
    },
    {
      "cell_type": "markdown",
      "source": [
        "# PARTE 2\n",
        "\n",
        "Si procede quindi con la validazione del modello. Per valutare la sua performance andiamo a paragonare i risultati previsti con quelli misurati.\n",
        "\n",
        "Costruiamo quindi una matrice di confusione nel seguente modo:\n",
        "\n",
        "```\n",
        "from sklearn.metrics import confusion_matrix\n",
        "\n",
        "fig, ax = plt.subplots()\n",
        "\n",
        "cm = confusion_matrix(y_test, y_pred)\n",
        "\n",
        "sns.heatmap(data=cm, cmap=\"Blues\", annot=True, fmt=\"d\", ax=ax)\n",
        "ax.set_title(\"Confusion matrix\")\n",
        "ax.set_xlabel(\"Predicted\")\n",
        "ax.set_ylabel(\"Observed\")\n",
        "```\n",
        "\n"
      ],
      "metadata": {
        "id": "f8Z9v5_uhqQi"
      }
    },
    {
      "cell_type": "code",
      "source": [],
      "metadata": {
        "id": "ei3UVXtGMjmo"
      },
      "execution_count": null,
      "outputs": []
    },
    {
      "cell_type": "markdown",
      "source": [
        "## Accuratezza\n",
        "\n",
        "La variabile `cm` rappresenta la matrice di confusione. Si può accedere ai valori della matrice in maniera simile alle liste:\n",
        "\n",
        "```\n",
        "cm[0,1]\n",
        "```\n",
        "\n",
        "dove 0 è l'indice della riga della matrice e 1 l'indide della colonna.\n",
        "\n",
        "Prova a implementare la formula per il calcolo dell'accuratezza e a confrontare il valore così ottenuto con quello calcolato dal seguente codice\n",
        "\n",
        "\n",
        "```\n",
        "from sklearn.metrics import accuracy_score\n",
        "print(\"accuracy:\", accuracy_score(y_test, y_pred))\n",
        "```\n",
        "\n",
        "e riporta le tue osservazioni.\n"
      ],
      "metadata": {
        "id": "Cshqc1knMoIw"
      }
    },
    {
      "cell_type": "code",
      "source": [],
      "metadata": {
        "id": "ul2VAtC3URzk"
      },
      "execution_count": null,
      "outputs": []
    },
    {
      "cell_type": "markdown",
      "source": [
        "### Osservazioni"
      ],
      "metadata": {
        "id": "UKFXbZeNUqQJ"
      }
    },
    {
      "cell_type": "markdown",
      "source": [
        "## Ulteriori metriche\n",
        "\n",
        "Esistono ulteriori metriche come precisione e recall\n",
        "\n",
        "```\n",
        "from sklearn.metrics import precision_score, recall_score\n",
        "print(\"precision:\", precision_score(y_test, y_pred))\n",
        "print(\"recall:\", recall_score(y_test, y_pred))\n",
        "```\n",
        "\n",
        "Riportane il loro significato e la formula per ottenerle e poi confrontale con il codice qui sopra."
      ],
      "metadata": {
        "id": "4876EcXtL9VF"
      }
    },
    {
      "cell_type": "code",
      "source": [],
      "metadata": {
        "id": "-ngSNQQXVsbo"
      },
      "execution_count": null,
      "outputs": []
    },
    {
      "cell_type": "markdown",
      "source": [
        "### Osservazioni\n",
        "\n",
        "Riporta le tue osservazioni"
      ],
      "metadata": {
        "id": "b3-NHe7CVspO"
      }
    },
    {
      "cell_type": "markdown",
      "source": [
        "# PARTE 3\n",
        "\n",
        "## Scelta del modello\n",
        "\n",
        "Come abbiamo capito dall'esercitazione, cambiando l'*iperaparametro* k dell'algoritmo k-NN può cambiare il risultato.\n",
        "\n",
        "\n",
        "Di seguito il codice utilizzato precedentemente per costruire il modello.\n",
        "\n",
        "```\n",
        "from sklearn.neighbors import KNeighborsClassifier\n",
        "model = KNeighborsClassifier(n_neighbors=VALORE)\n",
        "\n",
        "model.fit(X_train, y_train)\n",
        "\n",
        "y_pred = model.predict(X_test)\n",
        "```\n",
        "\n",
        "Prova a modificare il valore di k cambiando il valore in `n_neighbors=VALORE` per ottenere un'accuratezza maggiore."
      ],
      "metadata": {
        "id": "6wGKsiWwYAnr"
      }
    },
    {
      "cell_type": "code",
      "source": [],
      "metadata": {
        "id": "njlOtz48a049"
      },
      "execution_count": null,
      "outputs": []
    },
    {
      "cell_type": "markdown",
      "source": [
        "### Osservazioni"
      ],
      "metadata": {
        "id": "Ceyel5vwbA5r"
      }
    },
    {
      "cell_type": "code",
      "source": [],
      "metadata": {
        "id": "AxyCZ0mUaV1w"
      },
      "execution_count": null,
      "outputs": []
    },
    {
      "cell_type": "markdown",
      "source": [
        "# PARTE 4\n",
        "\n",
        "##Validazione finale\n",
        "\n",
        "E ora vediamo se siamo in grado di prevedere i gusti musicali del nostro utente.\n",
        "\n",
        "Carichiamo dei nuovi dati e supponiamo di non conoscere la label (etichetta).\n",
        "\n",
        "\n",
        "\n",
        "```\n",
        "url = \"https://raw.githubusercontent.com/ggaregnani/data_spotify/refs/heads/main/validation.csv\"\n",
        "df_validation = pd.read_csv(url, index_col=0)\n",
        "\n",
        "X_validation = df_validation[feature_columns]\n",
        "\n",
        "X_validation\n",
        "```\n",
        "\n"
      ],
      "metadata": {
        "id": "sUz5At6XaMH9"
      }
    },
    {
      "cell_type": "code",
      "source": [],
      "metadata": {
        "id": "j_-HaMITMkFe"
      },
      "execution_count": null,
      "outputs": []
    },
    {
      "cell_type": "markdown",
      "source": [
        "Andiamo a prevedere se le canzoni contenute nel file \"validation\" piacciono o non piacciono all'utente."
      ],
      "metadata": {
        "id": "1lNDVw67MShi"
      }
    },
    {
      "cell_type": "code",
      "source": [],
      "metadata": {
        "id": "6CcGoGUYcmL3"
      },
      "execution_count": null,
      "outputs": []
    },
    {
      "cell_type": "markdown",
      "source": [
        "Confrontiamo ora la nostra previsione con i valori reali `y_reale = df_validation[target_column]`"
      ],
      "metadata": {
        "id": "LVyzJYs_cmkW"
      }
    },
    {
      "cell_type": "code",
      "source": [],
      "metadata": {
        "id": "xKbBnXrEc1uF"
      },
      "execution_count": null,
      "outputs": []
    }
  ],
  "metadata": {
    "kernelspec": {
      "display_name": "Python 3 (ipykernel)",
      "language": "python",
      "name": "python3"
    },
    "language_info": {
      "codemirror_mode": {
        "name": "ipython",
        "version": 3
      },
      "file_extension": ".py",
      "mimetype": "text/x-python",
      "name": "python",
      "nbconvert_exporter": "python",
      "pygments_lexer": "ipython3",
      "version": "3.11.7"
    },
    "colab": {
      "provenance": []
    }
  },
  "nbformat": 4,
  "nbformat_minor": 0
}